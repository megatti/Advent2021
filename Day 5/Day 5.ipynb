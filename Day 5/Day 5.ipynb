{
 "cells": [
  {
   "cell_type": "markdown",
   "id": "0c8eaf72-1048-482f-8d92-e5d12cdea48f",
   "metadata": {},
   "source": [
    "## Day 5\n",
    "\n",
    "# Part 1"
   ]
  },
  {
   "cell_type": "code",
   "execution_count": 147,
   "id": "1cc166b0-aadc-4988-8ee0-c35134541061",
   "metadata": {},
   "outputs": [],
   "source": [
    "import numpy as np"
   ]
  },
  {
   "cell_type": "code",
   "execution_count": 170,
   "id": "14f3c867-caa7-4779-b0a5-1c85c91f518b",
   "metadata": {},
   "outputs": [],
   "source": [
    "paths = []\n",
    "with open(\"paths.txt\", \"r\") as f:\n",
    "    for line in f.readlines():\n",
    "        pair1, pair2 = line.strip().split(\" -> \")\n",
    "        pair1 = [int(i) for i in pair1.split(\",\")]\n",
    "        pair2 = [int(i) for i in pair2.split(\",\")]\n",
    "        paths.append([pair1, pair2])\n",
    "        \n",
    "# print(paths)"
   ]
  },
  {
   "cell_type": "code",
   "execution_count": 171,
   "id": "ce940853-dad0-44a0-8d25-4f7200d0dcbd",
   "metadata": {},
   "outputs": [],
   "source": [
    "# We only care about straight lines in part 1 i.e. x1 = x2 OR y1 = y2\n",
    "diagonals = []\n",
    "indices_to_remove = []\n",
    "for index, path in enumerate(paths):\n",
    "    if path[0][0] != path[1][0] and path[0][1] != path[1][1]:\n",
    "        indices_to_remove.append(index)\n",
    "        diagonals.append(path)\n",
    "        \n",
    "for index in sorted(indices_to_remove, reverse=True):\n",
    "    paths.pop(index)\n",
    "\n",
    "# for path in paths:\n",
    "    # print(path)"
   ]
  },
  {
   "cell_type": "code",
   "execution_count": 172,
   "id": "2cd4a03e-de28-4a6c-a154-4abc5e52038d",
   "metadata": {},
   "outputs": [],
   "source": [
    "# need to sort paths so smaller numbers on the left\n",
    "sorted_paths = []\n",
    "for path in paths:\n",
    "    sorted_paths.append(sorted(path, key=lambda x:sum(x)))\n",
    "\n",
    "paths = sorted_paths[:]\n",
    "\n",
    "# for path in paths:\n",
    "#     print(path)"
   ]
  },
  {
   "cell_type": "code",
   "execution_count": 173,
   "id": "85f99acf-863a-4692-bed2-e54316e3cbff",
   "metadata": {},
   "outputs": [
    {
     "name": "stdout",
     "output_type": "stream",
     "text": [
      "[[0. 0. 0. ... 0. 0. 0.]\n",
      " [0. 0. 0. ... 0. 0. 0.]\n",
      " [0. 0. 0. ... 0. 0. 0.]\n",
      " ...\n",
      " [0. 0. 0. ... 0. 0. 0.]\n",
      " [0. 0. 0. ... 0. 0. 0.]\n",
      " [0. 0. 0. ... 0. 0. 0.]]\n",
      "At least two vents overlap at 6005 points.\n"
     ]
    }
   ],
   "source": [
    "x_coords = []\n",
    "y_coords = []\n",
    "for path in paths:\n",
    "    for coord in path:\n",
    "        x_coords.append(coord[0])\n",
    "        y_coords.append(coord[1])\n",
    "        \n",
    "max_x = max(x_coords)+1\n",
    "max_y = max(y_coords)+1\n",
    "\n",
    "field = np.zeros([max_x+1, max_y+1])\n",
    "\n",
    "for path in paths:\n",
    "    field[path[0][0]:path[1][0]+1, path[0][1]:path[1][1]+1] += 1\n",
    "    \n",
    "print(np.transpose(field)[:-1, :-1])\n",
    "\n",
    "view = np.transpose(field)[:-1, :-1]\n",
    "print(f\"At least two vents overlap at {view[view >= 2].size} points.\")"
   ]
  },
  {
   "cell_type": "markdown",
   "id": "2b99c719-a8c0-43bd-a630-9174131030ba",
   "metadata": {},
   "source": [
    "# Part 2"
   ]
  },
  {
   "cell_type": "code",
   "execution_count": 176,
   "id": "f5a16552-047b-4fee-8d4e-2b2712137d6b",
   "metadata": {},
   "outputs": [
    {
     "name": "stdout",
     "output_type": "stream",
     "text": [
      "[[0. 0. 0. ... 0. 0. 0.]\n",
      " [0. 0. 0. ... 0. 0. 0.]\n",
      " [0. 0. 0. ... 0. 0. 0.]\n",
      " ...\n",
      " [0. 0. 0. ... 0. 0. 0.]\n",
      " [0. 0. 0. ... 0. 0. 0.]\n",
      " [0. 0. 0. ... 0. 0. 0.]]\n"
     ]
    }
   ],
   "source": [
    "# print(diagonals)\n",
    "\n",
    "sorted_diags = []\n",
    "for path in diagonals:\n",
    "    sorted_diags.append(sorted(path, key=lambda x:sum(x)))\n",
    "\n",
    "diagonals = sorted_diags[:]\n",
    "\n",
    "print(field)"
   ]
  },
  {
   "cell_type": "code",
   "execution_count": 175,
   "id": "6820e9f5-6b4e-42f1-a0ea-af2dbb25c8b9",
   "metadata": {},
   "outputs": [
    {
     "name": "stdout",
     "output_type": "stream",
     "text": [
      "[[0. 0. 0. ... 0. 0. 0.]\n",
      " [0. 0. 0. ... 0. 0. 0.]\n",
      " [0. 0. 0. ... 0. 0. 0.]\n",
      " ...\n",
      " [0. 0. 0. ... 0. 0. 0.]\n",
      " [0. 0. 0. ... 0. 0. 0.]\n",
      " [0. 0. 0. ... 0. 0. 0.]]\n",
      "At least two vents overlap at 23864 points.\n"
     ]
    }
   ],
   "source": [
    "# From a pair specifying a diagonal, make a list of all points that covers and then just change those?\n",
    "# probably inefficient but maybe simpler\n",
    "new_field = np.copy(field)\n",
    "\n",
    "for pair in diagonals:\n",
    "    if pair[0][0] > pair[1][0]:\n",
    "        xs = [i for i in range(pair[0][0], pair[1][0]-1, -1)]\n",
    "    else:\n",
    "        xs = [i for i in range(pair[0][0], pair[1][0]+1)]\n",
    "\n",
    "    if pair[0][1] > pair[1][1]:\n",
    "        ys = [i for i in range(pair[0][1], pair[1][1]-1, -1)]\n",
    "    else:\n",
    "        ys = [i for i in range(pair[0][1], pair[1][1]+1)]\n",
    "\n",
    "    # print(list(zip(xs, ys)))\n",
    "\n",
    "    for coords in zip(xs, ys):\n",
    "        field[coords] += 1\n",
    "            \n",
    "print(field)\n",
    "view = np.transpose(field)[:-1, :-1]\n",
    "print(f\"At least two vents overlap at {view[view >= 2].size} points.\")\n",
    "\n",
    "field = np.copy(new_field)"
   ]
  }
 ],
 "metadata": {
  "kernelspec": {
   "display_name": "Python 3 (ipykernel)",
   "language": "python",
   "name": "python3"
  },
  "language_info": {
   "codemirror_mode": {
    "name": "ipython",
    "version": 3
   },
   "file_extension": ".py",
   "mimetype": "text/x-python",
   "name": "python",
   "nbconvert_exporter": "python",
   "pygments_lexer": "ipython3",
   "version": "3.9.7"
  }
 },
 "nbformat": 4,
 "nbformat_minor": 5
}
