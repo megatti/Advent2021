{
 "cells": [
  {
   "cell_type": "markdown",
   "id": "6543130c-8615-4615-99c9-65c6ad5a3c70",
   "metadata": {},
   "source": [
    "# Day 19\n",
    "## Part 1"
   ]
  },
  {
   "cell_type": "code",
   "execution_count": 8,
   "id": "77f6310c-34ef-456a-bb64-d951cdc701e0",
   "metadata": {},
   "outputs": [],
   "source": [
    "import numpy as np"
   ]
  },
  {
   "cell_type": "code",
   "execution_count": 26,
   "id": "b0ff9e7a-d998-4bac-b212-a4a665b342b9",
   "metadata": {},
   "outputs": [
    {
     "name": "stdout",
     "output_type": "stream",
     "text": [
      "[[ 404 -588 -901]\n",
      " [ 528 -643  409]\n",
      " [-838  591  734]\n",
      " [ 390 -675 -793]\n",
      " [-537 -823 -458]]\n",
      "[ 404  528 -838  390 -537]\n",
      "[[ 404 -588 -901]\n",
      " [ 528 -643  409]\n",
      " [-838  591  734]\n",
      " [ 390 -675 -793]\n",
      " [-537 -823 -458]]\n"
     ]
    }
   ],
   "source": [
    "scanners = []\n",
    "\n",
    "with open(\"ex1.txt\") as f:\n",
    "    for scanner in f.read().split(\"\\n\\n\"):\n",
    "        field = []\n",
    "        coords = scanner.split(\" ---\\n\")[1]\n",
    "        # print(coords)\n",
    "        for line in coords.split(\"\\n\"):\n",
    "            line = line.strip()\n",
    "            coord_list = np.array([int(n) for n in line.split(\",\")])\n",
    "            field.append(coord_list)\n",
    "        scanners.append(np.array(field))\n",
    "        \n",
    "print(scanners[0][0:5])\n",
    "print(scanners[0][:, 0][0:5])\n",
    "print(np.stack([scanners[0][:, 0][0:5], scanners[0][:, 1][0:5], scanners[0][:, 2][0:5]], axis=1))"
   ]
  },
  {
   "cell_type": "code",
   "execution_count": 41,
   "id": "13900caf-4206-4a90-8508-62cae00e02e3",
   "metadata": {},
   "outputs": [
    {
     "name": "stdout",
     "output_type": "stream",
     "text": [
      "[[ 404 -588 -901]\n",
      " [ 528 -643  409]\n",
      " [-838  591  734]\n",
      " [ 390 -675 -793]\n",
      " [-537 -823 -458]]\n",
      "rotations:\n",
      "24\n"
     ]
    }
   ],
   "source": [
    "# I have a list of multiple numpy arrays\n",
    "# Each numpy array is an array of coordinates\n",
    "# I need to be able to get a list of rotations of this\n",
    "\n",
    "def gen_rotations(coord_array):\n",
    "    # arrays of all x, y, z coords\n",
    "    x = coord_array[:, 0]\n",
    "    y = coord_array[:, 1]\n",
    "    z = coord_array[:, 2]\n",
    "    \n",
    "    rots = [np.stack([x, y, z], axis=1), np.stack([x, -y, -z], axis=1), \n",
    "            np.stack([-x, y, -z], axis=1), np.stack([-x, -y, z], axis=1), \n",
    "            np.stack([x, z, -y], axis=1), np.stack([x, -z, y], axis=1),\n",
    "            np.stack([-x, z, y], axis=1), np.stack([-x, -z, -y], axis=1),\n",
    "            np.stack([y, z, x], axis=1), np.stack([y, -z, -x], axis=1),\n",
    "            np.stack([-y, z, -x], axis=1), np.stack([-y, -z, x], axis=1),\n",
    "            np.stack([y, x, -z], axis=1), np.stack([y, -x, z], axis=1),\n",
    "            np.stack([-y, x, z], axis=1), np.stack([-y, -x, -z], axis=1),\n",
    "            np.stack([z, x, y], axis=1), np.stack([z, -x, -y], axis=1), \n",
    "            np.stack([-z, x, -y], axis=1), np.stack([-z, -x, y], axis=1), \n",
    "            np.stack([z, y, -x], axis=1), np.stack([z, -y, x], axis=1), \n",
    "            np.stack([-z, y, x], axis=1), np.stack([-z, -y, -x], axis=1)]\n",
    "    \n",
    "    return rots\n",
    "\n",
    "test = scanners[0][0:5]\n",
    "print(test)\n",
    "print(\"rotations:\")\n",
    "\n",
    "rot_set = set()\n",
    "rotations = gen_rotations(test)\n",
    "for rot in rotations:\n",
    "    rot_set.add(tuple(rot[0]))\n",
    "    \n",
    "print(len(rot_set))"
   ]
  },
  {
   "cell_type": "markdown",
   "id": "b11de34f-3dd2-4e63-8850-5baaec1888b5",
   "metadata": {},
   "source": [
    "Ok, I can now rotate each list of points so that I get 24 different ways corresponding to the 24 ways the scanner could be facing and rotated.\n",
    "\n",
    "I now need a way to go and centre an array according to each point in it i.e. in turn, set each point as the origin."
   ]
  },
  {
   "cell_type": "code",
   "execution_count": 46,
   "id": "23bb63e8-2c56-4578-9d97-28b132c10a2d",
   "metadata": {},
   "outputs": [
    {
     "name": "stdout",
     "output_type": "stream",
     "text": [
      "[[    0     0     0]\n",
      " [  124   -55  1310]\n",
      " [-1242  1179  1635]\n",
      " [  -14   -87   108]\n",
      " [ -941  -235   443]]\n",
      "[[ -124    55 -1310]\n",
      " [    0     0     0]\n",
      " [-1366  1234   325]\n",
      " [ -138   -32 -1202]\n",
      " [-1065  -180  -867]]\n",
      "[[ 1242 -1179 -1635]\n",
      " [ 1366 -1234  -325]\n",
      " [    0     0     0]\n",
      " [ 1228 -1266 -1527]\n",
      " [  301 -1414 -1192]]\n",
      "[[   14    87  -108]\n",
      " [  138    32  1202]\n",
      " [-1228  1266  1527]\n",
      " [    0     0     0]\n",
      " [ -927  -148   335]]\n",
      "[[ 941  235 -443]\n",
      " [1065  180  867]\n",
      " [-301 1414 1192]\n",
      " [ 927  148 -335]\n",
      " [   0    0    0]]\n"
     ]
    }
   ],
   "source": [
    "def gen_origins(coord_array):\n",
    "    for xyz in coord_array:  # for each [x, y, z]\n",
    "        yield coord_array - xyz  # subtract that from each of them\n",
    "        \n",
    "for i in gen_origins(test):\n",
    "    print(i)"
   ]
  },
  {
   "cell_type": "markdown",
   "id": "5d8cab4e-aa03-4be8-9b94-7a68e56ef1f0",
   "metadata": {},
   "source": [
    "Now I need a way to basically compare two arrays and see if they have at least 12 rows that are the same. If so, then they have 12 overlapping points."
   ]
  },
  {
   "cell_type": "code",
   "execution_count": 283,
   "id": "4271f39d-6a9d-401b-8b73-d12de5324c5f",
   "metadata": {},
   "outputs": [
    {
     "name": "stdout",
     "output_type": "stream",
     "text": [
      "2\n"
     ]
    }
   ],
   "source": [
    "test = np.array([[1, 2], [3, 4], [5, 6]])\n",
    "test2 = np.array([[1, 2], [3, 4], [7, 8]])\n",
    "# print(np.all(np.isin(test, test2), axis=1))\n",
    "\n",
    "# def count_same_rows(array1, array2):\n",
    "#     # THIS DOESN'T WORK RIGHT\n",
    "#     # JUST CHECKS FOR ELEMENTS INDIVIDUALLY INSTEAD OF ROWS\n",
    "#     # HMMMM\n",
    "#     return np.sum(np.all(np.isin(array1, array2), axis=1))\n",
    "\n",
    "def get_shared_rows(array1, array2):\n",
    "    return set(tuple(i) for i in array1) & set(tuple(i) for i in array2)\n",
    "\n",
    "def count_same_rows(array1, array2):\n",
    "    # Creates a set of the rows of array1, then rows of array2, then intersection of them both\n",
    "    shared = get_shared_rows(array1, array2)\n",
    "    return len(shared)\n",
    "\n",
    "print(count_same_rows(test, test2))"
   ]
  },
  {
   "cell_type": "markdown",
   "id": "ecd72562-8e32-4c88-bd46-bc4ee6ed1c68",
   "metadata": {},
   "source": [
    "The problem says that for the examples, scanner 0 and scanner 1 have 12 points overlapping. Let's try to find them."
   ]
  },
  {
   "cell_type": "markdown",
   "id": "eae2270c-5633-4b38-8a0e-4b9129c39106",
   "metadata": {},
   "source": [
    "Maybe I should change my logic.\n",
    "\n",
    "How about I create a dictionary tracking the coordinates of every scanner that I know? Then, I only work comparing the rest of the scanners to a scanner that I know the coordinates of. That way, I can use the fact I know its coordinates to help :O\n",
    "\n",
    "The only problem then is that I need to work out how to find the coordinate of a scanner from a pair of coordinates that I know are equivalent, but I can at least get those coordinates during the loop usingenumerate above, I think. Maybe.\n",
    "Will come back to this."
   ]
  },
  {
   "cell_type": "code",
   "execution_count": 284,
   "id": "3de6b80e-61b0-42a5-8b5e-82b3bf822d92",
   "metadata": {},
   "outputs": [
    {
     "name": "stdout",
     "output_type": "stream",
     "text": [
      "[[-686  422 -578]\n",
      " [-605  423 -415]\n",
      " [-515  917  361]\n",
      " [ 336  658 -858]\n",
      " [ -95  138  -22]\n",
      " [ 476  619 -847]\n",
      " [ 340 -569  846]\n",
      " [-567 -361 -727]\n",
      " [ 460  603  452]\n",
      " [-669 -402 -600]\n",
      " [-729  430 -532]\n",
      " [ 500 -761 -534]\n",
      " [ 322  571 -750]\n",
      " [ 466 -666  811]\n",
      " [ 429 -592 -574]\n",
      " [ 355  545  477]\n",
      " [-703 -491  529]\n",
      " [ 328 -685 -520]\n",
      " [-413  935  424]\n",
      " [ 391  539  444]\n",
      " [-586 -435 -557]\n",
      " [ 364 -763  893]\n",
      " [-807 -499  711]\n",
      " [-755 -354  619]\n",
      " [-553  889  390]]\n",
      "\n",
      "[[-686  422 -578]\n",
      " [-605  423 -415]\n",
      " [-515  917  361]\n",
      " [ 336  658 -858]\n",
      " [ -95  138  -22]\n",
      " [ 476  619 -847]\n",
      " [ 340 -569  846]\n",
      " [-567 -361 -727]\n",
      " [ 460  603  452]\n",
      " [-669 -402 -600]\n",
      " [-729  430 -532]\n",
      " [ 500 -761 -534]\n",
      " [ 322  571 -750]\n",
      " [ 466 -666  811]\n",
      " [ 429 -592 -574]\n",
      " [ 355  545  477]\n",
      " [-703 -491  529]\n",
      " [ 328 -685 -520]\n",
      " [-413  935  424]\n",
      " [ 391  539  444]\n",
      " [-586 -435 -557]\n",
      " [ 364 -763  893]\n",
      " [-807 -499  711]\n",
      " [-755 -354  619]\n",
      " [-553  889  390]]\n",
      "[   68 -1246   -43]\n"
     ]
    }
   ],
   "source": [
    "def match_fields(field1, field2, match_min=12, testing=False):\n",
    "    \"\"\"\n",
    "    Match field2 to field1 by rotating and trying to match each probe.\n",
    "    Returns (field2 rotated to the direction that matches, origin of field2 with respect to the origin of field1)\n",
    "    \"\"\"\n",
    "    for field2_rot in gen_rotations(field2):\n",
    "        # rotate field2 to some orientation\n",
    "        for index_f1, field1_centred in enumerate(gen_origins(field1)):\n",
    "            # centre field1 wrt each of its probes\n",
    "            for index_f2, field2_rot_centred in enumerate(gen_origins(field2_rot)):\n",
    "                # centre field2 wrt each of its probes\n",
    "                # at some point, the probe that they are centred wrt will be the same one if they overlap\n",
    "                if count_same_rows(field1_centred, field2_rot_centred) >= match_min:\n",
    "                    # If over the limit matches are found, then they overlap\n",
    "                    # Get the coords of this matching probe in each coordinate system\n",
    "                    \n",
    "                    # print(\"this is the function talking!\")\n",
    "                    # print(\"field1_centred and field2_rot_centred: (there should be at least 12 matches)\")\n",
    "                    # print(field1_centred)\n",
    "                    # print(field2_rot_centred)\n",
    "                    # print(\"done talking\")\n",
    "                    # print()\n",
    "                    \n",
    "                    orig_probe1 = field1[index_f1]\n",
    "                    orig_probe2 = field2_rot[index_f2]\n",
    "                    \n",
    "                    origin_field2 = orig_probe1 - orig_probe2  # origin of field2 wrt field1\n",
    "                    \n",
    "                    # now, return the correctly rotated field2 and its origin\n",
    "                    if testing:\n",
    "                        return (field2_rot, origin_field2, field1_centred, field2_rot_centred,\n",
    "                               count_same_rows(field1_centred, field2_rot_centred))\n",
    "                    else:\n",
    "                        return (field2_rot, origin_field2)\n",
    "    # if here is reached, then no matches are found\n",
    "    return None\n",
    "\n",
    "match = match_fields(scanners[0], scanners[1])\n",
    "print(match[0])\n",
    "print()\n",
    "print(correct_fields[\"scanner1\"])\n",
    "print(match[1])\n",
    "# this correctly gets the centre! nice"
   ]
  },
  {
   "cell_type": "code",
   "execution_count": 285,
   "id": "2accc3f1-536c-48f8-853b-b21075572e23",
   "metadata": {},
   "outputs": [
    {
     "name": "stdout",
     "output_type": "stream",
     "text": [
      "New run. known_centres:\n",
      "['scanner0']\n",
      "What are the origins though?? :/\n",
      "I think scanner0 has origin [0 0 0]\n",
      "I think scanner1 has origin [   68 -1246   -43] wrt above.\n",
      "So wrt scanner0, has origin [   68 -1246   -43]?\n",
      "\n",
      "New run. known_centres:\n",
      "['scanner0', 'scanner1']\n",
      "What are the origins though?? :/\n",
      "I think scanner1 has origin [   68 -1246   -43]\n",
      "I think scanner3 has origin [ -160 -1134    23] wrt above.\n",
      "So wrt scanner0, has origin [  -92 -2380   -20]?\n",
      "\n",
      "What are the origins though?? :/\n",
      "I think scanner1 has origin [   68 -1246   -43]\n",
      "I think scanner4 has origin [ -88  113 1104] wrt above.\n",
      "So wrt scanner0, has origin [  -20 -1133  1061]?\n",
      "\n",
      "New run. known_centres:\n",
      "['scanner0', 'scanner1', 'scanner3', 'scanner4']\n",
      "What are the origins though?? :/\n",
      "I think scanner4 has origin [  -20 -1133  1061]\n",
      "I think scanner2 has origin [1125  -72  168] wrt above.\n",
      "So wrt scanner0, has origin [ 1105 -1205  1229]?\n",
      "\n"
     ]
    }
   ],
   "source": [
    "known_centres = {\"scanner0\": np.array([0, 0, 0])}\n",
    "correct_fields = {\"scanner0\": scanners[0]}\n",
    "fields = {f\"scanner{index}\": field for index, field in enumerate(scanners)}\n",
    "compared = set()\n",
    "\n",
    "while len(known_centres.keys()) < len(fields.keys()):  # while not all fields are known\n",
    "    print(\"New run. known_centres:\")\n",
    "    print([i for i in known_centres.keys()])\n",
    "    old_correct_fields = {key: value for key, value in correct_fields.items()}\n",
    "    for field_name, field in fields.items():\n",
    "        if field_name in old_correct_fields.keys():\n",
    "            continue  # already found a correct_field\n",
    "        # compare this field to each field I already know the correct rotation of\n",
    "        for correct_name, correct in old_correct_fields.items():\n",
    "            if field_name + correct_name in compared:\n",
    "                # already been compared\n",
    "                continue\n",
    "            match = match_fields(correct, field)\n",
    "            if match is None:\n",
    "                # no match found\n",
    "                compared.add(field_name + correct_name)\n",
    "                continue\n",
    "            else:\n",
    "                # match has been found\n",
    "                compared.add(field_name + correct_name)\n",
    "                rotated_field, new_origin = match\n",
    "                correct_fields[field_name] = rotated_field\n",
    "                print(\"What are the origins though?? :/\")\n",
    "                print(f\"I think {correct_name} has origin {known_centres[correct_name]}\")\n",
    "                print(f\"I think {field_name} has origin {new_origin} wrt above.\")\n",
    "                print(f\"So wrt scanner0, has origin {new_origin + known_centres[correct_name]}?\")\n",
    "                print()\n",
    "                known_centres[field_name] = new_origin + known_centres[correct_name]"
   ]
  },
  {
   "cell_type": "code",
   "execution_count": 286,
   "id": "fe076d72-e507-4642-bc79-2918e2b53a4d",
   "metadata": {},
   "outputs": [
    {
     "name": "stdout",
     "output_type": "stream",
     "text": [
      "scanner0 [0 0 0]\n",
      "scanner1 [   68 -1246   -43]\n",
      "scanner3 [  -92 -2380   -20]\n",
      "scanner4 [  -20 -1133  1061]\n",
      "scanner2 [ 1105 -1205  1229]\n"
     ]
    }
   ],
   "source": [
    "for k, v in known_centres.items():\n",
    "    print(k, v)\n",
    "# these are correct! poggers"
   ]
  },
  {
   "cell_type": "markdown",
   "id": "863da512-01d4-4800-be0b-6fd433c11fe2",
   "metadata": {},
   "source": [
    "Now I have the centres, I can use the correct_fields thing to just get a set of all probes and then cound the length of that set."
   ]
  },
  {
   "cell_type": "code",
   "execution_count": 297,
   "id": "2d6e9692-2833-4c22-b407-a1db3abcf9c8",
   "metadata": {},
   "outputs": [
    {
     "name": "stdout",
     "output_type": "stream",
     "text": [
      "79\n"
     ]
    }
   ],
   "source": [
    "probes = set()\n",
    "for name, field in correct_fields.items():\n",
    "    moved_field = field + known_centres[name]\n",
    "    for row in moved_field:\n",
    "        probes.add(tuple(row))\n",
    "        \n",
    "print(len(probes))"
   ]
  },
  {
   "cell_type": "markdown",
   "id": "e250e81e-59dc-4a94-a14e-39a99780e174",
   "metadata": {},
   "source": [
    "Now I'm getting the right answer for the example, time to do the same with the actual input."
   ]
  },
  {
   "cell_type": "code",
   "execution_count": 338,
   "id": "bf0134e5-b32b-4db5-849f-409e27de1325",
   "metadata": {},
   "outputs": [
    {
     "name": "stdout",
     "output_type": "stream",
     "text": [
      "[[ 497 -409 -534]\n",
      " [-367  419 -378]\n",
      " [  42  122   52]\n",
      " [-639 -583 -417]\n",
      " [-698 -415  664]]\n",
      "[ 497 -367   42 -639 -698]\n",
      "[[ 497 -409 -534]\n",
      " [-367  419 -378]\n",
      " [  42  122   52]\n",
      " [-639 -583 -417]\n",
      " [-698 -415  664]]\n"
     ]
    }
   ],
   "source": [
    "scanners = []\n",
    "\n",
    "with open(\"scanners.txt\") as f:\n",
    "    for scanner in f.read().split(\"\\n\\n\"):\n",
    "        field = []\n",
    "        coords = scanner.split(\" ---\\n\")[1]\n",
    "        # print(coords)\n",
    "        for line in coords.split(\"\\n\"):\n",
    "            line = line.strip()\n",
    "            coord_list = np.array([int(n) for n in line.split(\",\")])\n",
    "            field.append(coord_list)\n",
    "        scanners.append(np.array(field))\n",
    "        \n",
    "print(scanners[0][0:5])\n",
    "print(scanners[0][:, 0][0:5])\n",
    "print(np.stack([scanners[0][:, 0][0:5], scanners[0][:, 1][0:5], scanners[0][:, 2][0:5]], axis=1))"
   ]
  },
  {
   "cell_type": "code",
   "execution_count": 339,
   "id": "8f349ecd-d22f-41c6-bc1b-9afe40136939",
   "metadata": {},
   "outputs": [
    {
     "name": "stdout",
     "output_type": "stream",
     "text": [
      "New run. known_centres:\n",
      "['scanner0']\n",
      "I think scanner0 has origin [0 0 0] and I think scanner7 has origin [1149  103  -42] wrt above.\n",
      "So wrt scanner0, scanner7 has origin [1149  103  -42]?\n",
      "I think scanner0 has origin [0 0 0] and I think scanner25 has origin [ -27  -23 1101] wrt above.\n",
      "So wrt scanner0, scanner25 has origin [ -27  -23 1101]?\n",
      "New run. known_centres:\n",
      "['scanner0', 'scanner7', 'scanner25']\n",
      "I think scanner25 has origin [ -27  -23 1101] and I think scanner3 has origin [ -81 1273  -33] wrt above.\n",
      "So wrt scanner0, scanner3 has origin [-108 1250 1068]?\n",
      "I think scanner7 has origin [1149  103  -42] and I think scanner34 has origin [1108  -34   52] wrt above.\n",
      "So wrt scanner0, scanner34 has origin [2257   69   10]?\n",
      "I think scanner7 has origin [1149  103  -42] and I think scanner35 has origin [   88 -1241   -64] wrt above.\n",
      "So wrt scanner0, scanner35 has origin [ 1237 -1138  -106]?\n",
      "New run. known_centres:\n",
      "['scanner0', 'scanner7', 'scanner25', 'scanner3', 'scanner34', 'scanner35']\n",
      "I think scanner3 has origin [-108 1250 1068] and I think scanner2 has origin [-1163    61    58] wrt above.\n",
      "So wrt scanner0, scanner2 has origin [-1271  1311  1126]?\n",
      "I think scanner34 has origin [2257   69   10] and I think scanner6 has origin [  137 -1220   -72] wrt above.\n",
      "So wrt scanner0, scanner6 has origin [ 2394 -1151   -62]?\n",
      "I think scanner35 has origin [ 1237 -1138  -106] and I think scanner6 has origin [1157  -13   44] wrt above.\n",
      "So wrt scanner0, scanner6 has origin [ 2394 -1151   -62]?\n",
      "I think scanner3 has origin [-108 1250 1068] and I think scanner10 has origin [1241   23   87] wrt above.\n",
      "So wrt scanner0, scanner10 has origin [1133 1273 1155]?\n",
      "I think scanner35 has origin [ 1237 -1138  -106] and I think scanner21 has origin [  -46 -1130   137] wrt above.\n",
      "So wrt scanner0, scanner21 has origin [ 1191 -2268    31]?\n",
      "I think scanner34 has origin [2257   69   10] and I think scanner23 has origin [   98    38 -1180] wrt above.\n",
      "So wrt scanner0, scanner23 has origin [ 2355   107 -1170]?\n",
      "I think scanner34 has origin [2257   69   10] and I think scanner27 has origin [1276   15  -71] wrt above.\n",
      "So wrt scanner0, scanner27 has origin [3533   84  -61]?\n",
      "I think scanner34 has origin [2257   69   10] and I think scanner31 has origin [ 108   -4 1249] wrt above.\n",
      "So wrt scanner0, scanner31 has origin [2365   65 1259]?\n",
      "New run. known_centres:\n",
      "['scanner0', 'scanner7', 'scanner25', 'scanner3', 'scanner34', 'scanner35', 'scanner2', 'scanner6', 'scanner10', 'scanner21', 'scanner23', 'scanner27', 'scanner31']\n",
      "I think scanner6 has origin [ 2394 -1151   -62] and I think scanner12 has origin [1157   48  -58] wrt above.\n",
      "So wrt scanner0, scanner12 has origin [ 3551 -1103  -120]?\n",
      "I think scanner27 has origin [3533   84  -61] and I think scanner12 has origin [   18 -1187   -59] wrt above.\n",
      "So wrt scanner0, scanner12 has origin [ 3551 -1103  -120]?\n",
      "I think scanner27 has origin [3533   84  -61] and I think scanner15 has origin [1291   -7   36] wrt above.\n",
      "So wrt scanner0, scanner15 has origin [4824   77  -25]?\n",
      "I think scanner10 has origin [1133 1273 1155] and I think scanner22 has origin [1237 -126   -2] wrt above.\n",
      "So wrt scanner0, scanner22 has origin [2370 1147 1153]?\n",
      "I think scanner31 has origin [2365   65 1259] and I think scanner22 has origin [   5 1082 -106] wrt above.\n",
      "So wrt scanner0, scanner22 has origin [2370 1147 1153]?\n",
      "I think scanner6 has origin [ 2394 -1151   -62] and I think scanner24 has origin [ -102    13 -1128] wrt above.\n",
      "So wrt scanner0, scanner24 has origin [ 2292 -1138 -1190]?\n",
      "I think scanner23 has origin [ 2355   107 -1170] and I think scanner24 has origin [  -63 -1245   -20] wrt above.\n",
      "So wrt scanner0, scanner24 has origin [ 2292 -1138 -1190]?\n",
      "I think scanner10 has origin [1133 1273 1155] and I think scanner29 has origin [  36 1212   92] wrt above.\n",
      "So wrt scanner0, scanner29 has origin [1169 2485 1247]?\n",
      "I think scanner31 has origin [2365   65 1259] and I think scanner30 has origin [ -76  -39 1054] wrt above.\n",
      "So wrt scanner0, scanner30 has origin [2289   26 2313]?\n",
      "I think scanner23 has origin [ 2355   107 -1170] and I think scanner32 has origin [1198    2   30] wrt above.\n",
      "So wrt scanner0, scanner32 has origin [ 3553   109 -1140]?\n",
      "I think scanner27 has origin [3533   84  -61] and I think scanner32 has origin [   20    25 -1079] wrt above.\n",
      "So wrt scanner0, scanner32 has origin [ 3553   109 -1140]?\n",
      "New run. known_centres:\n",
      "['scanner0', 'scanner7', 'scanner25', 'scanner3', 'scanner34', 'scanner35', 'scanner2', 'scanner6', 'scanner10', 'scanner21', 'scanner23', 'scanner27', 'scanner31', 'scanner12', 'scanner15', 'scanner22', 'scanner24', 'scanner29', 'scanner30', 'scanner32']\n",
      "I think scanner12 has origin [ 3551 -1103  -120] and I think scanner1 has origin [1147   -4  136] wrt above.\n",
      "So wrt scanner0, scanner1 has origin [ 4698 -1107    16]?\n",
      "I think scanner15 has origin [4824   77  -25] and I think scanner1 has origin [ -126 -1184    41] wrt above.\n",
      "So wrt scanner0, scanner1 has origin [ 4698 -1107    16]?\n",
      "I think scanner15 has origin [4824   77  -25] and I think scanner5 has origin [-112   17 1144] wrt above.\n",
      "So wrt scanner0, scanner5 has origin [4712   94 1119]?\n",
      "I think scanner32 has origin [ 3553   109 -1140] and I think scanner8 has origin [  28 1095  -10] wrt above.\n",
      "So wrt scanner0, scanner8 has origin [ 3581  1204 -1150]?\n",
      "I think scanner22 has origin [2370 1147 1153] and I think scanner17 has origin [ -93 1361   43] wrt above.\n",
      "So wrt scanner0, scanner17 has origin [2277 2508 1196]?\n",
      "I think scanner29 has origin [1169 2485 1247] and I think scanner17 has origin [1108   23  -51] wrt above.\n",
      "So wrt scanner0, scanner17 has origin [2277 2508 1196]?\n",
      "I think scanner15 has origin [4824   77  -25] and I think scanner26 has origin [ -70 1207  -72] wrt above.\n",
      "So wrt scanner0, scanner26 has origin [4754 1284  -97]?\n",
      "New run. known_centres:\n",
      "['scanner0', 'scanner7', 'scanner25', 'scanner3', 'scanner34', 'scanner35', 'scanner2', 'scanner6', 'scanner10', 'scanner21', 'scanner23', 'scanner27', 'scanner31', 'scanner12', 'scanner15', 'scanner22', 'scanner24', 'scanner29', 'scanner30', 'scanner32', 'scanner1', 'scanner5', 'scanner8', 'scanner17', 'scanner26']\n",
      "I think scanner1 has origin [ 4698 -1107    16] and I think scanner9 has origin [1238 -106  -77] wrt above.\n",
      "So wrt scanner0, scanner9 has origin [ 5936 -1213   -61]?\n",
      "I think scanner5 has origin [4712   94 1119] and I think scanner16 has origin [1243   36  145] wrt above.\n",
      "So wrt scanner0, scanner16 has origin [5955  130 1264]?\n",
      "I think scanner17 has origin [2277 2508 1196] and I think scanner19 has origin [1206    7  -67] wrt above.\n",
      "So wrt scanner0, scanner19 has origin [3483 2515 1129]?\n",
      "I think scanner1 has origin [ 4698 -1107    16] and I think scanner20 has origin [ -33  -95 1167] wrt above.\n",
      "So wrt scanner0, scanner20 has origin [ 4665 -1202  1183]?\n",
      "I think scanner5 has origin [4712   94 1119] and I think scanner20 has origin [  -47 -1296    64] wrt above.\n",
      "So wrt scanner0, scanner20 has origin [ 4665 -1202  1183]?\n",
      "I think scanner26 has origin [4754 1284  -97] and I think scanner33 has origin [  13 1217  -36] wrt above.\n",
      "So wrt scanner0, scanner33 has origin [4767 2501 -133]?\n",
      "New run. known_centres:\n",
      "['scanner0', 'scanner7', 'scanner25', 'scanner3', 'scanner34', 'scanner35', 'scanner2', 'scanner6', 'scanner10', 'scanner21', 'scanner23', 'scanner27', 'scanner31', 'scanner12', 'scanner15', 'scanner22', 'scanner24', 'scanner29', 'scanner30', 'scanner32', 'scanner1', 'scanner5', 'scanner8', 'scanner17', 'scanner26', 'scanner9', 'scanner16', 'scanner19', 'scanner20', 'scanner33']\n",
      "I think scanner19 has origin [3483 2515 1129] and I think scanner11 has origin [ 121  -22 1196] wrt above.\n",
      "So wrt scanner0, scanner11 has origin [3604 2493 2325]?\n",
      "I think scanner33 has origin [4767 2501 -133] and I think scanner14 has origin [  58 1205   66] wrt above.\n",
      "So wrt scanner0, scanner14 has origin [4825 3706  -67]?\n",
      "I think scanner16 has origin [5955  130 1264] and I think scanner18 has origin [1147  -35 -163] wrt above.\n",
      "So wrt scanner0, scanner18 has origin [7102   95 1101]?\n",
      "I think scanner19 has origin [3483 2515 1129] and I think scanner28 has origin [1251 -104   49] wrt above.\n",
      "So wrt scanner0, scanner28 has origin [4734 2411 1178]?\n",
      "I think scanner33 has origin [4767 2501 -133] and I think scanner28 has origin [ -33  -90 1311] wrt above.\n",
      "So wrt scanner0, scanner28 has origin [4734 2411 1178]?\n",
      "New run. known_centres:\n",
      "['scanner0', 'scanner7', 'scanner25', 'scanner3', 'scanner34', 'scanner35', 'scanner2', 'scanner6', 'scanner10', 'scanner21', 'scanner23', 'scanner27', 'scanner31', 'scanner12', 'scanner15', 'scanner22', 'scanner24', 'scanner29', 'scanner30', 'scanner32', 'scanner1', 'scanner5', 'scanner8', 'scanner17', 'scanner26', 'scanner9', 'scanner16', 'scanner19', 'scanner20', 'scanner33', 'scanner11', 'scanner14', 'scanner18', 'scanner28']\n",
      "I think scanner28 has origin [4734 2411 1178] and I think scanner4 has origin [1122   89  -13] wrt above.\n",
      "So wrt scanner0, scanner4 has origin [5856 2500 1165]?\n",
      "I think scanner14 has origin [4825 3706  -67] and I think scanner13 has origin [-176  -14 1298] wrt above.\n",
      "So wrt scanner0, scanner13 has origin [4649 3692 1231]?\n",
      "I think scanner28 has origin [4734 2411 1178] and I think scanner13 has origin [ -85 1281   53] wrt above.\n",
      "So wrt scanner0, scanner13 has origin [4649 3692 1231]?\n"
     ]
    }
   ],
   "source": [
    "known_centres = {\"scanner0\": np.array([0, 0, 0])}\n",
    "correct_fields = {\"scanner0\": scanners[0]}\n",
    "fields = {f\"scanner{index}\": field for index, field in enumerate(scanners)}\n",
    "compared = set()\n",
    "\n",
    "while len(known_centres.keys()) < len(fields.keys()):  # while not all fields are known\n",
    "    print(\"New run. known_centres:\")\n",
    "    print([i for i in known_centres.keys()])\n",
    "    old_correct_fields = {key: value for key, value in correct_fields.items()}\n",
    "    for field_name, field in fields.items():\n",
    "        if field_name in correct_fields.keys():\n",
    "            continue  # already found a correct_field\n",
    "        # compare this field to each field I already know the correct rotation of\n",
    "        for correct_name, correct in old_correct_fields.items():\n",
    "            if field_name + correct_name in compared:\n",
    "                # already been compared\n",
    "                continue\n",
    "            match = match_fields(correct, field)\n",
    "            if match is None:\n",
    "                # no match found\n",
    "                compared.add(field_name + correct_name)\n",
    "                continue\n",
    "            else:\n",
    "                # match has been found\n",
    "                compared.add(field_name + correct_name)\n",
    "                rotated_field, new_origin = match\n",
    "                correct_fields[field_name] = rotated_field\n",
    "                print(f\"I think {correct_name} has origin {known_centres[correct_name]} and I think {field_name} has origin {new_origin} wrt above.\")\n",
    "                print(f\"So wrt scanner0, {field_name} has origin {new_origin + known_centres[correct_name]}?\")\n",
    "                known_centres[field_name] = new_origin + known_centres[correct_name]"
   ]
  },
  {
   "cell_type": "code",
   "execution_count": 340,
   "id": "19a0c9ab-5ed7-45cc-b152-514530725d22",
   "metadata": {},
   "outputs": [
    {
     "name": "stdout",
     "output_type": "stream",
     "text": [
      "436\n"
     ]
    }
   ],
   "source": [
    "probes = set()\n",
    "for name, field in correct_fields.items():\n",
    "    moved_field = field + known_centres[name]\n",
    "    for row in moved_field:\n",
    "        probes.add(tuple(row))\n",
    "        \n",
    "print(len(probes))"
   ]
  },
  {
   "cell_type": "code",
   "execution_count": 341,
   "id": "05e55a14-053c-4f5a-b875-dbfb964e4b76",
   "metadata": {},
   "outputs": [],
   "source": [
    "with open(\"scanner_centres.txt\", \"w\") as f:\n",
    "    for value in known_centres.values():\n",
    "        f.write(f\"{value}\\n\")"
   ]
  },
  {
   "cell_type": "markdown",
   "id": "7e7328c6-780b-432b-8ee0-91c85feae241",
   "metadata": {},
   "source": [
    "## Part 2"
   ]
  },
  {
   "cell_type": "code",
   "execution_count": 342,
   "id": "6a24ab32-9016-4763-b8bf-f328da6a7148",
   "metadata": {},
   "outputs": [
    {
     "name": "stdout",
     "output_type": "stream",
     "text": [
      "dict_values([array([0, 0, 0]), array([1149,  103,  -42]), array([ -27,  -23, 1101]), array([-108, 1250, 1068]), array([2257,   69,   10]), array([ 1237, -1138,  -106]), array([-1271,  1311,  1126]), array([ 2394, -1151,   -62]), array([1133, 1273, 1155]), array([ 1191, -2268,    31]), array([ 2355,   107, -1170]), array([3533,   84,  -61]), array([2365,   65, 1259]), array([ 3551, -1103,  -120]), array([4824,   77,  -25]), array([2370, 1147, 1153]), array([ 2292, -1138, -1190]), array([1169, 2485, 1247]), array([2289,   26, 2313]), array([ 3553,   109, -1140]), array([ 4698, -1107,    16]), array([4712,   94, 1119]), array([ 3581,  1204, -1150]), array([2277, 2508, 1196]), array([4754, 1284,  -97]), array([ 5936, -1213,   -61]), array([5955,  130, 1264]), array([3483, 2515, 1129]), array([ 4665, -1202,  1183]), array([4767, 2501, -133]), array([3604, 2493, 2325]), array([4825, 3706,  -67]), array([7102,   95, 1101]), array([4734, 2411, 1178]), array([5856, 2500, 1165]), array([4649, 3692, 1231])])\n",
      "10918\n"
     ]
    }
   ],
   "source": [
    "import itertools\n",
    "\n",
    "manhattans = []\n",
    "print(known_centres.values())\n",
    "for scanner1, scanner2 in itertools.combinations(known_centres.values(), 2):\n",
    "    dx = abs(scanner1[0] - scanner2[0])\n",
    "    dy = abs(scanner1[1] - scanner2[1])\n",
    "    dz = abs(scanner1[2] - scanner2[2])\n",
    "    manhattans.append(dx + dy + dz)\n",
    "\n",
    "print(max(manhattans))"
   ]
  },
  {
   "cell_type": "markdown",
   "id": "e71e5729-7f80-4644-b3ac-033375b388b1",
   "metadata": {},
   "source": [
    "Try doing part 2 for the example."
   ]
  },
  {
   "cell_type": "code",
   "execution_count": 333,
   "id": "8eec1409-e19d-4d73-93d1-b7b1afa61d5d",
   "metadata": {},
   "outputs": [
    {
     "name": "stdout",
     "output_type": "stream",
     "text": [
      "[[ 404 -588 -901]\n",
      " [ 528 -643  409]\n",
      " [-838  591  734]\n",
      " [ 390 -675 -793]\n",
      " [-537 -823 -458]]\n",
      "[ 404  528 -838  390 -537]\n",
      "[[ 404 -588 -901]\n",
      " [ 528 -643  409]\n",
      " [-838  591  734]\n",
      " [ 390 -675 -793]\n",
      " [-537 -823 -458]]\n"
     ]
    }
   ],
   "source": [
    "scanners = []\n",
    "\n",
    "with open(\"ex1.txt\") as f:\n",
    "    for scanner in f.read().split(\"\\n\\n\"):\n",
    "        field = []\n",
    "        coords = scanner.split(\" ---\\n\")[1]\n",
    "        # print(coords)\n",
    "        for line in coords.split(\"\\n\"):\n",
    "            line = line.strip()\n",
    "            coord_list = np.array([int(n) for n in line.split(\",\")])\n",
    "            field.append(coord_list)\n",
    "        scanners.append(np.array(field))\n",
    "        \n",
    "print(scanners[0][0:5])\n",
    "print(scanners[0][:, 0][0:5])\n",
    "print(np.stack([scanners[0][:, 0][0:5], scanners[0][:, 1][0:5], scanners[0][:, 2][0:5]], axis=1))"
   ]
  },
  {
   "cell_type": "code",
   "execution_count": 334,
   "id": "093a3dcc-d7e3-47b2-9813-ecf0d8dff35c",
   "metadata": {},
   "outputs": [
    {
     "name": "stdout",
     "output_type": "stream",
     "text": [
      "New run. known_centres:\n",
      "['scanner0']\n",
      "New run. known_centres:\n",
      "['scanner0', 'scanner1']\n",
      "New run. known_centres:\n",
      "['scanner0', 'scanner1', 'scanner3', 'scanner4']\n"
     ]
    }
   ],
   "source": [
    "known_centres = {\"scanner0\": np.array([0, 0, 0])}\n",
    "correct_fields = {\"scanner0\": scanners[0]}\n",
    "fields = {f\"scanner{index}\": field for index, field in enumerate(scanners)}\n",
    "compared = set()\n",
    "\n",
    "while len(known_centres.keys()) < len(fields.keys()):  # while not all fields are known\n",
    "    print(\"New run. known_centres:\")\n",
    "    print([i for i in known_centres.keys()])\n",
    "    old_correct_fields = {key: value for key, value in correct_fields.items()}\n",
    "    for field_name, field in fields.items():\n",
    "        if field_name in correct_fields.keys():\n",
    "            continue  # already found a correct_field\n",
    "        # compare this field to each field I already know the correct rotation of\n",
    "        for correct_name, correct in old_correct_fields.items():\n",
    "            if field_name + correct_name in compared:\n",
    "                # already been compared\n",
    "                continue\n",
    "            match = match_fields(correct, field)\n",
    "            if match is None:\n",
    "                # no match found\n",
    "                compared.add(field_name + correct_name)\n",
    "                continue\n",
    "            else:\n",
    "                # match has been found\n",
    "                compared.add(field_name + correct_name)\n",
    "                rotated_field, new_origin = match\n",
    "                correct_fields[field_name] = rotated_field\n",
    "                # print(f\"I think {correct_name} has origin {known_centres[correct_name]} and I think {field_name} has origin {new_origin} wrt above.\")\n",
    "                # print(f\"So wrt scanner0, has origin {new_origin + known_centres[correct_name]}?\")\n",
    "                # print()\n",
    "                known_centres[field_name] = new_origin + known_centres[correct_name]"
   ]
  },
  {
   "cell_type": "code",
   "execution_count": 335,
   "id": "ad12e003-5e39-47bc-b819-9b73bdd99753",
   "metadata": {},
   "outputs": [
    {
     "name": "stdout",
     "output_type": "stream",
     "text": [
      "79\n"
     ]
    }
   ],
   "source": [
    "probes = set()\n",
    "for name, field in correct_fields.items():\n",
    "    moved_field = field + known_centres[name]\n",
    "    for row in moved_field:\n",
    "        probes.add(tuple(row))\n",
    "        \n",
    "print(len(probes))"
   ]
  },
  {
   "cell_type": "code",
   "execution_count": 336,
   "id": "56ef4f9a-afdd-42d8-9a59-e04b5c0982cb",
   "metadata": {},
   "outputs": [
    {
     "name": "stdout",
     "output_type": "stream",
     "text": [
      "dict_values([array([0, 0, 0]), array([   68, -1246,   -43]), array([  -92, -2380,   -20]), array([  -20, -1133,  1061]), array([ 1105, -1205,  1229])])\n",
      "3621\n"
     ]
    }
   ],
   "source": [
    "manhattans = []\n",
    "print(known_centres.values())\n",
    "for scanner1, scanner2 in itertools.combinations(known_centres.values(), 2):\n",
    "    dx = abs(scanner1[0] - scanner2[0])\n",
    "    dy = abs(scanner1[1] - scanner2[1])\n",
    "    dz = abs(scanner1[2] - scanner2[2])\n",
    "    manhattans.append(dx + dy + dz)\n",
    "\n",
    "print(max(manhattans))"
   ]
  }
 ],
 "metadata": {
  "kernelspec": {
   "display_name": "Python 3 (ipykernel)",
   "language": "python",
   "name": "python3"
  },
  "language_info": {
   "codemirror_mode": {
    "name": "ipython",
    "version": 3
   },
   "file_extension": ".py",
   "mimetype": "text/x-python",
   "name": "python",
   "nbconvert_exporter": "python",
   "pygments_lexer": "ipython3",
   "version": "3.9.7"
  }
 },
 "nbformat": 4,
 "nbformat_minor": 5
}
