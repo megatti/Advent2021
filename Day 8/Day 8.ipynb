{
 "cells": [
  {
   "cell_type": "markdown",
   "id": "893d305e-aae6-47a8-be0d-fe54d5d6ef69",
   "metadata": {},
   "source": [
    "## Day 8\n",
    "\n",
    "# Part 1"
   ]
  },
  {
   "cell_type": "code",
   "execution_count": 122,
   "id": "a142e3f0-4319-453e-9ab1-d072f1d833f0",
   "metadata": {},
   "outputs": [],
   "source": [
    "with open(\"ex2.txt\") as f:\n",
    "    lines = [line.strip() for line in f.readlines()]\n",
    "    numbers = [line.split(\"|\")[0].strip().split(\" \") for line in lines]\n",
    "    output = [line.split(\"|\")[1].strip().split(\" \") for line in lines]\n",
    "    \n",
    "# print(numbers)\n",
    "# print(output)"
   ]
  },
  {
   "cell_type": "code",
   "execution_count": 120,
   "id": "810f3d42-f0b3-489a-8eef-39ad7c2f2f62",
   "metadata": {},
   "outputs": [
    {
     "name": "stdout",
     "output_type": "stream",
     "text": [
      "0\n"
     ]
    }
   ],
   "source": [
    "line_parts = {0: \"abcefg\", 1: \"cf\", 2: \"acdeg\", 3: \"acdfg\", 4: \"bcdf\",\n",
    "             5: \"abdfg\", 6: \"abdefg\", 7: \"acf\", 8: \"abcdefg\", 9: \"abcdfg\"}\n",
    "\n",
    "n_1478 = 0\n",
    "for line in output:\n",
    "    for digit in line:\n",
    "        if len(digit) in [len(line_parts[i]) for i in (1, 4, 7, 8)]:\n",
    "            n_1478 += 1\n",
    "            \n",
    "print(n_1478)"
   ]
  },
  {
   "cell_type": "markdown",
   "id": "94df5f75-03ef-4dcb-98d2-6f717e8a449e",
   "metadata": {},
   "source": [
    "## Part 2\n",
    "\n",
    "I'm a little lost with the logic for this part but I will try my best.\n",
    "\n",
    "I can at least work out the line connections for 1, 4, 7, 8 I think."
   ]
  },
  {
   "cell_type": "code",
   "execution_count": 127,
   "id": "ea870b88-3695-4529-9f53-8679ace76668",
   "metadata": {},
   "outputs": [
    {
     "name": "stdout",
     "output_type": "stream",
     "text": [
      "dict_items([('a', {'c', 'b', 'd', 'a', 'e', 'g', 'f'}), ('b', {'c', 'b', 'd', 'a', 'e', 'g', 'f'}), ('c', {'c', 'b', 'd', 'a', 'e', 'g', 'f'}), ('d', {'c', 'b', 'd', 'a', 'e', 'g', 'f'}), ('e', {'c', 'b', 'd', 'a', 'e', 'g', 'f'}), ('f', {'c', 'b', 'd', 'a', 'e', 'g', 'f'}), ('g', {'c', 'b', 'd', 'a', 'e', 'g', 'f'})])\n",
      "acedgfb\n",
      "cdfbe\n",
      "gcdfa\n",
      "fbcad\n",
      "dab\n",
      "cefabd\n",
      "cdfgeb\n",
      "eafb\n",
      "cagedb\n",
      "ab\n",
      "{'a': {'b', 'd', 'a'}, 'b': {'b', 'e', 'a', 'f'}, 'c': {'b', 'a'}, 'd': {'b', 'e', 'a', 'f'}, 'e': {'c', 'b', 'd', 'a', 'e', 'g', 'f'}, 'f': {'b', 'a'}, 'g': {'c', 'b', 'd', 'a', 'e', 'g', 'f'}}\n"
     ]
    }
   ],
   "source": [
    "possible = {char: {char for char in \"abcdefg\"} for char in \"abcdefg\"}  # actual letter: what it could be in this instance\n",
    "\n",
    "print(possible.items())\n",
    "\n",
    "line = numbers[0]\n",
    "out = output[0]\n",
    "# print(line, out)\n",
    "\n",
    "for digit in line:\n",
    "    print(digit)\n",
    "    for i in (1, 4, 7, 8):\n",
    "        if len(digit) == len(line_parts[i]):  # digit must be equivalent to 1\n",
    "            for char in line_parts[i]:\n",
    "                possible[char] = possible[char].intersection(set(digit))\n",
    "            \n",
    "print(possible)"
   ]
  },
  {
   "cell_type": "code",
   "execution_count": 128,
   "id": "5ee07591-2af5-400c-8d3a-753ea68461c0",
   "metadata": {},
   "outputs": [
    {
     "name": "stdout",
     "output_type": "stream",
     "text": [
      "{'d'}\n"
     ]
    }
   ],
   "source": [
    "cf = possible[\"c\"].union(possible[\"f\"])\n",
    "possible[\"a\"] = possible[\"a\"].symmetric_difference(cf)  # a is whatever isn't possible for c or f\n",
    "print(possible[\"a\"])\n",
    "# Now I can get rid of whatever a corresponds to from the rest, since it clearly isn't them\n",
    "for j in possible[\"a\"]:\n",
    "    for i in \"bcdefg\":\n",
    "        if j in possible[i]:\n",
    "            possible[i].remove(j)\n",
    "            \n",
    "            \n",
    "possible[\"b\"] = possible[\"b\"].symmetric_difference(possible[\"c\"])\n",
    "possible[\"d\"] = possible[\"d\"].symmetric_difference(possible[\"c\"])"
   ]
  },
  {
   "cell_type": "code",
   "execution_count": 129,
   "id": "9457b6f1-0efd-4cf0-a380-c7a9f3d9ae21",
   "metadata": {},
   "outputs": [
    {
     "name": "stdout",
     "output_type": "stream",
     "text": [
      "{'e', 'f', 'b', 'd', 'a'}\n",
      "\n",
      "['cefabd', 'cdfgeb', 'cagedb']\n",
      "\n",
      "cefabd\n",
      "{'a': {'d'}, 'b': {'e', 'f'}, 'c': {'b', 'a'}, 'd': {'e', 'f'}, 'e': {'g'}, 'f': {'b', 'a'}, 'g': {'c'}}\n"
     ]
    }
   ],
   "source": [
    "# I know what a, b+d, c+f are\n",
    "print(possible[\"a\"].union(*[possible[i] for i in \"bdcf\"]))\n",
    "print()\n",
    "\n",
    "# If I look at the digits again, I should find one that has all of these plus one - 6 length\n",
    "# This must be 9\n",
    "# So the plus one must be g\n",
    "print([i for i in line if len(i) == 6])\n",
    "print()\n",
    "\n",
    "for digit in [i for i in line if len(i) == 6]:\n",
    "    if all(char in digit for char in possible[\"a\"].union(*[possible[i] for i in \"bdcf\"])):\n",
    "        print(digit)\n",
    "        for letter in digit:\n",
    "            if letter not in possible[\"a\"].union(*[possible[i] for i in \"bdcf\"]):\n",
    "                possible[\"g\"] = {letter}\n",
    "\n",
    "# remove possible[\"g\"] from the rest\n",
    "for j in possible[\"g\"]:\n",
    "    for i in \"abcdef\":\n",
    "        if j in possible[i]:\n",
    "            possible[i].remove(j)\n",
    "\n",
    "# I can do similar with c and f\n",
    "for j in possible[\"c\"]:\n",
    "    for i in \"abdeg\":\n",
    "        if j in possible[i]:\n",
    "            possible[i].remove(j)\n",
    "            \n",
    "# and same with b and d\n",
    "for j in possible[\"b\"]:\n",
    "    for i in \"acefg\":\n",
    "        if j in possible[i]:\n",
    "            possible[i].remove(j)\n",
    "            \n",
    "print(possible)"
   ]
  },
  {
   "cell_type": "code",
   "execution_count": 130,
   "id": "48adbea2-0234-4023-8a74-f20fc961c860",
   "metadata": {},
   "outputs": [
    {
     "name": "stdout",
     "output_type": "stream",
     "text": [
      "{'c', 'b', 'd', 'a'}\n",
      "['cdfbe', 'gcdfa', 'fbcad']\n",
      "f\n",
      "{'a': {'d'}, 'b': {'e', 'f'}, 'c': {'b', 'a'}, 'd': {'f'}, 'e': {'g'}, 'f': {'b', 'a'}, 'g': {'c'}}\n",
      "{'a': {'d'}, 'b': {'e'}, 'c': {'b', 'a'}, 'd': {'f'}, 'e': {'g'}, 'f': {'b', 'a'}, 'g': {'c'}}\n"
     ]
    }
   ],
   "source": [
    "# Uses the fact that I know top, bottom, and right side to gt middle line from 3\n",
    "\n",
    "print(possible[\"a\"].union(*[possible[i] for i in \"gcf\"]))\n",
    "print([i for i in line if len(i) == 5])\n",
    "\n",
    "for digit in [i for i in line if len(i) == 5]:\n",
    "    if all(char in digit for char in possible[\"a\"].union(*[possible[i] for i in \"gcf\"])):\n",
    "        for letter in digit:\n",
    "            if letter not in possible[\"a\"].union(*[possible[i] for i in \"gcf\"]):\n",
    "                print(letter)\n",
    "                possible[\"d\"] = {letter}\n",
    "                \n",
    "print(possible)\n",
    "                \n",
    "possible[\"b\"].remove(*[i for i in possible[\"d\"]])\n",
    "print(possible)"
   ]
  },
  {
   "cell_type": "code",
   "execution_count": 131,
   "id": "a11ac693-4dba-4dd8-9b6c-860d13a42b90",
   "metadata": {},
   "outputs": [
    {
     "name": "stdout",
     "output_type": "stream",
     "text": [
      "{'c', 'd', 'g', 'f'}\n",
      "['cdfbe', 'gcdfa', 'fbcad']\n",
      "a\n",
      "{'a': {'d'}, 'b': {'e'}, 'c': {'a'}, 'd': {'f'}, 'e': {'g'}, 'f': {'b'}, 'g': {'c'}}\n"
     ]
    }
   ],
   "source": [
    "print(possible[\"a\"].union(*[possible[i] for i in \"deg\"]))\n",
    "print([i for i in line if len(i) == 5])\n",
    "\n",
    "for digit in [i for i in line if len(i) == 5]:\n",
    "    if all(char in digit for char in possible[\"a\"].union(*[possible[i] for i in \"deg\"])):\n",
    "        for letter in digit:\n",
    "            if letter not in possible[\"a\"].union(*[possible[i] for i in \"deg\"]):\n",
    "                print(letter)\n",
    "                possible[\"c\"] = {letter}\n",
    "                \n",
    "possible[\"f\"].remove(*[i for i in possible[\"c\"]])\n",
    "print(possible)"
   ]
  },
  {
   "cell_type": "code",
   "execution_count": 158,
   "id": "971f788e-f5e6-42e4-8bdd-0ec0c6458804",
   "metadata": {},
   "outputs": [],
   "source": [
    "def solve_letters_to_lines(line, out):\n",
    "    possible = {char: {char for char in \"abcdefg\"} for char in \"abcdefg\"}  # actual letter: what it could be in this instance\n",
    "    \n",
    "    for digit in line:\n",
    "        for i in (1, 4, 7, 8):\n",
    "            if len(digit) == len(line_parts[i]):  # digit must be equivalent to 1\n",
    "                for char in line_parts[i]:\n",
    "                    possible[char] = possible[char].intersection(set(digit))\n",
    "            \n",
    "    cf = possible[\"c\"].union(possible[\"f\"])\n",
    "    possible[\"a\"] = possible[\"a\"].symmetric_difference(cf)  # a is whatever isn't possible for c or f\n",
    "\n",
    "    # Now I can get rid of whatever a corresponds to from the rest, since it clearly isn't them\n",
    "    for j in possible[\"a\"]:\n",
    "        for i in \"bcdefg\":\n",
    "            if j in possible[i]:\n",
    "                possible[i].remove(j)\n",
    "\n",
    "\n",
    "    possible[\"b\"] = possible[\"b\"].symmetric_difference(possible[\"c\"])\n",
    "    possible[\"d\"] = possible[\"d\"].symmetric_difference(possible[\"c\"])\n",
    "    \n",
    "    # work out g\n",
    "    for digit in [i for i in line if len(i) == 6]:\n",
    "        if all(char in digit for char in possible[\"a\"].union(*[possible[i] for i in \"bdcf\"])):\n",
    "            for letter in digit:\n",
    "                if letter not in possible[\"a\"].union(*[possible[i] for i in \"bdcf\"]):\n",
    "                    possible[\"g\"] = {letter}\n",
    "\n",
    "    # remove possible[\"g\"] from the rest\n",
    "    for j in possible[\"g\"]:\n",
    "        for i in \"abcdef\":\n",
    "            if j in possible[i]:\n",
    "                possible[i].remove(j)\n",
    "\n",
    "    # I can do similar with c and f\n",
    "    for j in possible[\"c\"]:\n",
    "        for i in \"abdeg\":\n",
    "            if j in possible[i]:\n",
    "                possible[i].remove(j)\n",
    "\n",
    "    # and same with b and d\n",
    "    for j in possible[\"b\"]:\n",
    "        for i in \"acefg\":\n",
    "            if j in possible[i]:\n",
    "                possible[i].remove(j)\n",
    "                \n",
    "    # get d\n",
    "    for digit in [i for i in line if len(i) == 5]:\n",
    "        if all(char in digit for char in possible[\"a\"].union(*[possible[i] for i in \"gcf\"])):\n",
    "            for letter in digit:\n",
    "                if letter not in possible[\"a\"].union(*[possible[i] for i in \"gcf\"]):\n",
    "                    possible[\"d\"] = {letter}\n",
    "\n",
    "    possible[\"b\"].remove(*[i for i in possible[\"d\"]])\n",
    "    \n",
    "    # get c\n",
    "    for digit in [i for i in line if len(i) == 5]:\n",
    "        if all(char in digit for char in possible[\"a\"].union(*[possible[i] for i in \"deg\"])):\n",
    "            for letter in digit:\n",
    "                if letter not in possible[\"a\"].union(*[possible[i] for i in \"deg\"]):\n",
    "                    possible[\"c\"] = {letter}\n",
    "                \n",
    "    possible[\"f\"].remove(*[i for i in possible[\"c\"]])\n",
    "    \n",
    "    return possible"
   ]
  },
  {
   "cell_type": "code",
   "execution_count": 160,
   "id": "6ef1b7a3-dbba-4efc-83b6-7ffc55a2db6f",
   "metadata": {},
   "outputs": [],
   "source": [
    "def get_4_dig(line, out):\n",
    "    possible = solve_letters_to_lines(line, out)\n",
    "    possible_flipped = {value.pop(): key for key, value in possible.items()}\n",
    "    line_parts_flipped = {value: key for key, value in line_parts.items()}\n",
    "\n",
    "    decimals = \"\"\n",
    "    for digit in out:\n",
    "        # print(digit)\n",
    "        new_digit = \"\"\n",
    "        for char in digit:\n",
    "            new_digit += possible_flipped[char]\n",
    "        decimals += str(line_parts_flipped[\"\".join(sorted(new_digit))])\n",
    "\n",
    "    return int(decimals)"
   ]
  },
  {
   "cell_type": "code",
   "execution_count": 165,
   "id": "10b1806f-5db3-42a0-9d81-9b84012f77de",
   "metadata": {},
   "outputs": [
    {
     "name": "stdout",
     "output_type": "stream",
     "text": [
      "968175\n"
     ]
    }
   ],
   "source": [
    "with open(\"digits.txt\") as f:\n",
    "    lines = [line.strip() for line in f.readlines()]\n",
    "    numbers = [line.split(\"|\")[0].strip().split(\" \") for line in lines]\n",
    "    output = [line.split(\"|\")[1].strip().split(\" \") for line in lines]\n",
    "    \n",
    "codes = []\n",
    "for line, out in zip(numbers, output):\n",
    "    codes.append(get_4_dig(line, out))\n",
    "    \n",
    "print(sum(codes))"
   ]
  }
 ],
 "metadata": {
  "kernelspec": {
   "display_name": "Python 3 (ipykernel)",
   "language": "python",
   "name": "python3"
  },
  "language_info": {
   "codemirror_mode": {
    "name": "ipython",
    "version": 3
   },
   "file_extension": ".py",
   "mimetype": "text/x-python",
   "name": "python",
   "nbconvert_exporter": "python",
   "pygments_lexer": "ipython3",
   "version": "3.9.7"
  }
 },
 "nbformat": 4,
 "nbformat_minor": 5
}
