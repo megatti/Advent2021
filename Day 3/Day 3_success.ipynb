{
 "cells": [
  {
   "cell_type": "markdown",
   "id": "856cd363-b30a-440b-a5db-b7a524be0380",
   "metadata": {},
   "source": [
    "## Day 3\n",
    "# Part 1"
   ]
  },
  {
   "cell_type": "code",
   "execution_count": 1,
   "id": "a2a6a033-1e4b-4b76-b263-7fb44ee18a2f",
   "metadata": {},
   "outputs": [],
   "source": [
    "report = []\n",
    "with open(\"report.txt\", \"r\") as f:\n",
    "    report = [line.strip() for line in f.readlines()]\n",
    "    \n",
    "# print(report)"
   ]
  },
  {
   "cell_type": "code",
   "execution_count": 24,
   "id": "321edcbe-323b-431a-af38-4a9b4b1383ec",
   "metadata": {},
   "outputs": [
    {
     "name": "stdout",
     "output_type": "stream",
     "text": [
      "{0: 510, 1: 487, 2: 498, 3: 521, 4: 504, 5: 501, 6: 484, 7: 508, 8: 506, 9: 494, 10: 491, 11: 477} 1000\n",
      "100111011000 011000100111\n",
      "2520 1575\n",
      "power consumption is 3969000\n"
     ]
    }
   ],
   "source": [
    "count = {}\n",
    "for number in report:\n",
    "    for index, bit in enumerate(number):\n",
    "        if index not in count.keys():\n",
    "            count[index] = 0\n",
    "        count[index] += int(bit)\n",
    "        \n",
    "print(count, len(report))\n",
    "\n",
    "gamma = list(report[0])\n",
    "epsilon = list(report[0])\n",
    "\n",
    "for position, n in count.items():\n",
    "    if n > len(report) / 2:\n",
    "        gamma[position] = \"1\"\n",
    "        epsilon[position] = \"0\"\n",
    "    else:\n",
    "        gamma[position] = \"0\"\n",
    "        epsilon[position] = \"1\"\n",
    "        \n",
    "gamma = \"\".join(gamma)\n",
    "epsilon = \"\".join(epsilon)\n",
    "\n",
    "print(gamma, epsilon)\n",
    "print(int(gamma, 2), int(epsilon, 2))\n",
    "print(f\"power consumption is {int(gamma, 2) * int(epsilon, 2)}\")"
   ]
  },
  {
   "cell_type": "markdown",
   "id": "b7a67870-bda1-43e0-a9e4-4f3e2fbf80d4",
   "metadata": {},
   "source": [
    "# Part 2"
   ]
  },
  {
   "cell_type": "code",
   "execution_count": 2,
   "id": "fd27aca7-fee0-4b83-91f8-ba76202029ab",
   "metadata": {},
   "outputs": [],
   "source": [
    "def get_oxygen(report, position):\n",
    "    count = 0\n",
    "    for number in report:\n",
    "        count += int(number[position])\n",
    "    \n",
    "    # if more than half are 1s\n",
    "    if count >= len(report)/2:\n",
    "        most_common = \"1\"\n",
    "    else:\n",
    "        most_common = \"0\"\n",
    "        \n",
    "    new_report = []\n",
    "    for number in report:\n",
    "        if number[position] == most_common:\n",
    "            new_report.append(number)\n",
    "            \n",
    "    return new_report\n",
    "\n",
    "def get_co2(report, position):\n",
    "    count = 0\n",
    "    for number in report:\n",
    "        count += int(number[position])\n",
    "    \n",
    "    # if more than half are 1s\n",
    "    if count >= len(report)/2:\n",
    "        least_common = \"0\"\n",
    "    else:\n",
    "        least_common = \"1\"\n",
    "        \n",
    "    new_report = []\n",
    "    for number in report:\n",
    "        if number[position] == least_common:\n",
    "            new_report.append(number)\n",
    "            \n",
    "    return new_report"
   ]
  },
  {
   "cell_type": "code",
   "execution_count": 3,
   "id": "f6e45e19-2521-4ab9-a4af-67ef972f8928",
   "metadata": {},
   "outputs": [
    {
     "name": "stdout",
     "output_type": "stream",
     "text": [
      "['011010100101']\n"
     ]
    }
   ],
   "source": [
    "pos = 0\n",
    "new_report = get_co2(report, pos)\n",
    "\n",
    "while len(new_report) > 1:\n",
    "    pos+=1\n",
    "    new_report = get_co2(new_report, pos)\n",
    "    \n",
    "print(new_report)\n",
    "co2 = new_report[0]"
   ]
  },
  {
   "cell_type": "code",
   "execution_count": 4,
   "id": "3ead2669-402b-4122-8223-d4bf1ae1f2cf",
   "metadata": {},
   "outputs": [
    {
     "name": "stdout",
     "output_type": "stream",
     "text": [
      "['100111001101']\n",
      "life support is 4267809\n"
     ]
    }
   ],
   "source": [
    "pos = 0\n",
    "new_report = get_oxygen(report, pos)\n",
    "\n",
    "while len(new_report) > 1:\n",
    "    pos+=1\n",
    "    new_report = get_oxygen(new_report, pos)\n",
    "    \n",
    "print(new_report)\n",
    "oxygen = new_report[0]\n",
    "\n",
    "print(f\"life support is {int(oxygen, 2) * int(co2, 2)}\")\n",
    "# 4267809"
   ]
  }
 ],
 "metadata": {
  "kernelspec": {
   "display_name": "Python 3 (ipykernel)",
   "language": "python",
   "name": "python3"
  },
  "language_info": {
   "codemirror_mode": {
    "name": "ipython",
    "version": 3
   },
   "file_extension": ".py",
   "mimetype": "text/x-python",
   "name": "python",
   "nbconvert_exporter": "python",
   "pygments_lexer": "ipython3",
   "version": "3.9.7"
  }
 },
 "nbformat": 4,
 "nbformat_minor": 5
}
