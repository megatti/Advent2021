{
 "cells": [
  {
   "cell_type": "markdown",
   "id": "b91d1ac0-6d31-47d1-b91f-ef2ea9520067",
   "metadata": {},
   "source": [
    "## Day 15\n",
    "\n",
    "# Part 1"
   ]
  },
  {
   "cell_type": "code",
   "execution_count": 7,
   "id": "24b8ffbe-6b8b-4bf3-95b2-6e3dfd873001",
   "metadata": {},
   "outputs": [
    {
     "name": "stdout",
     "output_type": "stream",
     "text": [
      "[[7 1 7 ... 1 6 1]\n",
      " [4 6 4 ... 4 9 4]\n",
      " [3 2 8 ... 1 6 1]\n",
      " ...\n",
      " [7 5 1 ... 1 1 8]\n",
      " [2 2 7 ... 7 1 8]\n",
      " [1 8 1 ... 9 2 5]]\n"
     ]
    }
   ],
   "source": [
    "import numpy as np\n",
    "\n",
    "with open(\"cavern.txt\") as f:\n",
    "    array = np.array([[int(n) for n in line.strip()] for line in f.readlines()])\n",
    "    \n",
    "print(array)"
   ]
  },
  {
   "cell_type": "code",
   "execution_count": 12,
   "id": "1195e016-9197-462d-b236-3923803dbbb8",
   "metadata": {},
   "outputs": [
    {
     "name": "stdout",
     "output_type": "stream",
     "text": [
      "[[6 3 9]\n",
      " [5 2 1]\n",
      " [5 8 1]]\n"
     ]
    }
   ],
   "source": [
    "small_array = array[-3:, -3:]\n",
    "print(small_array)\n",
    "\n",
    "# Work with small_array while thinking of a method? :/"
   ]
  },
  {
   "cell_type": "code",
   "execution_count": 2,
   "id": "d73a66ab-f32e-4200-a0d0-4576277dce0d",
   "metadata": {},
   "outputs": [],
   "source": [
    "def gen_neighbours(coord, edges):\n",
    "    \"\"\"Return all coordinates for neighbours of a coordinate.\n",
    "    Edges is (max_y, max_x).\n",
    "    Coords are done numpy-style = (y, x)\"\"\"\n",
    "    \n",
    "    neighbours = []\n",
    "        \n",
    "    \n",
    "    possible = ((coord[0]+1, coord[1]), (coord[0]-1, coord[1]), (coord[0], coord[1]+1), (coord[0], coord[1]-1))\n",
    "    for neighbour in possible:\n",
    "        if 0 <= neighbour[0] < edges[0] and 0 <= neighbour[1] < edges[1]:\n",
    "            neighbours.append(neighbour)\n",
    "        \n",
    "    return neighbours"
   ]
  },
  {
   "cell_type": "markdown",
   "id": "66af1a04-324c-4c64-b323-5fe3331e92d1",
   "metadata": {},
   "source": [
    "I have no idea what kind of method to use to solve this, so I'm just going to try one and see if I can get the answer for the small array.\n",
    "\n",
    "### Method 1\n",
    "\n",
    "From the end, calculate the \"minimum cost\" from that square to the end.\n",
    "\n",
    "For example, the neighbours of the end will just be themselves, then the ones adjacent to those will be the minimum of their adjacents + themselves, etc."
   ]
  },
  {
   "cell_type": "code",
   "execution_count": 38,
   "id": "ca2dc6f9-aff5-4b88-822a-fc521116826b",
   "metadata": {},
   "outputs": [
    {
     "name": "stdout",
     "output_type": "stream",
     "text": [
      "[[6 3 9]\n",
      " [5 2 1]\n",
      " [5 8 1]]\n",
      "[[inf inf inf]\n",
      " [inf inf inf]\n",
      " [inf inf inf]]\n",
      "[2, 2]\n",
      "1\n",
      "[[inf inf inf]\n",
      " [inf inf inf]\n",
      " [inf inf  1.]]\n",
      "[[inf inf inf]\n",
      " [inf inf  2.]\n",
      " [inf  9.  1.]]\n"
     ]
    }
   ],
   "source": [
    "# Creating min_distances array\n",
    "\n",
    "print(small_array)\n",
    "min_distances = np.full(small_array.shape, np.inf)  # use to trakc min distances?\n",
    "\n",
    "print(min_distances)\n",
    "\n",
    "end_coord = [small_array.shape[0]-1, small_array.shape[1]-1]\n",
    "print(end_coord)\n",
    "min_distances[end_coord[0], end_coord[1]] = small_array[end_coord[0], end_coord[1]]\n",
    "\n",
    "print(small_array[end_coord[0], end_coord[1]])\n",
    "\n",
    "print(min_distances)\n",
    "\n",
    "# Go through coordinates\n",
    "\n",
    "for end_neighbour in gen_neighbours(end_coord, small_array.shape):\n",
    "    # generate neighbours for this one\n",
    "    # set it equal to minimum neighbour + itself in small_array\n",
    "    neighbours = gen_neighbours(end_neighbour, small_array.shape)\n",
    "    min_value = min([min_distances[i[0], i[1]] for i in neighbours])\n",
    "    min_distances[end_neighbour[0], end_neighbour[1]] = min_value + small_array[end_neighbour[0], end_neighbour[1]]\n",
    "    \n",
    "print(min_distances)"
   ]
  },
  {
   "cell_type": "code",
   "execution_count": 60,
   "id": "576c0abb-3b3b-4976-be79-eb4af41c0924",
   "metadata": {},
   "outputs": [
    {
     "name": "stdout",
     "output_type": "stream",
     "text": [
      "[[2, 1], [1, 2], [2, 0], [1, 1], [0, 2], [1, 0], [0, 1], [0, 0]]\n"
     ]
    }
   ],
   "source": [
    "# I need to get [2, 1], [1, 2], [2, 0], [1, 1], [0, 2]\n",
    "\n",
    "max_sum = small_array.shape[0]\n",
    "\n",
    "neighbour_order = []\n",
    "for i in range(max_sum, -1, -1):\n",
    "    # print(i)\n",
    "    for j in range(0, i+1):\n",
    "        k = i - j\n",
    "        if k < max_sum and j < max_sum:\n",
    "            neighbour_order.append([k, j])\n",
    "            \n",
    "print(neighbour_order)"
   ]
  },
  {
   "cell_type": "code",
   "execution_count": 69,
   "id": "eed347eb-72b9-4930-86ee-72e41914f57c",
   "metadata": {},
   "outputs": [
    {
     "name": "stdout",
     "output_type": "stream",
     "text": [
      "[[13.  7. 11.]\n",
      " [ 9.  4.  2.]\n",
      " [14.  9.  1.]]\n",
      "13.0\n"
     ]
    }
   ],
   "source": [
    "for _ in range(2):  # need to do this twice? not sure\n",
    "    for neighbour in neighbour_order:\n",
    "        # generate neighbours for this one\n",
    "        # set it equal to minimum neighbour + itself in small_array\n",
    "        neighbours = gen_neighbours(neighbour, small_array.shape)\n",
    "        min_value = min([min_distances[i[0], i[1]] for i in neighbours])\n",
    "        min_distances[neighbour[0], neighbour[1]] = min_value + small_array[neighbour[0], neighbour[1]]\n",
    "    \n",
    "print(min_distances)\n",
    "print(min_distances[0, 0])"
   ]
  },
  {
   "cell_type": "code",
   "execution_count": 93,
   "id": "3ef378da-6884-493f-8a5c-c403cc53cac8",
   "metadata": {},
   "outputs": [
    {
     "name": "stdout",
     "output_type": "stream",
     "text": [
      "[[1 1 6 3 7 5 1 7 4 2]\n",
      " [1 3 8 1 3 7 3 6 7 2]\n",
      " [2 1 3 6 5 1 1 3 2 8]\n",
      " [3 6 9 4 9 3 1 5 6 9]\n",
      " [7 4 6 3 4 1 7 1 1 1]\n",
      " [1 3 1 9 1 2 8 1 3 7]\n",
      " [1 3 5 9 9 1 2 4 2 1]\n",
      " [3 1 2 5 4 2 1 6 3 9]\n",
      " [1 2 9 3 1 3 8 5 2 1]\n",
      " [2 3 1 1 9 4 4 5 8 1]]\n",
      "[[inf inf inf inf inf inf inf inf inf inf]\n",
      " [inf inf inf inf inf inf inf inf inf inf]\n",
      " [inf inf inf inf inf inf inf inf inf inf]\n",
      " [inf inf inf inf inf inf inf inf inf inf]\n",
      " [inf inf inf inf inf inf inf inf inf inf]\n",
      " [inf inf inf inf inf inf inf inf inf inf]\n",
      " [inf inf inf inf inf inf inf inf inf inf]\n",
      " [inf inf inf inf inf inf inf inf inf inf]\n",
      " [inf inf inf inf inf inf inf inf inf inf]\n",
      " [inf inf inf inf inf inf inf inf inf  1.]]\n",
      "[[9, 9], [9, 8], [8, 9], [9, 7], [8, 8], [7, 9], [9, 6], [8, 7], [7, 8], [6, 9], [9, 5], [8, 6], [7, 7], [6, 8], [5, 9], [9, 4], [8, 5], [7, 6], [6, 7], [5, 8], [4, 9], [9, 3], [8, 4], [7, 5], [6, 6], [5, 7], [4, 8], [3, 9], [9, 2], [8, 3], [7, 4], [6, 5], [5, 6], [4, 7], [3, 8], [2, 9], [9, 1], [8, 2], [7, 3], [6, 4], [5, 5], [4, 6], [3, 7], [2, 8], [1, 9], [9, 0], [8, 1], [7, 2], [6, 3], [5, 4], [4, 5], [3, 6], [2, 7], [1, 8], [0, 9], [8, 0], [7, 1], [6, 2], [5, 3], [4, 4], [3, 5], [2, 6], [1, 7], [0, 8], [7, 0], [6, 1], [5, 2], [4, 3], [3, 4], [2, 5], [1, 6], [0, 7], [6, 0], [5, 1], [4, 2], [3, 3], [2, 4], [1, 5], [0, 6], [5, 0], [4, 1], [3, 2], [2, 3], [1, 4], [0, 5], [4, 0], [3, 1], [2, 2], [1, 3], [0, 4], [3, 0], [2, 1], [1, 2], [0, 3], [2, 0], [1, 1], [0, 2], [1, 0], [0, 1], [0, 0]]\n",
      "[[41. 41. 40. 34. 37. 30. 25. 35. 32. 41.]\n",
      " [40. 40. 39. 31. 30. 29. 24. 28. 28. 39.]\n",
      " [39. 37. 36. 33. 27. 22. 21. 22. 21. 37.]\n",
      " [43. 42. 39. 30. 31. 22. 20. 19. 19. 29.]\n",
      " [40. 36. 32. 26. 23. 19. 21. 14. 13. 20.]\n",
      " [33. 32. 29. 28. 19. 18. 21. 13. 12. 19.]\n",
      " [32. 31. 32. 34. 25. 16. 15. 13.  9. 12.]\n",
      " [31. 28. 27. 25. 20. 16. 14. 13.  7. 11.]\n",
      " [36. 35. 33. 24. 21. 20. 17.  9.  4.  2.]\n",
      " [38. 36. 33. 32. 31. 22. 18. 14.  9.  1.]]\n",
      "40.0\n"
     ]
    }
   ],
   "source": [
    "# Now do it for the example array\n",
    "\n",
    "print(array)\n",
    "\n",
    "min_distances = np.full(array.shape, np.inf)  # use to trakc min distances?\n",
    "end_coord = [array.shape[0]-1, array.shape[1]-1]\n",
    "min_distances[end_coord[0], end_coord[1]] = array[end_coord[0], end_coord[1]]\n",
    "\n",
    "print(min_distances)\n",
    "\n",
    "max_sum = (array.shape[0] - 1) + (array.shape[1] - 1)\n",
    "\n",
    "neighbour_order = []\n",
    "for i in range(max_sum, -1, -1):\n",
    "    # print(i)\n",
    "    for j in range(0, i+1):\n",
    "        k = i - j\n",
    "        if k < array.shape[0] and j < array.shape[1]:\n",
    "            neighbour_order.append([k, j])\n",
    "            \n",
    "print(neighbour_order)\n",
    "neighbour_order.remove(end_coord)\n",
    "\n",
    "old_array = array\n",
    "            \n",
    "# for _ in range(5):  # need to do this twice? not sure - maybe until it stops changing?\n",
    "while not np.array_equal(min_distances, old_array):\n",
    "    old_array = min_distances\n",
    "    for neighbour in neighbour_order:\n",
    "        # generate neighbours for this one\n",
    "        # set it equal to minimum neighbour + itself in small_array\n",
    "        neighbours = gen_neighbours(neighbour, array.shape)\n",
    "        # print(neighbour)\n",
    "        min_value = min([min_distances[i[0], i[1]] for i in neighbours])\n",
    "        min_distances[neighbour[0], neighbour[1]] = min_value + array[neighbour[0], neighbour[1]]\n",
    "        \n",
    "print(min_distances)\n",
    "print(min_distances[0, 0] - array[0, 0])"
   ]
  },
  {
   "cell_type": "code",
   "execution_count": 11,
   "id": "6c7fda35-5cfd-440e-b974-e9798d2b6fb6",
   "metadata": {},
   "outputs": [],
   "source": [
    "# Now do it for the example array\n",
    "\n",
    "def gen_min_distances(array):\n",
    "    \"\"\"array is the original array\"\"\"\n",
    "    \n",
    "    min_distances = np.full(array.shape, np.inf)  # use to track min distances?\n",
    "    end_coord = [array.shape[0]-1, array.shape[1]-1]\n",
    "    min_distances[end_coord[0], end_coord[1]] = array[end_coord[0], end_coord[1]]\n",
    "\n",
    "    max_sum = (array.shape[0] - 1) + (array.shape[1] - 1)\n",
    "\n",
    "    neighbour_order = []\n",
    "    for i in range(max_sum, -1, -1):\n",
    "        # print(i)\n",
    "        for j in range(0, i+1):\n",
    "            k = i - j\n",
    "            if k < array.shape[0] and j < array.shape[1]:\n",
    "                neighbour_order.append([k, j])\n",
    "\n",
    "    neighbour_order.remove(end_coord)\n",
    "\n",
    "    old_array = array\n",
    "\n",
    "    # while not np.array_equal(min_distances, old_array):  # while there's still change\n",
    "    for _ in range(10):\n",
    "        old_array = min_distances\n",
    "        for neighbour in neighbour_order:\n",
    "            # generate neighbours for this one\n",
    "            # set it equal to minimum neighbour + itself in small_array\n",
    "            neighbours = gen_neighbours(neighbour, array.shape)\n",
    "            # print(neighbour)\n",
    "            min_value = min([min_distances[i[0], i[1]] for i in neighbours])\n",
    "            min_distances[neighbour[0], neighbour[1]] = min_value + array[neighbour[0], neighbour[1]]\n",
    "\n",
    "    return min_distances"
   ]
  },
  {
   "cell_type": "code",
   "execution_count": 12,
   "id": "4077c7e2-d64f-47d3-b9ec-6beeaf06d1bf",
   "metadata": {},
   "outputs": [
    {
     "name": "stdout",
     "output_type": "stream",
     "text": [
      "435.0\n"
     ]
    }
   ],
   "source": [
    "min_distances = gen_min_distances(array)\n",
    "print(min_distances[0, 0] - array[0, 0])"
   ]
  },
  {
   "cell_type": "markdown",
   "id": "c973e43d-488c-4dc5-a255-111f4394ad40",
   "metadata": {},
   "source": [
    "## Part 2\n",
    "\n",
    "Make the big array and then just run the same algorithm on it? :O"
   ]
  },
  {
   "cell_type": "code",
   "execution_count": 9,
   "id": "1b07c906-25e7-4eea-b75e-d9a6aec9abb4",
   "metadata": {},
   "outputs": [
    {
     "name": "stdout",
     "output_type": "stream",
     "text": [
      "[[7 1 7 ... 1 6 1]\n",
      " [4 6 4 ... 4 9 4]\n",
      " [3 2 8 ... 1 6 1]\n",
      " ...\n",
      " [7 5 1 ... 1 1 8]\n",
      " [2 2 7 ... 7 1 8]\n",
      " [1 8 1 ... 9 2 5]]\n"
     ]
    }
   ],
   "source": [
    "print(array)\n",
    "\n",
    "arrays = [array]\n",
    "\n",
    "# increased = array + 1\n",
    "# print(increased)\n",
    "# increased[increased == 10] = 1\n",
    "# print(increased)\n",
    "\n",
    "track_array = array.copy()\n",
    "\n",
    "for i in range(1, 9):\n",
    "    increased = track_array + 1\n",
    "    increased[increased == 10] = 1\n",
    "    track_array = increased.copy()\n",
    "    arrays.append(increased)"
   ]
  },
  {
   "cell_type": "code",
   "execution_count": 13,
   "id": "b68cbdc0-c668-4433-933f-ec64f83dd676",
   "metadata": {},
   "outputs": [
    {
     "name": "stdout",
     "output_type": "stream",
     "text": [
      "(100, 100)\n",
      "(100, 500)\n",
      "(100, 500)\n",
      "(100, 500)\n",
      "(100, 500)\n",
      "(100, 500)\n",
      "(500, 500)\n",
      "[[7 1 7 ... 5 1 5]\n",
      " [4 6 4 ... 8 4 8]\n",
      " [3 2 8 ... 5 1 5]\n",
      " ...\n",
      " [2 9 5 ... 9 9 7]\n",
      " [6 6 2 ... 6 9 7]\n",
      " [5 3 5 ... 8 1 4]]\n",
      "2842.0\n"
     ]
    }
   ],
   "source": [
    "# test = np.array([[1, 2], [3, 4]])\n",
    "# print(np.concatenate([test, test], axis=1))\n",
    "print(array.shape)\n",
    "\n",
    "rows = []\n",
    "\n",
    "for i in range(5):\n",
    "    row = [arrays[i]]\n",
    "    row.extend(arrays[i+1:i+5])\n",
    "\n",
    "    row_array = np.concatenate(row, axis=1)\n",
    "    print(row_array.shape)\n",
    "    rows.append(row_array)\n",
    "    \n",
    "big_array = np.concatenate(rows, axis=0)\n",
    "\n",
    "print(big_array.shape)\n",
    "\n",
    "print(big_array)\n",
    "\n",
    "min_distances = gen_min_distances(big_array)\n",
    "print(min_distances[0, 0] - big_array[0, 0])\n",
    "\n",
    "# tried 2846, but didn't work: too high"
   ]
  }
 ],
 "metadata": {
  "kernelspec": {
   "display_name": "Python 3 (ipykernel)",
   "language": "python",
   "name": "python3"
  },
  "language_info": {
   "codemirror_mode": {
    "name": "ipython",
    "version": 3
   },
   "file_extension": ".py",
   "mimetype": "text/x-python",
   "name": "python",
   "nbconvert_exporter": "python",
   "pygments_lexer": "ipython3",
   "version": "3.9.7"
  }
 },
 "nbformat": 4,
 "nbformat_minor": 5
}
