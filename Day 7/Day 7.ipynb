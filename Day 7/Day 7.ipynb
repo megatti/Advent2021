{
 "cells": [
  {
   "cell_type": "markdown",
   "id": "4b74f69d-2c32-467d-9476-08097d41b77c",
   "metadata": {},
   "source": [
    "## Day 7\n",
    "\n",
    "# Part 1"
   ]
  },
  {
   "cell_type": "code",
   "execution_count": 1,
   "id": "06fb46aa-590d-4cb2-b817-7d1bc2ac6653",
   "metadata": {},
   "outputs": [],
   "source": [
    "import numpy as np"
   ]
  },
  {
   "cell_type": "code",
   "execution_count": 42,
   "id": "82238bb1-4898-41d5-9e69-b68042511e3c",
   "metadata": {},
   "outputs": [],
   "source": [
    "with open(\"crabs.txt\") as f:\n",
    "    crabs = np.array([int(i) for i in f.read().strip().split(\",\")])\n",
    "    \n",
    "# print(crabs)"
   ]
  },
  {
   "cell_type": "code",
   "execution_count": 28,
   "id": "d994adde-5288-4ae1-be75-952e0643fe63",
   "metadata": {},
   "outputs": [
    {
     "name": "stdout",
     "output_type": "stream",
     "text": [
      "352254\n"
     ]
    }
   ],
   "source": [
    "finals = np.arange(np.min(crabs), np.max(crabs) + 1)\n",
    "\n",
    "fuel_totals = []\n",
    "for i in finals:\n",
    "    fuel_totals.append(np.sum(np.absolute(crabs-i)))\n",
    "    \n",
    "print(min(fuel_totals))"
   ]
  },
  {
   "cell_type": "markdown",
   "id": "5e35794a-3689-4b3f-a4e8-11c946ea5d48",
   "metadata": {},
   "source": [
    "# Part 2"
   ]
  },
  {
   "cell_type": "code",
   "execution_count": null,
   "id": "434b8f22-592e-4bde-8cc2-16a541143d27",
   "metadata": {},
   "outputs": [
    {
     "ename": "KeyboardInterrupt",
     "evalue": "",
     "output_type": "error",
     "traceback": [
      "\u001b[1;31m---------------------------------------------------------------------------\u001b[0m",
      "\u001b[1;31mKeyboardInterrupt\u001b[0m                         Traceback (most recent call last)",
      "\u001b[1;32m~\\AppData\\Local\\Temp/ipykernel_14952/2589421945.py\u001b[0m in \u001b[0;36m<module>\u001b[1;34m\u001b[0m\n\u001b[0;32m      6\u001b[0m     \u001b[0mfuels\u001b[0m \u001b[1;33m=\u001b[0m \u001b[1;33m[\u001b[0m\u001b[1;33m]\u001b[0m\u001b[1;33m\u001b[0m\u001b[1;33m\u001b[0m\u001b[0m\n\u001b[0;32m      7\u001b[0m     \u001b[1;32mfor\u001b[0m \u001b[0mj\u001b[0m \u001b[1;32min\u001b[0m \u001b[0mcrabs\u001b[0m\u001b[1;33m:\u001b[0m\u001b[1;33m\u001b[0m\u001b[1;33m\u001b[0m\u001b[0m\n\u001b[1;32m----> 8\u001b[1;33m         \u001b[0mfuels\u001b[0m\u001b[1;33m.\u001b[0m\u001b[0mappend\u001b[0m\u001b[1;33m(\u001b[0m\u001b[0msum\u001b[0m\u001b[1;33m(\u001b[0m\u001b[0mrange\u001b[0m\u001b[1;33m(\u001b[0m\u001b[0mnp\u001b[0m\u001b[1;33m.\u001b[0m\u001b[0mabsolute\u001b[0m\u001b[1;33m(\u001b[0m\u001b[0mj\u001b[0m\u001b[1;33m-\u001b[0m\u001b[0mi\u001b[0m\u001b[1;33m)\u001b[0m \u001b[1;33m+\u001b[0m \u001b[1;36m1\u001b[0m\u001b[1;33m)\u001b[0m\u001b[1;33m)\u001b[0m\u001b[1;33m)\u001b[0m\u001b[1;33m\u001b[0m\u001b[1;33m\u001b[0m\u001b[0m\n\u001b[0m\u001b[0;32m      9\u001b[0m     \u001b[0mfuel_totals\u001b[0m\u001b[1;33m.\u001b[0m\u001b[0mappend\u001b[0m\u001b[1;33m(\u001b[0m\u001b[0msum\u001b[0m\u001b[1;33m(\u001b[0m\u001b[0mfuels\u001b[0m\u001b[1;33m)\u001b[0m\u001b[1;33m)\u001b[0m\u001b[1;33m\u001b[0m\u001b[1;33m\u001b[0m\u001b[0m\n\u001b[0;32m     10\u001b[0m \u001b[1;33m\u001b[0m\u001b[0m\n",
      "\u001b[1;31mKeyboardInterrupt\u001b[0m: "
     ]
    }
   ],
   "source": [
    "# This is overly complicated! And takes forever!!\n",
    "# Faster way below which I got after thinking for more than two seconds >:(\n",
    "# Keeping it as a reference though - this is what I used to actually get the answer\n",
    "\n",
    "# finals = np.arange(np.min(crabs), np.max(crabs) + 1)\n",
    "# fuel_totals = []\n",
    "\n",
    "# fuel_totals = []\n",
    "# for i in finals:\n",
    "#     fuels = []\n",
    "#     for j in crabs:\n",
    "#         fuels.append(sum(range(np.absolute(j-i) + 1)))\n",
    "#     fuel_totals.append(sum(fuels))\n",
    "    \n",
    "# print(min(fuel_totals))"
   ]
  },
  {
   "cell_type": "code",
   "execution_count": 41,
   "id": "919eddbb-a773-40ae-9ab0-54e9a7047bae",
   "metadata": {},
   "outputs": [
    {
     "name": "stdout",
     "output_type": "stream",
     "text": [
      "99053143\n"
     ]
    }
   ],
   "source": [
    "# uses the formula for: Σn = [n(n+1)]/2\n",
    "\n",
    "finals = np.arange(np.min(crabs), np.max(crabs) + 1)\n",
    "fuel_totals = []\n",
    "\n",
    "for i in finals:\n",
    "    distance = np.absolute(crabs - i)\n",
    "    fuel_totals.append(np.sum((distance * (distance + 1)) / 2))\n",
    "    \n",
    "print(min(fuel_totals))"
   ]
  }
 ],
 "metadata": {
  "kernelspec": {
   "display_name": "Python 3 (ipykernel)",
   "language": "python",
   "name": "python3"
  },
  "language_info": {
   "codemirror_mode": {
    "name": "ipython",
    "version": 3
   },
   "file_extension": ".py",
   "mimetype": "text/x-python",
   "name": "python",
   "nbconvert_exporter": "python",
   "pygments_lexer": "ipython3",
   "version": "3.9.7"
  }
 },
 "nbformat": 4,
 "nbformat_minor": 5
}
