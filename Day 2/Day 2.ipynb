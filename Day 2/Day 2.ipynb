{
 "cells": [
  {
   "cell_type": "markdown",
   "id": "a5dbb667-ad83-46ce-bf64-e6b82343da8b",
   "metadata": {},
   "source": [
    "## Day 2\n",
    "\n",
    "# Part 1"
   ]
  },
  {
   "cell_type": "code",
   "execution_count": 11,
   "id": "075c4e10-38f8-4f47-a010-13c00fe1869f",
   "metadata": {},
   "outputs": [],
   "source": [
    "commands = []\n",
    "with open(\"commands.txt\", \"r\") as f:\n",
    "    for line in f.readlines():\n",
    "        stripped = line.strip()\n",
    "        commands.append((line.split()[0], int(line.split()[1])))\n",
    "        \n",
    "# print(commands)"
   ]
  },
  {
   "cell_type": "code",
   "execution_count": 8,
   "id": "ed6cfea4-8163-41d3-8b5b-6017a81317e8",
   "metadata": {},
   "outputs": [
    {
     "name": "stdout",
     "output_type": "stream",
     "text": [
      "[2085, 785]\n",
      "answer:  1636725\n"
     ]
    }
   ],
   "source": [
    "position = [0, 0]  # horizontal, depth\n",
    "\n",
    "for command in commands:\n",
    "    if command[0] == \"forward\":\n",
    "        position[0] += command[1]\n",
    "    elif command[0] == \"down\":\n",
    "        position[1] += command[1]\n",
    "    else:\n",
    "        position[1] -= command[1]\n",
    "        \n",
    "print(position)\n",
    "print(\"answer: \", position[0] * position[1])"
   ]
  },
  {
   "cell_type": "markdown",
   "id": "c983704f-41b1-4900-9229-32c3fe9decd8",
   "metadata": {},
   "source": [
    "# Part 2"
   ]
  },
  {
   "cell_type": "code",
   "execution_count": 12,
   "id": "b694c96d-f298-45eb-991d-73ecab13c6fb",
   "metadata": {},
   "outputs": [
    {
     "name": "stdout",
     "output_type": "stream",
     "text": [
      "[2085, 898205]\n",
      "answer:  1872757425\n"
     ]
    }
   ],
   "source": [
    "position = [0, 0]  # horizontal, depth\n",
    "aim = 0\n",
    "\n",
    "for command in commands:\n",
    "    if command[0] == \"forward\":\n",
    "        position[0] += command[1]\n",
    "        position[1] += (aim * command[1])\n",
    "    elif command[0] == \"down\":\n",
    "        aim += command[1]\n",
    "    else:\n",
    "        aim -= command[1]\n",
    "        \n",
    "print(position)\n",
    "print(\"answer: \", position[0] * position[1])"
   ]
  }
 ],
 "metadata": {
  "kernelspec": {
   "display_name": "Python 3 (ipykernel)",
   "language": "python",
   "name": "python3"
  },
  "language_info": {
   "codemirror_mode": {
    "name": "ipython",
    "version": 3
   },
   "file_extension": ".py",
   "mimetype": "text/x-python",
   "name": "python",
   "nbconvert_exporter": "python",
   "pygments_lexer": "ipython3",
   "version": "3.9.7"
  }
 },
 "nbformat": 4,
 "nbformat_minor": 5
}
