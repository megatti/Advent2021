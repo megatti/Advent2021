{
 "cells": [
  {
   "cell_type": "markdown",
   "id": "a5dbb667-ad83-46ce-bf64-e6b82343da8b",
   "metadata": {},
   "source": [
    "## Day 2\n",
    "\n",
    "# Part 1"
   ]
  },
  {
   "cell_type": "code",
   "execution_count": 11,
   "id": "075c4e10-38f8-4f47-a010-13c00fe1869f",
   "metadata": {},
   "outputs": [],
   "source": [
    "commands = []\n",
    "with open(\"commands.txt\", \"r\") as f:\n",
    "    for line in f.readlines():\n",
    "        commands.append((line.split()[0], int(line.split()[1])))\n",
    "        \n",
    "# print(commands)"
   ]
  },
  {
   "cell_type": "code",
   "execution_count": 8,
   "id": "ed6cfea4-8163-41d3-8b5b-6017a81317e8",
   "metadata": {},
   "outputs": [
    {
     "name": "stdout",
     "output_type": "stream",
     "text": [
      "[2085, 785]\n",
      "answer:  1636725\n"
     ]
    }
   ],
   "source": [
    "position = [0, 0]  # horizontal, depth\n",
    "\n",
    "for command in commands:\n",
    "    if command[0] == \"forward\":\n",
    "        position[0] += command[1]\n",
    "    elif command[0] == \"down\":\n",
    "        position[1] += command[1]\n",
    "    else:\n",
    "        position[1] -= command[1]\n",
    "        \n",
    "print(position)\n",
    "print(\"answer: \", position[0] * position[1])"
   ]
  },
  {
   "cell_type": "markdown",
   "id": "c983704f-41b1-4900-9229-32c3fe9decd8",
   "metadata": {},
   "source": [
    "# Part 2"
   ]
  },
  {
   "cell_type": "code",
   "execution_count": 12,
   "id": "b694c96d-f298-45eb-991d-73ecab13c6fb",
   "metadata": {},
   "outputs": [
    {
     "name": "stdout",
     "output_type": "stream",
     "text": [
      "[2085, 898205]\n",
      "answer:  1872757425\n"
     ]
    }
   ],
   "source": [
    "position = [0, 0]  # horizontal, depth\n",
    "aim = 0\n",
    "\n",
    "for command in commands:\n",
    "    if command[0] == \"forward\":\n",
    "        position[0] += command[1]\n",
    "        position[1] += (aim * command[1])\n",
    "    elif command[0] == \"down\":\n",
    "        aim += command[1]\n",
    "    else:\n",
    "        aim -= command[1]\n",
    "        \n",
    "print(position)\n",
    "print(\"answer: \", position[0] * position[1])"
   ]
  },
  {
   "cell_type": "markdown",
   "id": "4b5df794-88aa-4a4a-bc5a-b55d72ee9684",
   "metadata": {},
   "source": [
    "## Visualisation"
   ]
  },
  {
   "cell_type": "code",
   "execution_count": 20,
   "id": "f76de403-22a4-4d4e-a980-31a5cbe01ac4",
   "metadata": {},
   "outputs": [],
   "source": [
    "import numpy as np\n",
    "import matplotlib\n",
    "import matplotlib.pyplot as plt\n",
    "import seaborn as sns\n",
    "\n",
    "from matplotlib.animation import FuncAnimation"
   ]
  },
  {
   "cell_type": "code",
   "execution_count": 25,
   "id": "a60c4b52-9b6e-4e04-803e-b33b9b87dad3",
   "metadata": {},
   "outputs": [
    {
     "name": "stdout",
     "output_type": "stream",
     "text": [
      "[2085, 785] [2085, 898205]\n"
     ]
    }
   ],
   "source": [
    "position1 = [0, 0]  # horizontal, depth\n",
    "horizontal1 = [0]\n",
    "depth1 = [0]\n",
    "\n",
    "position2 = [0, 0]  # horizontal, depth\n",
    "aim = 0\n",
    "horizontal2 = [0]\n",
    "depth2 = [0]\n",
    "\n",
    "# P1\n",
    "for command in commands:\n",
    "    if command[0] == \"forward\":\n",
    "        position1[0] += command[1]\n",
    "    elif command[0] == \"down\":\n",
    "        position1[1] += command[1]\n",
    "    else:\n",
    "        position1[1] -= command[1]\n",
    "        \n",
    "    horizontal1.append(position1[0])\n",
    "    depth1.append(-position1[1])\n",
    "        \n",
    "# P2\n",
    "for command in commands:\n",
    "    if command[0] == \"forward\":\n",
    "        position2[0] += command[1]\n",
    "        position2[1] += (aim * command[1])\n",
    "    elif command[0] == \"down\":\n",
    "        aim += command[1]\n",
    "    else:\n",
    "        aim -= command[1]\n",
    "    \n",
    "    horizontal2.append(position2[0])\n",
    "    depth2.append(-position2[1])\n",
    "        \n",
    "print(position1, position2)\n",
    "# print(\"answer: \", position[0] * position[1])"
   ]
  },
  {
   "cell_type": "code",
   "execution_count": 27,
   "id": "a7438154-2e30-490f-80e0-17552e023842",
   "metadata": {},
   "outputs": [
    {
     "data": {
      "image/png": "[encoded data removed]",
      "text/plain": [
       "<Figure size 792x648 with 1 Axes>"
      ]
     },
     "metadata": {
      "needs_background": "light"
     },
     "output_type": "display_data"
    }
   ],
   "source": [
    "# Visualisation?\n",
    "\n",
    "palette = sns.color_palette(\"coolwarm\", len(horizontal1))\n",
    "\n",
    "fig, ax = plt.subplots(figsize=(11,9))\n",
    "\n",
    "ax.set_xlabel(\"Horizontal Position\")\n",
    "ax.set_ylabel(\"Depth\")\n",
    "ax.set_title(\"Submarine's Journey\")\n",
    "\n",
    "ax.plot(horizontal1, depth1, color=(0.05, 0.4, 0.05))\n",
    "\n",
    "ax.grid()\n",
    "fig.tight_layout()\n",
    "fig.savefig(\"submarine_plot1.png\", dpi=300)"
   ]
  }
 ],
 "metadata": {
  "kernelspec": {
   "display_name": "Python 3 (ipykernel)",
   "language": "python",
   "name": "python3"
  },
  "language_info": {
   "codemirror_mode": {
    "name": "ipython",
    "version": 3
   },
   "file_extension": ".py",
   "mimetype": "text/x-python",
   "name": "python",
   "nbconvert_exporter": "python",
   "pygments_lexer": "ipython3",
   "version": "3.9.7"
  }
 },
 "nbformat": 4,
 "nbformat_minor": 5
}
