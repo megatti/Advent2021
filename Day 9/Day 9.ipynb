{
 "cells": [
  {
   "cell_type": "markdown",
   "id": "e538d69b-2280-4648-8157-9cfb2f6138e8",
   "metadata": {},
   "source": [
    "# Day 9\n",
    "\n",
    "## Part 1"
   ]
  },
  {
   "cell_type": "code",
   "execution_count": 130,
   "id": "097ea7cc-1851-4317-84cd-df5d057a5a1e",
   "metadata": {},
   "outputs": [],
   "source": [
    "import numpy as np\n",
    "\n",
    "with open(\"heightmap.txt\") as f:\n",
    "    heightmap = np.array([[int(char) for char in line.strip()] for line in f.readlines()])\n",
    "\n",
    "# print(heightmap)"
   ]
  },
  {
   "cell_type": "code",
   "execution_count": 131,
   "id": "feb187f7-acaa-4850-8e0a-eb2b8e102200",
   "metadata": {},
   "outputs": [
    {
     "name": "stdout",
     "output_type": "stream",
     "text": [
      "633\n"
     ]
    }
   ],
   "source": [
    "padded = np.pad(heightmap, 1, constant_values=np.max(heightmap)+1)\n",
    "# print(heightmap)\n",
    "\n",
    "diff_lr = np.diff(padded)[1:-1, :-1]\n",
    "diff_rl = np.fliplr(np.diff(np.fliplr(padded))[1:-1, :-1])\n",
    "diff_ud = np.diff(padded, axis=0)[:-1, 1:-1]\n",
    "diff_du = np.flipud(np.diff(np.flipud(padded), axis=0)[:-1, 1:-1])\n",
    "mask = (diff_lr < 0) & (diff_rl < 0) & (diff_ud < 0) & (diff_du < 0)\n",
    "\n",
    "risk_level = (heightmap + 1) * mask\n",
    "print(np.sum(risk_level))"
   ]
  },
  {
   "cell_type": "markdown",
   "id": "3bbe0cd6-749e-477c-b8a3-28990fe9804b",
   "metadata": {},
   "source": [
    "## Part 2"
   ]
  },
  {
   "cell_type": "code",
   "execution_count": 135,
   "id": "8d783b02-43d3-49a0-9936-d584535900b4",
   "metadata": {},
   "outputs": [
    {
     "name": "stdout",
     "output_type": "stream",
     "text": [
      "1050192\n"
     ]
    }
   ],
   "source": [
    "from scipy import ndimage\n",
    "\n",
    "walls = heightmap < 9\n",
    "walls = walls.astype(int)\n",
    "\n",
    "labelled, count = ndimage.label(walls)\n",
    "\n",
    "areas = []\n",
    "\n",
    "for i in range(count):\n",
    "    areas.append(np.sum(walls[labelled == i + 1]))\n",
    "\n",
    "print(np.prod(sorted(areas)[-3:]))"
   ]
  }
 ],
 "metadata": {
  "kernelspec": {
   "display_name": "Python 3 (ipykernel)",
   "language": "python",
   "name": "python3"
  },
  "language_info": {
   "codemirror_mode": {
    "name": "ipython",
    "version": 3
   },
   "file_extension": ".py",
   "mimetype": "text/x-python",
   "name": "python",
   "nbconvert_exporter": "python",
   "pygments_lexer": "ipython3",
   "version": "3.9.7"
  }
 },
 "nbformat": 4,
 "nbformat_minor": 5
}
