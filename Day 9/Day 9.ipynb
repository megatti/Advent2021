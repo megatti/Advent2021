{
 "cells": [
  {
   "cell_type": "markdown",
   "id": "e538d69b-2280-4648-8157-9cfb2f6138e8",
   "metadata": {},
   "source": [
    "# Day 9\n",
    "\n",
    "## Part 1"
   ]
  },
  {
   "cell_type": "code",
   "execution_count": 130,
   "id": "097ea7cc-1851-4317-84cd-df5d057a5a1e",
   "metadata": {},
   "outputs": [],
   "source": [
    "import numpy as np\n",
    "\n",
    "with open(\"heightmap.txt\") as f:\n",
    "    heightmap = np.array([[int(char) for char in line.strip()] for line in f.readlines()])\n",
    "\n",
    "# print(heightmap)"
   ]
  },
  {
   "cell_type": "code",
   "execution_count": 131,
   "id": "feb187f7-acaa-4850-8e0a-eb2b8e102200",
   "metadata": {},
   "outputs": [
    {
     "name": "stdout",
     "output_type": "stream",
     "text": [
      "633\n"
     ]
    }
   ],
   "source": [
    "padded = np.pad(heightmap, 1, constant_values=np.max(heightmap)+1)\n",
    "# print(heightmap)\n",
    "\n",
    "diff_lr = np.diff(padded)[1:-1, :-1]\n",
    "diff_rl = np.fliplr(np.diff(np.fliplr(padded))[1:-1, :-1])\n",
    "diff_ud = np.diff(padded, axis=0)[:-1, 1:-1]\n",
    "diff_du = np.flipud(np.diff(np.flipud(padded), axis=0)[:-1, 1:-1])\n",
    "mask = (diff_lr < 0) & (diff_rl < 0) & (diff_ud < 0) & (diff_du < 0)\n",
    "\n",
    "risk_level = (heightmap + 1) * mask\n",
    "print(np.sum(risk_level))"
   ]
  },
  {
   "cell_type": "markdown",
   "id": "3bbe0cd6-749e-477c-b8a3-28990fe9804b",
   "metadata": {},
   "source": [
    "## Part 2"
   ]
  },
  {
   "cell_type": "code",
   "execution_count": 88,
   "id": "a78f7ce2-1b14-4e4e-b76d-85440222e8a1",
   "metadata": {},
   "outputs": [
    {
     "name": "stdout",
     "output_type": "stream",
     "text": [
      "[[2 1 9 9 9 4 3 2 1 0]\n",
      " [3 9 8 7 8 9 4 9 2 1]\n",
      " [9 8 5 6 7 8 9 8 9 2]\n",
      " [8 7 6 7 8 9 6 7 8 9]\n",
      " [9 8 9 9 9 6 5 6 7 8]]\n",
      "[[False  True False False False False False False False  True]\n",
      " [False False False False False False False False False False]\n",
      " [False False  True False False False False False False False]\n",
      " [False False False False False False False False False False]\n",
      " [False False False False False False  True False False False]]\n",
      "(array([0, 0, 2, 4], dtype=int64), array([1, 9, 2, 6], dtype=int64))\n"
     ]
    }
   ],
   "source": [
    "# print(heightmap)\n",
    "# print(mask)\n",
    "# print(np.where(mask))"
   ]
  },
  {
   "cell_type": "code",
   "execution_count": 100,
   "id": "9d6e9a33-f443-43a3-8944-e3f72d8b138d",
   "metadata": {},
   "outputs": [
    {
     "name": "stdout",
     "output_type": "stream",
     "text": [
      "[[ True  True False False False  True  True  True  True  True]\n",
      " [ True False  True  True  True False  True False  True  True]\n",
      " [False  True  True  True  True  True False  True False  True]\n",
      " [ True  True  True  True  True False  True  True  True False]\n",
      " [False  True False False False  True  True  True  True  True]]\n",
      "[[0, 0], [0, 1], [0, 5], [0, 6], [0, 7], [0, 8], [0, 9], [1, 0], [1, 2], [1, 3], [1, 4], [1, 6], [1, 8], [1, 9], [2, 1], [2, 2], [2, 3], [2, 4], [2, 5], [2, 7], [2, 9], [3, 0], [3, 1], [3, 2], [3, 3], [3, 4], [3, 6], [3, 7], [3, 8], [4, 1], [4, 5], [4, 6], [4, 7], [4, 8], [4, 9]]\n"
     ]
    }
   ],
   "source": [
    "# print(heightmap<9)\n",
    "# # print(np.where(heightmap<9))\n",
    "\n",
    "# # I can get the indices of all the Trues here\n",
    "# # Group the indices into lists depending on whether they're one more either in the x direction or y direction \n",
    "# # than something else in the list?\n",
    "# indices = [[i, j] for i, j in zip(np.where(heightmap<9)[0], np.where(heightmap<9)[1])]\n",
    "# print(indices)"
   ]
  },
  {
   "cell_type": "code",
   "execution_count": 135,
   "id": "8d783b02-43d3-49a0-9936-d584535900b4",
   "metadata": {},
   "outputs": [
    {
     "name": "stdout",
     "output_type": "stream",
     "text": [
      "1050192\n"
     ]
    }
   ],
   "source": [
    "from scipy import ndimage\n",
    "\n",
    "walls = heightmap<9\n",
    "walls = walls.astype(int)\n",
    "\n",
    "labelled, count = ndimage.label(walls)\n",
    "\n",
    "areas = []\n",
    "\n",
    "for i in range(count):\n",
    "    areas.append(np.sum(walls[labelled == i + 1]))\n",
    "\n",
    "print(np.prod(sorted(areas)[-3:]))"
   ]
  },
  {
   "cell_type": "code",
   "execution_count": null,
   "id": "2d2293ae-dc4b-4f8a-a0be-dc023fb8f731",
   "metadata": {},
   "outputs": [],
   "source": [
    "# Start with first one"
   ]
  },
  {
   "cell_type": "code",
   "execution_count": 64,
   "id": "0a03f1d7-125e-4831-b33d-a032b0b88810",
   "metadata": {},
   "outputs": [
    {
     "name": "stdout",
     "output_type": "stream",
     "text": [
      "[[1 2 3]\n",
      " [4 5 6]]\n",
      "[[ True  True False]\n",
      " [False False False]]\n",
      "[ True False  True]\n",
      "[ True False False]\n",
      "[ True False False]\n"
     ]
    }
   ],
   "source": [
    "a = np.array([[1, 2, 3], [4, 5, 6]])\n",
    "print(a)\n",
    "print(a < 3)\n",
    "\n",
    "b = np.array([-1, 1, -1])\n",
    "c = np.array([-1, 1, 1])\n",
    "\n",
    "print(b < 0)\n",
    "print(c < 0)\n",
    "print((b < 0) & (c < 0))"
   ]
  }
 ],
 "metadata": {
  "kernelspec": {
   "display_name": "Python 3 (ipykernel)",
   "language": "python",
   "name": "python3"
  },
  "language_info": {
   "codemirror_mode": {
    "name": "ipython",
    "version": 3
   },
   "file_extension": ".py",
   "mimetype": "text/x-python",
   "name": "python",
   "nbconvert_exporter": "python",
   "pygments_lexer": "ipython3",
   "version": "3.9.7"
  }
 },
 "nbformat": 4,
 "nbformat_minor": 5
}
