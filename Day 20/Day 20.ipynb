{
 "cells": [
  {
   "cell_type": "markdown",
   "id": "639249b5-ef64-49e2-b342-8a29abfbe95f",
   "metadata": {},
   "source": [
    "# Day 20\n",
    "## Part 1"
   ]
  },
  {
   "cell_type": "code",
   "execution_count": 1,
   "id": "abf7526e-0c99-4979-b363-3f8f095da324",
   "metadata": {},
   "outputs": [],
   "source": [
    "import numpy as np\n",
    "import scipy.ndimage"
   ]
  },
  {
   "cell_type": "code",
   "execution_count": 3,
   "id": "7b34f1f2-bed5-494c-96f5-fda1712f6069",
   "metadata": {},
   "outputs": [
    {
     "name": "stdout",
     "output_type": "stream",
     "text": [
      "[[1 0 0 1 0]\n",
      " [1 0 0 0 0]\n",
      " [1 1 0 0 1]\n",
      " [0 0 1 0 0]\n",
      " [0 0 1 1 1]]\n"
     ]
    }
   ],
   "source": [
    "with open(\"ex1.txt\") as f:\n",
    "    lines = [line.strip() for line in f.readlines()]\n",
    "    \n",
    "algorithm = tuple(int(i) for i in lines[0].replace(\"#\", \"1\").replace(\".\", \"0\"))\n",
    "# print(algorithm)\n",
    "\n",
    "image = []\n",
    "for line in lines[2:]:\n",
    "    line = line.replace(\"#\", \"1\").replace(\".\", \"0\")\n",
    "    image.append([int(i) for i in line])\n",
    "\n",
    "image = np.array(image)\n",
    "print(image)"
   ]
  },
  {
   "cell_type": "markdown",
   "id": "d11db4e6-86c8-4398-a1d6-2b9db5af1396",
   "metadata": {},
   "source": [
    "I need a function to turn a 3x3 array into a decimal number through binary."
   ]
  },
  {
   "cell_type": "code",
   "execution_count": 4,
   "id": "74860006-1f54-4be0-b508-f2ac8c10eb51",
   "metadata": {},
   "outputs": [
    {
     "name": "stdout",
     "output_type": "stream",
     "text": [
      "341\n"
     ]
    }
   ],
   "source": [
    "test = np.array([[1, 0, 1], [0, 1, 0], [1, 0, 1]])\n",
    "print(int(str(101010101), 2))\n",
    "\n",
    "def get_decimal(array):\n",
    "    \"Array is a 3x3 array. Returns an integer.\"\n",
    "    binary = \"\".join([str(i) for i in test.flatten()])\n",
    "    return int(binary, 2)\n",
    "\n",
    "def get_algorithm(array, algorithm=algorithm):\n",
    "    # array is a flat array already\n",
    "    # print(array)\n",
    "    # print(array.shape)\n",
    "    binary = \"\".join([str(i) for i in array.astype(int)])\n",
    "    # print(binary)\n",
    "    # algo_index = get_decimal(array)\n",
    "    algo_index = int(binary, 2)\n",
    "    return algorithm[algo_index]\n",
    "\n",
    "# print(get_decimal(test))\n",
    "# print(get_algorithm(test.flatten(), algorithm))"
   ]
  },
  {
   "cell_type": "markdown",
   "id": "b7664e19-2876-4030-88dc-d1a50cf32081",
   "metadata": {},
   "source": [
    "Need to pad image by 2 layers of zeros."
   ]
  },
  {
   "cell_type": "code",
   "execution_count": 61,
   "id": "e74c3aec-3093-4dcb-b7bf-e2a425b66535",
   "metadata": {},
   "outputs": [
    {
     "name": "stdout",
     "output_type": "stream",
     "text": [
      "[[1 0 0 1 0]\n",
      " [1 0 0 0 0]\n",
      " [1 1 0 0 1]\n",
      " [0 0 1 0 0]\n",
      " [0 0 1 1 1]]\n",
      "[[0 0 0 0 0 0 0 0 0]\n",
      " [0 0 0 0 0 0 0 0 0]\n",
      " [0 0 1 0 0 1 0 0 0]\n",
      " [0 0 1 0 0 0 0 0 0]\n",
      " [0 0 1 1 0 0 1 0 0]\n",
      " [0 0 0 0 1 0 0 0 0]\n",
      " [0 0 0 0 1 1 1 0 0]\n",
      " [0 0 0 0 0 0 0 0 0]\n",
      " [0 0 0 0 0 0 0 0 0]]\n",
      "[[0 0 0 0 0 0 0 0 0]\n",
      " [0 0 1 1 0 1 1 0 0]\n",
      " [0 1 0 0 1 0 1 0 0]\n",
      " [0 1 1 0 1 0 0 1 0]\n",
      " [0 1 1 1 1 0 0 1 0]\n",
      " [0 0 1 0 0 1 1 0 0]\n",
      " [0 0 0 1 1 0 0 1 0]\n",
      " [0 0 0 0 1 0 1 0 0]\n",
      " [0 0 0 0 0 0 0 0 0]]\n"
     ]
    }
   ],
   "source": [
    "padded = np.pad(image, 2, mode=\"constant\", constant_values=0)\n",
    "print(image)\n",
    "print(padded)\n",
    "cleaned = scipy.ndimage.generic_filter(padded, get_algorithm, size=(3, 3), \n",
    "                                       mode=\"constant\", cval=0, extra_keywords={\"algorithm\": algorithm})\n",
    "print(cleaned)"
   ]
  },
  {
   "cell_type": "code",
   "execution_count": 5,
   "id": "1ef6040d-de90-4b2d-ac3f-ca2ba3026dcf",
   "metadata": {},
   "outputs": [],
   "source": [
    "def trim_zeros(image):\n",
    "    nonzeros = np.argwhere(image)\n",
    "    top_left = nonzeros.min(axis=0)\n",
    "    bottom_right = nonzeros.max(axis=0)\n",
    "    trimmed = image[top_left[0]:bottom_right[0]+1,  # plus 1 because slice isn't\n",
    "                    top_left[1]:bottom_right[1]+1]\n",
    "    return trimmed"
   ]
  },
  {
   "cell_type": "code",
   "execution_count": 6,
   "id": "f3c9b375-3d7f-44ee-b5e8-6948fe7a1f23",
   "metadata": {},
   "outputs": [],
   "source": [
    "def enhance_image(image, algorithm, pad_value=0):\n",
    "    padded = np.pad(image, 2, mode=\"constant\", constant_values=pad_value)\n",
    "    cleaned = scipy.ndimage.generic_filter(padded, get_algorithm, size=(3, 3), \n",
    "                                           mode=\"constant\", cval=pad_value, extra_keywords={\"algorithm\": algorithm})\n",
    "    pad_value = int(cleaned[0,0])  # top-left corner shows what the infinity is turnd into\n",
    "    cleaned = trim_zeros(cleaned)\n",
    "    return cleaned, pad_value"
   ]
  },
  {
   "cell_type": "code",
   "execution_count": 7,
   "id": "f8c7cb00-f2a4-4afb-bbaf-16f74e4e2dca",
   "metadata": {},
   "outputs": [
    {
     "name": "stdout",
     "output_type": "stream",
     "text": [
      "[[1 1 1 ... 1 1 0]\n",
      " [1 0 0 ... 0 0 1]\n",
      " [1 0 0 ... 1 1 0]\n",
      " ...\n",
      " [1 0 0 ... 1 1 0]\n",
      " [0 0 0 ... 1 1 0]\n",
      " [1 1 1 ... 0 1 0]]\n",
      "[[0 0 1 ... 1 0 0]\n",
      " [1 1 1 ... 1 1 0]\n",
      " [1 0 1 ... 1 1 1]\n",
      " ...\n",
      " [0 1 1 ... 1 0 0]\n",
      " [0 0 0 ... 1 0 0]\n",
      " [0 0 0 ... 0 0 0]]\n",
      "5819\n"
     ]
    }
   ],
   "source": [
    "with open(\"image.txt\") as f:\n",
    "    lines = [line.strip() for line in f.readlines()]\n",
    "    \n",
    "algorithm = tuple(int(i) for i in lines[0].replace(\"#\", \"1\").replace(\".\", \"0\"))\n",
    "# print(algorithm)\n",
    "\n",
    "image = []\n",
    "for line in lines[2:]:\n",
    "    line = line.replace(\"#\", \"1\").replace(\".\", \"0\")\n",
    "    image.append([int(i) for i in line])\n",
    "\n",
    "image = np.array(image)\n",
    "print(image)\n",
    "pad_value = 0\n",
    "\n",
    "for _ in range(2):\n",
    "    image, pad_value = enhance_image(image, algorithm, pad_value=pad_value)\n",
    "    # print(pad_value)\n",
    "    \n",
    "print(image)\n",
    "    \n",
    "print(image.sum())"
   ]
  },
  {
   "cell_type": "markdown",
   "id": "5200880d-e34e-4852-8c4a-47f4deb25745",
   "metadata": {},
   "source": [
    "## Part 2"
   ]
  },
  {
   "cell_type": "code",
   "execution_count": 9,
   "id": "b5129cb0-03b0-45b0-9a4a-7ebd7f97cccd",
   "metadata": {},
   "outputs": [
    {
     "name": "stdout",
     "output_type": "stream",
     "text": [
      "[[1 0 0 1 0]\n",
      " [1 0 0 0 0]\n",
      " [1 1 0 0 1]\n",
      " [0 0 1 0 0]\n",
      " [0 0 1 1 1]]\n",
      "0\n",
      "1\n",
      "2\n",
      "3\n",
      "4\n",
      "5\n",
      "6\n",
      "7\n",
      "8\n",
      "9\n",
      "10\n",
      "11\n",
      "12\n",
      "13\n",
      "14\n",
      "15\n",
      "16\n",
      "17\n",
      "18\n",
      "19\n",
      "20\n",
      "21\n",
      "22\n",
      "23\n",
      "24\n",
      "25\n",
      "26\n",
      "27\n",
      "28\n",
      "29\n",
      "30\n",
      "31\n",
      "32\n",
      "33\n",
      "34\n",
      "35\n",
      "36\n",
      "37\n",
      "38\n",
      "39\n",
      "40\n",
      "41\n",
      "42\n",
      "43\n",
      "44\n",
      "45\n",
      "46\n",
      "47\n",
      "48\n",
      "49\n",
      "[[0 0 0 ... 0 1 0]\n",
      " [0 0 0 ... 1 0 0]\n",
      " [0 0 0 ... 0 1 1]\n",
      " ...\n",
      " [0 0 0 ... 0 0 0]\n",
      " [0 0 0 ... 0 0 0]\n",
      " [0 0 0 ... 0 0 0]]\n",
      "3351\n"
     ]
    }
   ],
   "source": [
    "with open(\"ex1.txt\") as f:\n",
    "    lines = [line.strip() for line in f.readlines()]\n",
    "    \n",
    "algorithm = tuple(int(i) for i in lines[0].replace(\"#\", \"1\").replace(\".\", \"0\"))\n",
    "# print(algorithm)\n",
    "\n",
    "image = []\n",
    "for line in lines[2:]:\n",
    "    line = line.replace(\"#\", \"1\").replace(\".\", \"0\")\n",
    "    image.append([int(i) for i in line])\n",
    "\n",
    "image = np.array(image)\n",
    "print(image)\n",
    "pad_value = 0\n",
    "\n",
    "for i in range(50):\n",
    "    print(i)\n",
    "    image, pad_value = enhance_image(image, algorithm, pad_value=pad_value)\n",
    "    # print(pad_value)\n",
    "    \n",
    "print(image)\n",
    "    \n",
    "print(image.sum())"
   ]
  }
 ],
 "metadata": {
  "kernelspec": {
   "display_name": "Python 3 (ipykernel)",
   "language": "python",
   "name": "python3"
  },
  "language_info": {
   "codemirror_mode": {
    "name": "ipython",
    "version": 3
   },
   "file_extension": ".py",
   "mimetype": "text/x-python",
   "name": "python",
   "nbconvert_exporter": "python",
   "pygments_lexer": "ipython3",
   "version": "3.9.7"
  }
 },
 "nbformat": 4,
 "nbformat_minor": 5
}
