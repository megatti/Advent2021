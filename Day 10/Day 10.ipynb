{
 "cells": [
  {
   "cell_type": "markdown",
   "id": "e7c4dbad-21db-49c6-b11e-6bf67e5197e2",
   "metadata": {},
   "source": [
    "# Day 10\n",
    "## Part 1"
   ]
  },
  {
   "cell_type": "code",
   "execution_count": 70,
   "id": "77ad6e3e-51cb-4032-b345-89f37cbdf1eb",
   "metadata": {},
   "outputs": [],
   "source": [
    "import queue\n",
    "\n",
    "with open(\"navigation.txt\") as f:\n",
    "    navs = [line.strip() for line in f.readlines()]\n",
    "    \n",
    "# print(navs)"
   ]
  },
  {
   "cell_type": "code",
   "execution_count": 75,
   "id": "5b0d9d19-3d81-4e71-b2bc-ad306506bef1",
   "metadata": {},
   "outputs": [
    {
     "name": "stdout",
     "output_type": "stream",
     "text": [
      "369105\n"
     ]
    }
   ],
   "source": [
    "scores = {\")\": 3, \"]\": 57, \"}\": 1197, \">\": 25137}\n",
    "matching = {\"(\": \")\", \"[\": \"]\", \"{\": \"}\", \"<\": \">\"}\n",
    "\n",
    "score = 0\n",
    "\n",
    "incompletes = []\n",
    "queues = []\n",
    "\n",
    "for nav in navs:\n",
    "    old_score = score\n",
    "    # print(nav)\n",
    "    history = queue.LifoQueue()\n",
    "    for char in nav:\n",
    "        current = char\n",
    "        # print(\"current char\", current)\n",
    "        \n",
    "        if current in matching.keys():\n",
    "            # if it's an opening, just add it to the queue\n",
    "            history.put(current)\n",
    "            continue\n",
    "        \n",
    "        # otherwise, it's an ending\n",
    "        # check whether it's the ending to the last opening in the queue\n",
    "        try:\n",
    "            old = history.get_nowait()\n",
    "        except queue.Empty:\n",
    "            # first character is a closing\n",
    "            # print(\"queue was empty?\")\n",
    "            score += scores[current]\n",
    "            break\n",
    "            \n",
    "        if current == matching[old]:\n",
    "            # print(\"match found! current/old:\", current, old)\n",
    "            # they match, so just keep going\n",
    "            continue\n",
    "        else:\n",
    "            # syntax error found\n",
    "            # print(\"error found :( current/old:\", current, old)\n",
    "            score += scores[current]\n",
    "            break\n",
    "    # print(score)\n",
    "    if score == old_score:\n",
    "        # no errors found\n",
    "        incompletes.append(nav)\n",
    "        # print(history.empty())\n",
    "        queues.append(history)\n",
    "        \n",
    "print(score)"
   ]
  },
  {
   "cell_type": "markdown",
   "id": "5a3d0e5c-82e4-4776-95be-1bee6cd90994",
   "metadata": {},
   "source": [
    "## Part 2"
   ]
  },
  {
   "cell_type": "code",
   "execution_count": 76,
   "id": "c25db44f-1451-43a2-8db6-00eb7f332653",
   "metadata": {},
   "outputs": [
    {
     "name": "stdout",
     "output_type": "stream",
     "text": [
      "3999363569\n"
     ]
    }
   ],
   "source": [
    "# print(incompletes)\n",
    "# print(queues)\n",
    "\n",
    "incomplete_scores = {\")\": 1, \"]\": 2, \"}\": 3, \">\": 4}\n",
    "\n",
    "all_scores = []\n",
    "\n",
    "# Go through the queue for each incomplete one, and just add the matching closed bracket\n",
    "for nav, history in zip(incompletes, queues):\n",
    "    score = 0\n",
    "    while True:\n",
    "        # print(history.empty())\n",
    "        try:\n",
    "            opening = history.get_nowait()\n",
    "        except queue.Empty:\n",
    "            # queue is done\n",
    "            break\n",
    "        closing = matching[opening]\n",
    "        score *= 5\n",
    "        score += incomplete_scores[closing]\n",
    "        \n",
    "    all_scores.append(score)\n",
    "    \n",
    "# print(all_scores)\n",
    "# print(len(all_scores))\n",
    "print(sorted(all_scores)[int((len(all_scores) - 1) / 2)])"
   ]
  }
 ],
 "metadata": {
  "kernelspec": {
   "display_name": "Python 3 (ipykernel)",
   "language": "python",
   "name": "python3"
  },
  "language_info": {
   "codemirror_mode": {
    "name": "ipython",
    "version": 3
   },
   "file_extension": ".py",
   "mimetype": "text/x-python",
   "name": "python",
   "nbconvert_exporter": "python",
   "pygments_lexer": "ipython3",
   "version": "3.9.7"
  }
 },
 "nbformat": 4,
 "nbformat_minor": 5
}
