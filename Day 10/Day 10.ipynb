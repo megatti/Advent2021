{
 "cells": [
  {
   "cell_type": "markdown",
   "id": "e7c4dbad-21db-49c6-b11e-6bf67e5197e2",
   "metadata": {},
   "source": [
    "# Day 10\n",
    "## Part 1"
   ]
  },
  {
   "cell_type": "code",
   "execution_count": 70,
   "id": "77ad6e3e-51cb-4032-b345-89f37cbdf1eb",
   "metadata": {},
   "outputs": [],
   "source": [
    "import queue\n",
    "\n",
    "with open(\"navigation.txt\") as f:\n",
    "    navs = [line.strip() for line in f.readlines()]\n",
    "    \n",
    "# print(navs)"
   ]
  },
  {
   "cell_type": "code",
   "execution_count": 71,
   "id": "5b0d9d19-3d81-4e71-b2bc-ad306506bef1",
   "metadata": {},
   "outputs": [
    {
     "name": "stdout",
     "output_type": "stream",
     "text": [
      "False\n",
      "False\n",
      "False\n",
      "False\n",
      "False\n",
      "False\n",
      "False\n",
      "False\n",
      "False\n",
      "False\n",
      "False\n",
      "False\n",
      "False\n",
      "False\n",
      "False\n",
      "False\n",
      "False\n",
      "False\n",
      "False\n",
      "False\n",
      "False\n",
      "False\n",
      "False\n",
      "False\n",
      "False\n",
      "False\n",
      "False\n",
      "False\n",
      "False\n",
      "False\n",
      "False\n",
      "False\n",
      "False\n",
      "False\n",
      "False\n",
      "False\n",
      "False\n",
      "False\n",
      "False\n",
      "False\n",
      "False\n",
      "False\n",
      "False\n",
      "False\n",
      "False\n",
      "369105\n"
     ]
    }
   ],
   "source": [
    "scores = {\")\": 3, \"]\": 57, \"}\": 1197, \">\": 25137}\n",
    "matching = {\"(\": \")\", \"[\": \"]\", \"{\": \"}\", \"<\": \">\"}\n",
    "\n",
    "score = 0\n",
    "\n",
    "incompletes = []\n",
    "queues = []\n",
    "\n",
    "for nav in navs:\n",
    "    old_score = score\n",
    "    # print(nav)\n",
    "    history = queue.LifoQueue()\n",
    "    for char in nav:\n",
    "        current = char\n",
    "        # print(\"current char\", current)\n",
    "        \n",
    "        if current in matching.keys():\n",
    "            # if it's an opening, just add it to the queue\n",
    "            history.put(current)\n",
    "            continue\n",
    "        \n",
    "        # otherwise, it's an ending\n",
    "        # check whether it's the ending to the last opening in the queue\n",
    "        try:\n",
    "            old = history.get_nowait()\n",
    "        except queue.Empty:\n",
    "            # first character is a closing\n",
    "            # print(\"queue was empty?\")\n",
    "            score += scores[current]\n",
    "            break\n",
    "            \n",
    "        if current == matching[old]:\n",
    "            # print(\"match found! current/old:\", current, old)\n",
    "            # they match, so just keep going\n",
    "            continue\n",
    "        else:\n",
    "            # syntax error found\n",
    "            # print(\"error found :( current/old:\", current, old)\n",
    "            score += scores[current]\n",
    "            break\n",
    "    # print(score)\n",
    "    if score == old_score:\n",
    "        # no errors found\n",
    "        incompletes.append(nav)\n",
    "        print(history.empty())\n",
    "        queues.append(history)\n",
    "        \n",
    "print(score)"
   ]
  },
  {
   "cell_type": "markdown",
   "id": "5a3d0e5c-82e4-4776-95be-1bee6cd90994",
   "metadata": {},
   "source": [
    "## Part 2"
   ]
  },
  {
   "cell_type": "code",
   "execution_count": 72,
   "id": "c25db44f-1451-43a2-8db6-00eb7f332653",
   "metadata": {},
   "outputs": [
    {
     "name": "stdout",
     "output_type": "stream",
     "text": [
      "['[{(<<{(([<<{<<[]()>[<>[]]>[[<>[]]{{}{}}]}<<[<>()][{}]><[<>{}]<<>()>>>>([<([]<>)([][])>(<<>[]>([]()))]<[', '{[[([{([<(<{{[{}{}]<[]()>}(<<>[]><<>()>)}(<[<><>](<>[])><<(){}>{(){}}>)>{{[({}[]){[][]}]({()<>}<[]<>>)}})>({(', '{[<([(<<{<<<[<{}{}>({}[])][<[]{}>{[]{}}]>{[{[][]}[{}<>]]{(<><>){{}[]}}}>([<[<>{}]([][])>{(<>{})}][{({', '<{{[{[<(<[{[(<()<>>([][]))[[{}()]]]}<{<{{}{}}((){})>((()())([]{}))}<((<>{}))>>]<{[[<()[]>]{(<>[])', '<((({<((<([<[<[][]>[[]{}]]<{[][]}({})>>{<<()>({}())>[(<>)<[]()>]}]{[{<<>[]>{{}<>}}<<()<>>([][])>]})[({{((', '({([{[({{<([[([]())]{[[]{}]}]{<{(){}}<{}{}>><([]{})>})[(<{<>()}>{(<><>)[[]{}]}){{{{}<>}({}<>)}[<()', '[<<<{((<{(<([[{}{}]{()<>}]{{{}<>}[<>()]}){[[[]()][[][]]]{([]())[()<>]}}>{({[<>()]}([[][]]<(){}>))<<<{}<', '[[{(([(<{(<({[()()]([]{})}[({}<>)])([<[]{}><()<>>][<<>[]><<><>>])>)[[{[{()[]}{[]}]}]]}>)]{<{{(<[{[[]<>]<()[]>', '<{(<[{{([{{[(<[]<>><()<>>){{{}{}}}]}(([[<><>]([][])]<{()}{{}()}>)<{[()<>][<>]}<(<>[])>>)}])', '({({<({({(<{({{}{}}(()[]))(<{}{}>[{}()])}((<{}<>><()[]>)[(()<>)[{}<>]])>)}[[<<{<[]{}>{<>[]}}{{(){', '[({{[[(({[<[([{}[]])<<(){}>(()<>)>]({<[][]>[{}<>]}[<[]<>>])>({(<<>[]>{{}{}}){<[]{}><{}<>>}}([({}<', '((<[[{({<<<([({}{})[[]<>]]{(()<>)[[]{}]})({{<>}[<>[]]}[[<>[]]<[][]>])>>>}[[<<{(<<>()>(()()))<{<>{}}(()', '{{{[[[([{<(<[([]())[[]()]]<(()())([]{})>>([<[][]>]{({}()){()<>}}))><[([[<>[]][[]<>]][<()[]><{}{', '[<{[(<<{({<({{()[]}[{}<>]}{({}<>)[(){}]})[<([]{})><([]<>){()()}>]>})}>[[<{[<<[<>()]<()<>>>{[{}{}]<<>[]>', '<((((((<{(<([[<><>][<>[]]]{<{}<>>})>)(([<[()()]>[(<>[])<[]{}>]][<([]{})([]{})>{{[]}({}())}]){[[[()[', '<([{((({{[({[[()]][{[]}{<>[]}]}<{<(){}>[[][]]}<([]())<[][]>>>)<<{<()()>({}())}{<()()>}>{{[{}()]}}>]}', '([[[[[([<{({{<[]<>><{}<>>}{{<>()}[[]<>]}}(<[<><>]{()()}>))<[{({}<>){(){}}}<({}())[()[]]>]{([()<>][[][]', '{({[<({[({[([[(){}]{(){}}])]<{<<(){}>[{}[]]><{[]{}}[[]<>]>}{{{<>{}}[[][]]}[[[]<>]]}>}([{((<>[])<[][]>)}]', '({([<(((({<[<<[]<>>{{}[]}>((<>{})<[]{}>)]>{(<{{}[]}({}{})><<()<>>(<>[])>)[{(())([]())}]}})))[{<(({{{[]{}}[<', '<<([{{[[<<(<[{[][]}<{}{}>]<[{}{}]<<>{}>>><[[{}{}][{}]]<<{}<>>[{}()]>>)(<[(<>{})<()[]>]{(()())}><[[[]]<{}>][(<', '{([((<<{[{{[<({}())[()[]]>(<{}<>>({}()))]}}<{<([[][]]([]{})){(<>[]){()[]}}><[({})[<>[]]][(', '[{(({<[{(([{<[()[]]<[][]>>([{}<>][()()])}([<<>[]>[[]{}]][<{}[]>({}())])]<({({}[])}[{()()}[{}[]', '[[{{<<<[[{<<[<[]{}><()[]>]{[[][]]{<><>}}>>{({[[]{}][<><>]}(([]<>)<<>()>))(([{}<>]<[][]>)<([]<>)((', '{[<<[{{([{<[([{}()]([][]))<([]())<<><>>>]<(([]<>)[{}]){<{}()>({}<>)}>>{<<<<><>>(()[])><{{}{}}<[][]>>>{([{}[', '{(([{[({[([[<([][])(()<>)>(<(){}>[<>[]])]<{[<>[]]({}[])}(<[]{}>{{}{}})>])<<({[()[]]((){})}{{{}{', '([(<{(<<((([<{[]}>[[[][]](<><>)]][<([]){<>{}}>{[<>{}]}])(<[{<>{}}({}<>)]([()[]]([]<>))>))<{<([()', '<<{{({<{{{<<({(){}}<[]{}>)><([(){}]({}[]))[[{}()]({}())]>>{<<[{}[]]{()<>}><[[]<>][()<>]>>[{', '<{[{((<({<<[<<{}()>[(){}]>[(()()){<>()}]](<[{}<>][{}()]>{<(){}>})>>[<<[<(){}>[<>{}]]>((<()()>{<>', '{((<[<([(({[<<{}<>>{<><>}>[<()()><{}[]>]][{[[][]]{()()}}[[<>]{{}()}]]}<(<(<>{})<()<>>>{{()', '<<[([[{<[[[[{([]())<<>[]>}]({{{}{}}({}[])}<{()[]}<()<>>>)]{{<({}())[<>[]]><{<>}(()<>)>}([({}{})[<>]', '{[[{<{([(([[{({}[]){()()}}{(<>{})[[]<>]}]<[[{}<>]<[][]>]((()[]))>])){(<<([[]{}]([]{})){<{}<>><()()>}>{<{[]', '{(<<[<((<<<<{{<>{}}{<>{}}}[(()())<<>()>]>[[([]())<{}()>]((<><>)<<>[]>)]>{([<()()>[{}]]{[<>[]]<<>()>})<<({}<', '[[{<{<[[<{(([<[]<>>{[]()}]){[<[]<>>[{}]](<(){}>[[][]])})}>]][[<(<<[[[][]][[]()]]<[[]<>]>>>{[({{}()}<{}<>>)]<(', '(<<<{({[[[[<{(<><>){()()}}>{[<<>{}>([]{})][[{}<>][[]{}]]}]<{((<>{})[()<>])(({}()){{}()})}>]]{{({[((){})](<[]', '<<{{<(({[<<(((<><>){{}[]})(<{}[]>))[<<[]{}>([]{})><<[]<>>>]>{{(([]()){<>{}}){{<>[]}((){})}', '[[[{[<<<<<[(([<><>])<<{}[]><{}()>>)[[<<>[]>[()[]]]{(()<>){<>{}}}]]<<({[]{}}[[]()]){(()<>)[[]{}]}>(({{}{', '[[(([{{<([{[[<()()>({}[])]{<<>[]>((){})}]({{{}}<{}>}((()())({}[])))}(<[{[]}([]<>)]>{{<()<>>(<>{})}', '{[[[{{[[<<{(({[]<>}){{[][]}<<><>>})[[[(){}]<<>{}>]{<<>[]>{{}()}}]}>>]](([([{<[(){}][{}()]>{<[]<>><', '<[[[{<<<{([{(<()()>)<[<>[]]({}())>}{{([]{}){{}}}[[(){}]<<>[]>]}](([<{}()>](({}[])[[]()]))<[[{}()]<{}[]>]>)', '(({(({{<{{<((({}()))[<()()>[<>{}]])>}{{{[[{}<>][{}[]]]{<<><>><<>[]>}}}}}>}}[({{({[<[[]()][', '([{{(<<<<[([[{{}{}}<{}<>>]<({}{}){()}>]{{{()<>}[[]{}]}[{[]<>}{<><>}]})][{[[(<><>)[{}<>]][([](', '{<<<[[({<{[({(<><>)[<><>]}{[(){}]{<>[]}})]{<([<>{}]{()[]})((<>()))>}}>[[<[{<{}()>}(({}<>)[{}[]])]<{(<>[]', '{[([(([[{<<<{<[]>{<><>}}{{[]}(()())}><[{<>()}[<>[]]]([<><>]([]{}))>>{(({<><>}))({{{}[]}<<>[]>}[{{}()}])}', '[([<[{([<<<(<{()<>}<[]()>>{[<><>][<><>]})([{{}}]{{{}[]}(<><>)})>>(({{({}[])<[]>}[(<>())(<><', '{{{[{([<(<<[([()<>]<()()>)(<<>()>(()[]))]<<({}<>)[{}]><<[]<>>{{}[]}>>>>)>(([(<[{()<>}{{}()}]([(']\n",
      "[<queue.LifoQueue object at 0x000002936D86FFD0>, <queue.LifoQueue object at 0x000002936D76EEB0>, <queue.LifoQueue object at 0x000002936D86F7F0>, <queue.LifoQueue object at 0x000002936D862CA0>, <queue.LifoQueue object at 0x000002936D86FA30>, <queue.LifoQueue object at 0x000002936D8628B0>, <queue.LifoQueue object at 0x000002936D862820>, <queue.LifoQueue object at 0x000002936D862610>, <queue.LifoQueue object at 0x000002936D862D90>, <queue.LifoQueue object at 0x000002936D8624F0>, <queue.LifoQueue object at 0x000002936D862940>, <queue.LifoQueue object at 0x000002936D86FB20>, <queue.LifoQueue object at 0x000002936D890760>, <queue.LifoQueue object at 0x000002936D8908E0>, <queue.LifoQueue object at 0x000002936D86FDF0>, <queue.LifoQueue object at 0x000002936D890E20>, <queue.LifoQueue object at 0x000002936D8905E0>, <queue.LifoQueue object at 0x000002936D86FE20>, <queue.LifoQueue object at 0x000002936D890FD0>, <queue.LifoQueue object at 0x000002936D86F040>, <queue.LifoQueue object at 0x000002936D890160>, <queue.LifoQueue object at 0x000002936D890FA0>, <queue.LifoQueue object at 0x000002936D890490>, <queue.LifoQueue object at 0x000002936D8903D0>, <queue.LifoQueue object at 0x000002936D890610>, <queue.LifoQueue object at 0x000002936D890A00>, <queue.LifoQueue object at 0x000002936D8901F0>, <queue.LifoQueue object at 0x000002936D8A41C0>, <queue.LifoQueue object at 0x000002936D890850>, <queue.LifoQueue object at 0x000002936D8A4D30>, <queue.LifoQueue object at 0x000002936D8A4F70>, <queue.LifoQueue object at 0x000002936D8A4670>, <queue.LifoQueue object at 0x000002936D8A46D0>, <queue.LifoQueue object at 0x000002936D8A4820>, <queue.LifoQueue object at 0x000002936D8A47C0>, <queue.LifoQueue object at 0x000002936D890820>, <queue.LifoQueue object at 0x000002936D8A4A60>, <queue.LifoQueue object at 0x000002936D8A4AF0>, <queue.LifoQueue object at 0x000002936D8A4340>, <queue.LifoQueue object at 0x000002936D8A47F0>, <queue.LifoQueue object at 0x000002936D8A44F0>, <queue.LifoQueue object at 0x000002936D8A4BB0>, <queue.LifoQueue object at 0x000002936D8A4A00>, <queue.LifoQueue object at 0x000002936D8A4580>, <queue.LifoQueue object at 0x000002936D761940>]\n",
      "[702059292, 16198313, 20380457738, 868899094, 8218467659, 5546352166, 30501505622, 872572712, 58044, 22944271666, 26186820457, 2391589106, 23759164093, 954888472, 15267128909, 254184, 2878695311, 2552833, 27747927791, 26337699049, 1942497683, 3020202042, 8385781087, 15075136238, 22801820908, 2918739911, 866713599, 3999363569, 4484951783, 571460824, 4827527938, 26845420608, 472468087, 5290443121, 184631099, 22314451687, 160917037, 5784089688, 3514689, 3548303956, 7945310461, 2192445623, 9175913, 26282995557, 8998552218]\n",
      "45\n",
      "3999363569\n"
     ]
    }
   ],
   "source": [
    "print(incompletes)\n",
    "print(queues)\n",
    "\n",
    "incomplete_scores = {\")\": 1, \"]\": 2, \"}\": 3, \">\": 4}\n",
    "\n",
    "all_scores = []\n",
    "\n",
    "# Go through the queue for each incomplete one, and just add the matching closed bracket\n",
    "for nav, history in zip(incompletes, queues):\n",
    "    score = 0\n",
    "    while True:\n",
    "        # print(history.empty())\n",
    "        try:\n",
    "            opening = history.get_nowait()\n",
    "        except queue.Empty:\n",
    "            # queue is done\n",
    "            break\n",
    "        closing = matching[opening]\n",
    "        score *= 5\n",
    "        score += incomplete_scores[closing]\n",
    "        \n",
    "    all_scores.append(score)\n",
    "    \n",
    "print(all_scores)\n",
    "print(len(all_scores))\n",
    "print(sorted(all_scores)[int((len(all_scores) - 1) / 2)])"
   ]
  }
 ],
 "metadata": {
  "kernelspec": {
   "display_name": "Python 3 (ipykernel)",
   "language": "python",
   "name": "python3"
  },
  "language_info": {
   "codemirror_mode": {
    "name": "ipython",
    "version": 3
   },
   "file_extension": ".py",
   "mimetype": "text/x-python",
   "name": "python",
   "nbconvert_exporter": "python",
   "pygments_lexer": "ipython3",
   "version": "3.9.7"
  }
 },
 "nbformat": 4,
 "nbformat_minor": 5
}
