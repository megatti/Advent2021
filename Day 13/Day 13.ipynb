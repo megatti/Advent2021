{
 "cells": [
  {
   "cell_type": "markdown",
   "id": "2f961db9-a87c-477f-b19b-3b586b78a3ee",
   "metadata": {},
   "source": [
    "## Day 13\n",
    "\n",
    "# Part 1"
   ]
  },
  {
   "cell_type": "code",
   "execution_count": 106,
   "id": "f2eb3320-6e81-4a4e-a83f-aefa599c56ef",
   "metadata": {},
   "outputs": [],
   "source": [
    "import numpy as np\n",
    "import matplotlib.pyplot as plt\n",
    "\n",
    "marks = []\n",
    "folds = []\n",
    "\n",
    "with open(\"paper.txt\") as f:\n",
    "    for line in f.readlines():\n",
    "        stripped = line.strip()\n",
    "        if line.startswith(\"fold along \"):\n",
    "            # fold\n",
    "            fold = (stripped[11:].split(\"=\")[0], int(stripped[11:].split(\"=\")[1]))\n",
    "            folds.append(fold)\n",
    "        elif line.strip():\n",
    "            # coordinates for a mark\n",
    "            marks.append((int(stripped.split(\",\")[0]), int(stripped.split(\",\")[1])))\n",
    "                          \n",
    "# print(marks)\n",
    "# print(folds)"
   ]
  },
  {
   "cell_type": "code",
   "execution_count": 107,
   "id": "91092cff-8fcf-4b63-8f85-cc8f0365e5a3",
   "metadata": {},
   "outputs": [
    {
     "name": "stdout",
     "output_type": "stream",
     "text": [
      "[[0. 0. 0. ... 0. 0. 0.]\n",
      " [0. 0. 0. ... 0. 0. 0.]\n",
      " [0. 0. 0. ... 0. 0. 0.]\n",
      " ...\n",
      " [0. 0. 0. ... 0. 0. 0.]\n",
      " [0. 0. 0. ... 0. 0. 0.]\n",
      " [0. 0. 0. ... 0. 0. 0.]]\n",
      "Number of marks: 747\n"
     ]
    }
   ],
   "source": [
    "max_x = max(mark[0] for mark in marks)\n",
    "max_y = max(mark[1] for mark in marks)\n",
    "\n",
    "paper = np.zeros([max_y + 1, max_x + 1])  # y, x\n",
    "\n",
    "for mark in marks:\n",
    "    paper[mark[1], mark[0]] += 1\n",
    "\n",
    "# print(paper)\n",
    "\n",
    "fold = folds[0]\n",
    "\n",
    "if fold[0] == \"y\":\n",
    "    # flip vertically, add to other half, crop\n",
    "    flipped = np.flipud(paper[fold[1] + 1:, :])\n",
    "    paper[(fold[1] - flipped.shape[0]):fold[1], :] += flipped\n",
    "    paper = paper[:fold[1], :]\n",
    "else:\n",
    "    # flip horizontally, add to other half, crop\n",
    "    flipped = np.fliplr(paper[:, fold[1] + 1:])\n",
    "    paper[:, (fold[1] - flipped.shape[1]):fold[1]] += flipped\n",
    "    paper = paper[:, :fold[1]]\n",
    "\n",
    "# finally, clip to 1s and 0s\n",
    "paper = np.clip(paper, 0, 1)\n",
    "\n",
    "print(paper)\n",
    "print(\"Number of marks:\", int(np.sum(paper)))"
   ]
  },
  {
   "cell_type": "markdown",
   "id": "3f23e49d-b681-46da-9b22-8f7c52fefff7",
   "metadata": {},
   "source": [
    "## Part 2"
   ]
  },
  {
   "cell_type": "code",
   "execution_count": 108,
   "id": "adbe1d88-1415-4f55-bda1-eadf861d8fa1",
   "metadata": {},
   "outputs": [],
   "source": [
    "def fold_paper(paper, fold):\n",
    "    \"Takes in paper array and fold command tuple.\"\n",
    "    \n",
    "    if fold[0] == \"y\":\n",
    "        # flip vertically, add to other half, crop\n",
    "        flipped = np.flipud(paper[fold[1] + 1:, :])\n",
    "        paper[(fold[1] - flipped.shape[0]):fold[1], :] += flipped\n",
    "        paper = paper[:fold[1], :]\n",
    "    else:\n",
    "        # flip horizontally, add to other half, crop\n",
    "        flipped = np.fliplr(paper[:, fold[1] + 1:])\n",
    "        paper[:, (fold[1] - flipped.shape[1]):fold[1]] += flipped\n",
    "        paper = paper[:, :fold[1]]\n",
    "        \n",
    "    # finally, clip to 1s and 0s\n",
    "    return np.clip(paper, 0, 1)"
   ]
  },
  {
   "cell_type": "code",
   "execution_count": 109,
   "id": "17be6e9f-62cb-4fd9-adc8-3d6631598094",
   "metadata": {},
   "outputs": [],
   "source": [
    "max_x = max(mark[0] for mark in marks)\n",
    "max_y = max(mark[1] for mark in marks)\n",
    "\n",
    "paper = np.zeros([max_y + 1, max_x + 1])  # y, x\n",
    "\n",
    "for mark in marks:\n",
    "    paper[mark[1], mark[0]] += 1\n",
    "\n",
    "for fold in folds:\n",
    "    paper = fold_paper(paper, fold)\n",
    "    \n",
    "# print(paper)"
   ]
  },
  {
   "cell_type": "code",
   "execution_count": 110,
   "id": "064116b0-4ec5-4217-b636-aacfefa91cf6",
   "metadata": {},
   "outputs": [
    {
     "data": {
      "image/png": "[encoded data removed]",
      "text/plain": [
       "<Figure size 432x288 with 1 Axes>"
      ]
     },
     "metadata": {
      "needs_background": "light"
     },
     "output_type": "display_data"
    }
   ],
   "source": [
    "plt.imshow(paper)\n",
    "plt.show()"
   ]
  }
 ],
 "metadata": {
  "kernelspec": {
   "display_name": "Python 3 (ipykernel)",
   "language": "python",
   "name": "python3"
  },
  "language_info": {
   "codemirror_mode": {
    "name": "ipython",
    "version": 3
   },
   "file_extension": ".py",
   "mimetype": "text/x-python",
   "name": "python",
   "nbconvert_exporter": "python",
   "pygments_lexer": "ipython3",
   "version": "3.9.7"
  }
 },
 "nbformat": 4,
 "nbformat_minor": 5
}
