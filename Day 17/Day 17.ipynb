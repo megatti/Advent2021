{
 "cells": [
  {
   "cell_type": "markdown",
   "id": "a801d0e5-5ac8-40c5-99fd-9ebc8c92de45",
   "metadata": {},
   "source": [
    "# Day 17\n",
    "\n",
    "## Part 1"
   ]
  },
  {
   "cell_type": "code",
   "execution_count": 22,
   "id": "e3de8502-62df-4811-84ee-ce45a7f1ba7b",
   "metadata": {
    "tags": []
   },
   "outputs": [
    {
     "name": "stdout",
     "output_type": "stream",
     "text": [
      "20 30\n",
      "-10 -5\n"
     ]
    }
   ],
   "source": [
    "with open(\"input.txt\") as f:\n",
    "# with open(\"ex1.txt\") as f:\n",
    "    line = f.read().strip()\n",
    "    x_lim, y_lim = line.split(\": \")[1].split(\", \")\n",
    "    \n",
    "x_min = int(x_lim[2:].split(\"..\")[0])\n",
    "x_max = int(x_lim[2:].split(\"..\")[1])\n",
    "\n",
    "y_min = int(y_lim[2:].split(\"..\")[0])\n",
    "y_max = int(y_lim[2:].split(\"..\")[1])\n",
    "\n",
    "print(x_min, x_max)\n",
    "print(y_min, y_max)"
   ]
  },
  {
   "cell_type": "code",
   "execution_count": 23,
   "id": "841d7650-ef99-473d-b502-8ebf8cc1818a",
   "metadata": {},
   "outputs": [
    {
     "name": "stdout",
     "output_type": "stream",
     "text": [
      "Max starting y velocity is: 9\n",
      "Max height with this is: 45.0\n"
     ]
    }
   ],
   "source": [
    "# probe will always pass through sub's y-level on the way back down\n",
    "# so max y velocity is the one where it goes from sub's y level to the bottom of the target area\n",
    "# subtract 1 from the distance since it will gain one velocity on that step compared to initial\n",
    "x_sub = 0\n",
    "y_sub = 0\n",
    "vy0_max = (y_sub - y_min) - 1\n",
    "print(\"Max starting y velocity is:\", vy0_max)\n",
    "\n",
    "# max height is triangle number\n",
    "print(\"Max height with this is:\", (vy0_max * (vy0_max + 1)) / 2)"
   ]
  },
  {
   "cell_type": "markdown",
   "id": "d603de4a-b569-43b2-90f9-cf903ab3326a",
   "metadata": {},
   "source": [
    "## Part 2\n",
    "\n",
    "Minimum x starting velocity is when the xth triangle number first falls in the starting range.\n",
    "\n",
    "Maximum x starting velocity is when it passes the whole area in the first step, so equal to the rightmost limit of the target area.\n",
    "\n",
    "Minimum y starting velocity can be negative i.e. when it goes underneath the target area in the first step, so equal to the bottom limit of the target area.\n",
    "\n",
    "Maximum y starting velocity was calculated previously."
   ]
  },
  {
   "cell_type": "code",
   "execution_count": 24,
   "id": "b7789979-e1f9-4e59-a7d3-e749bdea2e1a",
   "metadata": {},
   "outputs": [],
   "source": [
    "vx0_min = 0\n",
    "while (vx0_min * (vx0_min + 1)) < x_min:\n",
    "    vx0_min += 1\n",
    "# print(vx0_min, (vx0_min * (vx0_min + 1)))\n",
    "\n",
    "vx0_max = x_max\n",
    "vy0_min = y_min"
   ]
  },
  {
   "cell_type": "code",
   "execution_count": 25,
   "id": "a2bc22b3-2e77-4358-abc9-2e02c8e516c9",
   "metadata": {},
   "outputs": [
    {
     "name": "stdout",
     "output_type": "stream",
     "text": [
      "112\n"
     ]
    }
   ],
   "source": [
    "# I have limits on starting velocities\n",
    "# For each possible combination of these, go through the step logic until the probe ends up too far or too low\n",
    "\n",
    "success_count = 0\n",
    "for vx0 in range(vx0_min, vx0_max + 1):\n",
    "    for vy0 in range(vy0_min, vy0_max + 1):\n",
    "        # set inital position of probe\n",
    "        x = 0\n",
    "        y = 0\n",
    "        vx = vx0\n",
    "        vy = vy0\n",
    "        while x <= x_max and y >= y_min:\n",
    "            x += vx\n",
    "            y += vy\n",
    "            if x_min <= x <= x_max and y_min <= y <= y_max:\n",
    "                # success! currently in target area\n",
    "                success_count += 1\n",
    "                break\n",
    "            # check if in target area\n",
    "            if vx != 0:\n",
    "                vx -= 1\n",
    "            vy -= 1\n",
    "            \n",
    "print(success_count)"
   ]
  }
 ],
 "metadata": {
  "kernelspec": {
   "display_name": "Python 3 (ipykernel)",
   "language": "python",
   "name": "python3"
  },
  "language_info": {
   "codemirror_mode": {
    "name": "ipython",
    "version": 3
   },
   "file_extension": ".py",
   "mimetype": "text/x-python",
   "name": "python",
   "nbconvert_exporter": "python",
   "pygments_lexer": "ipython3",
   "version": "3.9.7"
  }
 },
 "nbformat": 4,
 "nbformat_minor": 5
}
