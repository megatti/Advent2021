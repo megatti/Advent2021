{
 "cells": [
  {
   "cell_type": "markdown",
   "id": "7f2c7abf-288b-4583-a40c-c31ee1067236",
   "metadata": {},
   "source": [
    "## Day 1\n",
    "# Part 1"
   ]
  },
  {
   "cell_type": "code",
   "execution_count": 5,
   "id": "dfa71a22-d7b7-48c9-be55-7f02140272fe",
   "metadata": {},
   "outputs": [],
   "source": [
    "import numpy as np"
   ]
  },
  {
   "cell_type": "code",
   "execution_count": 41,
   "id": "95768498-dc6e-45f0-b774-d4b6d87c1bf1",
   "metadata": {},
   "outputs": [],
   "source": [
    "depths = []\n",
    "\n",
    "with open(\"depths.txt\") as f:\n",
    "    for depth in f.readlines():\n",
    "        depths.append(int(depth.strip()))\n",
    "        \n",
    "depths = np.array(depths)"
   ]
  },
  {
   "cell_type": "code",
   "execution_count": 42,
   "id": "2df24267-81b3-42cc-9cd4-d725c368d02e",
   "metadata": {},
   "outputs": [
    {
     "name": "stdout",
     "output_type": "stream",
     "text": [
      "[ 141  152  164 ... 2660 2671 2682]\n",
      "[ 141  141  152 ... 2655 2660 2671]\n",
      "[ 0 11 12 ...  5 11 11]\n",
      "1184\n"
     ]
    }
   ],
   "source": [
    "print(depths)\n",
    "depths_shift = np.insert(depths, 0, depths[0])[:-1]\n",
    "print(depths_shift)\n",
    "\n",
    "delta_depths = depths - depths_shift\n",
    "print(delta_depths)\n",
    "\n",
    "n_increase = np.count_nonzero(delta_depths > 0)\n",
    "print(n_increase)"
   ]
  },
  {
   "cell_type": "markdown",
   "id": "b2e2ce87-d4d1-40cb-9e4a-2be989b46bce",
   "metadata": {},
   "source": [
    "## Part 2"
   ]
  },
  {
   "cell_type": "code",
   "execution_count": 43,
   "id": "7d725a6e-adbc-46b6-b225-5f1ca7eec467",
   "metadata": {},
   "outputs": [
    {
     "name": "stdout",
     "output_type": "stream",
     "text": [
      "2000\n",
      "1999\n",
      "1998\n"
     ]
    }
   ],
   "source": [
    "print(len(depths))\n",
    "depths_shift1 = depths[1:]\n",
    "depths_shift2 = depths[2:]\n",
    "print(len(depths_shift1))\n",
    "print(len(depths_shift2))\n",
    "\n",
    "# Shorten the arrays so they match the shortest\n",
    "depths_cut = depths[:len(depths_shift2)]\n",
    "depths_shift1_cut = depths_shift1[:len(depths_shift2)]\n",
    "\n",
    "# Sum\n",
    "depths_sum = depths_cut + depths_shift1_cut + depths_shift2"
   ]
  },
  {
   "cell_type": "code",
   "execution_count": 44,
   "id": "016d3470-31e7-4319-9ba4-d486ce13eff7",
   "metadata": {},
   "outputs": [
    {
     "name": "stdout",
     "output_type": "stream",
     "text": [
      "[ 457  457  479 ... 7958 7969 7986]\n",
      "[ 0 22 12 ... 11 17 27]\n",
      "1158\n"
     ]
    }
   ],
   "source": [
    "# Shift and calculate delta like part 1\n",
    "\n",
    "depths_sum_shift = np.insert(depths_sum, 0, depths_sum[0])[:-1]\n",
    "print(depths_sum_shift)\n",
    "\n",
    "delta_depths_sum = depths_sum - depths_sum_shift\n",
    "print(delta_depths_sum)\n",
    "\n",
    "n_increase_sum = np.count_nonzero(delta_depths_sum > 0)\n",
    "print(n_increase_sum)"
   ]
  }
 ],
 "metadata": {
  "kernelspec": {
   "display_name": "Python 3 (ipykernel)",
   "language": "python",
   "name": "python3"
  },
  "language_info": {
   "codemirror_mode": {
    "name": "ipython",
    "version": 3
   },
   "file_extension": ".py",
   "mimetype": "text/x-python",
   "name": "python",
   "nbconvert_exporter": "python",
   "pygments_lexer": "ipython3",
   "version": "3.9.7"
  }
 },
 "nbformat": 4,
 "nbformat_minor": 5
}
