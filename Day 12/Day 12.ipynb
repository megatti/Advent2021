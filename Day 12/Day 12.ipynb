{
 "cells": [
  {
   "cell_type": "markdown",
   "id": "21d1df82-7ddc-4963-9c4f-a7b5b332f401",
   "metadata": {},
   "source": [
    "# Day 12\n",
    "\n",
    "## Part 1"
   ]
  },
  {
   "cell_type": "code",
   "execution_count": 79,
   "id": "62a87550-0b05-4a30-8cc2-beebae4d4184",
   "metadata": {},
   "outputs": [
    {
     "name": "stdout",
     "output_type": "stream",
     "text": [
      "[('zi', 'end'), ('XR', 'start'), ('zk', 'zi'), ('TS', 'zk'), ('zw', 'vl'), ('zk', 'zw'), ('end', 'po'), ('ws', 'zw'), ('TS', 'ws'), ('po', 'TS'), ('po', 'YH'), ('po', 'xk'), ('zi', 'ws'), ('zk', 'end'), ('zi', 'XR'), ('XR', 'zk'), ('vl', 'TS'), ('start', 'zw'), ('vl', 'start'), ('XR', 'zw'), ('XR', 'vl'), ('XR', 'ws')]\n",
      "{'XR', 'YH', 'TS'}\n",
      "{'zw', 'vl', 'xk', 'ws', 'zi', 'zk', 'po'}\n",
      "defaultdict(<class 'list'>, {'zi': ['end', 'zk', 'ws', 'XR'], 'XR': ['start', 'zi', 'zk', 'zw', 'vl', 'ws'], 'start': ['XR', 'zw', 'vl'], 'zk': ['zi', 'TS', 'zw', 'end', 'XR'], 'TS': ['zk', 'ws', 'po', 'vl'], 'zw': ['vl', 'zk', 'ws', 'start', 'XR'], 'vl': ['zw', 'TS', 'start', 'XR'], 'po': ['end', 'TS', 'YH', 'xk'], 'ws': ['zw', 'TS', 'zi', 'XR'], 'YH': ['po'], 'xk': ['po']})\n"
     ]
    }
   ],
   "source": [
    "import collections\n",
    "# import time\n",
    "\n",
    "with open(\"paths.txt\") as f:\n",
    "    lines = [line.strip() for line in f.readlines()]\n",
    "    pairs = [(i.split(\"-\")[0], i.split(\"-\")[1]) for i in lines] \n",
    "    \n",
    "print(pairs)\n",
    "\n",
    "big = set()\n",
    "small = set()\n",
    "\n",
    "paths = collections.defaultdict(list)\n",
    "\n",
    "for pair in pairs:\n",
    "    for cave in pair:\n",
    "        if cave not in (\"start\", \"end\"):\n",
    "            if cave == cave.upper():\n",
    "                big.add(cave)\n",
    "            else:\n",
    "                small.add(cave)\n",
    "    paths[pair[0]].append(pair[1])\n",
    "    paths[pair[1]].append(pair[0])\n",
    "    \n",
    "del paths[\"end\"]  # don't need to know what's linked after the end\n",
    "    \n",
    "print(big)\n",
    "print(small)\n",
    "print(paths)"
   ]
  },
  {
   "cell_type": "code",
   "execution_count": null,
   "id": "26078598-1f96-4b68-917a-26cc73498c73",
   "metadata": {},
   "outputs": [],
   "source": [
    "# if a small cave only links to a single small cave, then it's useless\n",
    "# since it's just an end point and you can't get to it\n",
    "# so erase it from existence\n",
    "# THIS MESSES UP PART 2 SO I'M COMMENTING IT OUT :(\n",
    "\n",
    "# to_remove = []\n",
    "# for cave in small:\n",
    "#     if len(paths[cave]) == 1 and (paths[cave][0] == paths[cave][0].lower()):\n",
    "#         print(cave, paths[cave], len(paths[cave]), paths[cave][0])\n",
    "#         paths[paths[cave][0]].remove(cave)\n",
    "#         del paths[cave]\n",
    "#         to_remove.append(cave)\n",
    "        \n",
    "# for cave in to_remove:\n",
    "#     small.remove(cave)\n",
    "        \n",
    "# print(big)\n",
    "# print(small)\n",
    "# print(paths)"
   ]
  },
  {
   "cell_type": "code",
   "execution_count": 80,
   "id": "e008e865-13ce-453f-8572-939d091b5a7b",
   "metadata": {},
   "outputs": [
    {
     "name": "stdout",
     "output_type": "stream",
     "text": [
      "completed?? maybe??\n",
      "Number of paths found: 3761\n"
     ]
    }
   ],
   "source": [
    "# need to find way from arbitrary cave to end\n",
    "\n",
    "def travel_cave(cave_name, travelled, full_paths):\n",
    "    \"\"\"\n",
    "    Recursively search through caves for the end.\n",
    "    Need to know current cave searching, the path so far, and list to add completed paths to.\n",
    "    \"\"\"\n",
    "    \n",
    "    # print(cave_name, paths[cave_name])\n",
    "    # print(travelled, full_paths)\n",
    "    # print()\n",
    "    \n",
    "    # time.sleep(0.25)\n",
    "    travelled = travelled[:]\n",
    "    travelled.append(cave_name)  # add current cave to list of those travelled\n",
    "    cave_list = paths[cave_name]  # get list of caves linked from current cave_name\n",
    "    \n",
    "    for cave in cave_list:\n",
    "        # go through each cave linking from this one\n",
    "        if cave == \"end\":\n",
    "            # end found\n",
    "            path = travelled[:]\n",
    "            path.append(\"end\")\n",
    "            # print(\"complete path\", path)\n",
    "            full_paths.append(path)  # add completed path to list of completed paths\n",
    "\n",
    "        elif (cave not in travelled) or (cave == cave.upper()):\n",
    "            # if cave hasn't been visited so fat, or it's a big cave, can still explore\n",
    "            other_paths = travel_cave(cave, travelled, full_paths)\n",
    "            # full_paths.append(other_paths)\n",
    "            \n",
    "    return full_paths\n",
    "    \n",
    "full_paths = []\n",
    "travelled = []\n",
    "full_paths = travel_cave(\"start\", travelled, full_paths)\n",
    "    \n",
    "print(\"completed?? maybe??\")\n",
    "# print(full_paths)\n",
    "print(\"Number of paths found:\", len(full_paths))"
   ]
  },
  {
   "cell_type": "markdown",
   "id": "190d5164-eb3a-410e-8c2a-8bd455f63634",
   "metadata": {},
   "source": [
    "## Part 2"
   ]
  },
  {
   "cell_type": "code",
   "execution_count": 94,
   "id": "701d5cbb-7433-4188-9208-478ce747a42f",
   "metadata": {},
   "outputs": [
    {
     "name": "stdout",
     "output_type": "stream",
     "text": [
      "3.855966329574585\n",
      "completed?? maybe??\n",
      "Number of paths found: 99138\n"
     ]
    }
   ],
   "source": [
    "# need to find way from arbitrary cave to end\n",
    "\n",
    "def travel_cave_2(cave_name, travelled, full_paths, visit_twice):\n",
    "    \"\"\"\n",
    "    Recursively search through caves for the end.\n",
    "    Need to know current cave searching, the path so far, and list to add completed paths to.\n",
    "    Now, I can visit a single small cave twice in each path.\n",
    "    Pass along the current \"visit twice\" cave?.\n",
    "    \"\"\"\n",
    "    \n",
    "    # print(cave_name, paths[cave_name], travelled)\n",
    "    # print(travelled, full_paths)\n",
    "    # print(\"visit twice:\", visit_twice)\n",
    "    \n",
    "    # time.sleep(0.25)\n",
    "    travelled = travelled[:]\n",
    "    travelled.append(cave_name)  # add current cave to list of those travelled\n",
    "    cave_list = paths[cave_name]  # get list of caves linked from current cave_name\n",
    "    \n",
    "    for cave in cave_list:\n",
    "        # go through each cave linking from this one\n",
    "        if cave == \"end\":\n",
    "            # end found\n",
    "            full_paths.append(travelled[:] + [\"end\"])\n",
    "            # path = travelled[:]\n",
    "            # path.append(\"end\")\n",
    "            # # print(\"complete path\", path)\n",
    "            # full_paths.append(path)  # add completed path to list of completed paths\n",
    "\n",
    "        else:\n",
    "            # next cave isn't the end\n",
    "            if cave in big:\n",
    "                # it's a big cave, can still explore\n",
    "                other_paths = travel_cave_2(cave, travelled, full_paths, visit_twice)\n",
    "\n",
    "            else: \n",
    "                # it's a small cave - can only visit a single small cave twice\n",
    "                # check how many times it's been visited. if only visited once\n",
    "                # and no cave has been set as the visit-twice cave, go to it\n",
    "                # and set it as the visit-twice cave?\n",
    "                \n",
    "                # skip \"start\" cave lol\n",
    "                if cave == \"start\":\n",
    "                    continue\n",
    "                \n",
    "                # first, count how many times this cave has been visited\n",
    "                if travelled.count(cave) == 0:\n",
    "                    # if not visited yet, act as normal\n",
    "                    other_paths = travel_cave_2(cave, travelled, full_paths, visit_twice)\n",
    "                elif travelled.count(cave) == 1:\n",
    "                    # here's the tricky part\n",
    "                    # the cave it's looking at has already been visited once\n",
    "                    # check: has a cave been visited twice already?\n",
    "                    if len(visit_twice) != 0:\n",
    "                        # another cave has already been visited twice, so don't do anything\n",
    "                        pass\n",
    "                    else:\n",
    "                        # this is the second time seeing this cave, but no other cave has been visited twice\n",
    "                        # note that this is the visit-twice cave, then keep going                        \n",
    "                        other_paths = travel_cave_2(cave, travelled, full_paths, [cave])\n",
    "                elif travelled.count(cave) == 2:\n",
    "                    # have visited the next cave twice already\n",
    "                    # don't do anything\n",
    "                    pass\n",
    "                \n",
    "            \n",
    "    return full_paths\n",
    "    \n",
    "full_paths = []\n",
    "travelled = []\n",
    "visit_twice = []\n",
    "\n",
    "import time\n",
    "\n",
    "start_time = time.time()\n",
    "full_paths = travel_cave_2(\"start\", travelled, full_paths, visit_twice)\n",
    "print(time.time() - start_time)\n",
    "    \n",
    "print(\"completed?? maybe??\")\n",
    "print(\"Number of paths found:\", len(full_paths))  # should get 36\n",
    "\n",
    "# for path in full_paths:\n",
    "#     print(path)"
   ]
  },
  {
   "cell_type": "markdown",
   "id": "4ac53c99-e862-4d0d-b859-05c6ef766bce",
   "metadata": {},
   "source": [
    "The cell below was used to check which solutions I wasn't getting compared to the first example, for help debugging."
   ]
  },
  {
   "cell_type": "code",
   "execution_count": 65,
   "id": "61dd2ee2-c6ed-4287-ba97-612df5ac2d99",
   "metadata": {},
   "outputs": [
    {
     "name": "stdout",
     "output_type": "stream",
     "text": [
      "['start', 'A', 'b', 'A', 'c', 'A', 'b', 'A', 'end']\n",
      "['start', 'A', 'b', 'A', 'c', 'A', 'b', 'end']\n",
      "['start', 'A', 'c', 'A', 'b', 'A', 'b', 'A', 'end']\n",
      "['start', 'A', 'c', 'A', 'b', 'A', 'b', 'end']\n",
      "['start', 'A', 'c', 'A', 'b', 'A', 'c', 'A', 'end']\n",
      "['start', 'A', 'c', 'A', 'b', 'd', 'b', 'A', 'end']\n",
      "['start', 'A', 'c', 'A', 'b', 'd', 'b', 'end']\n",
      "['start', 'b', 'A', 'c', 'A', 'b', 'A', 'end']\n",
      "['start', 'b', 'A', 'c', 'A', 'b', 'end']\n"
     ]
    }
   ],
   "source": [
    "with open(\"ex1_p2_paths.txt\") as f:\n",
    "    lines = [line.strip().split(\",\") for line in f.readlines()]\n",
    "    \n",
    "# I'm not getting some paths D: why not??\n",
    "for path in full_paths:\n",
    "    if path not in lines:\n",
    "        print(\"GETTING SOLUTION THAT ISN'T VALID\")\n",
    "        print(path)\n",
    "\n",
    "for line in lines:\n",
    "    if line not in full_paths:\n",
    "        print(line)"
   ]
  }
 ],
 "metadata": {
  "kernelspec": {
   "display_name": "Python 3 (ipykernel)",
   "language": "python",
   "name": "python3"
  },
  "language_info": {
   "codemirror_mode": {
    "name": "ipython",
    "version": 3
   },
   "file_extension": ".py",
   "mimetype": "text/x-python",
   "name": "python",
   "nbconvert_exporter": "python",
   "pygments_lexer": "ipython3",
   "version": "3.9.7"
  }
 },
 "nbformat": 4,
 "nbformat_minor": 5
}
