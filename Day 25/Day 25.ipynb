{
 "cells": [
  {
   "cell_type": "markdown",
   "id": "4c42b03e-ab9e-452c-825a-e4721ab0d840",
   "metadata": {},
   "source": [
    "# Day 25\n",
    "## Part 1"
   ]
  },
  {
   "cell_type": "code",
   "execution_count": 30,
   "id": "77d469bc-798b-4c09-8d5b-a014fb24ac99",
   "metadata": {},
   "outputs": [
    {
     "name": "stdout",
     "output_type": "stream",
     "text": [
      "[['v', '.', '.', '.', '>', '>', '.', 'v', 'v', '>'], ['.', 'v', 'v', '>', '>', '.', 'v', 'v', '.', '.'], ['>', '>', '.', '>', 'v', '>', '.', '.', '.', 'v'], ['>', '>', 'v', '>', '>', '.', '>', '.', 'v', '.'], ['v', '>', 'v', '.', 'v', 'v', '.', 'v', '.', '.'], ['>', '.', '>', '>', '.', '.', 'v', '.', '.', '.'], ['.', 'v', 'v', '.', '.', '>', '.', '>', 'v', '.'], ['v', '.', 'v', '.', '.', '>', '>', 'v', '.', 'v'], ['.', '.', '.', '.', 'v', '.', '.', 'v', '.', '>']]\n",
      "[['v' '.' '.' '.' '>' '>' '.' 'v' 'v' '>']\n",
      " ['.' 'v' 'v' '>' '>' '.' 'v' 'v' '.' '.']\n",
      " ['>' '>' '.' '>' 'v' '>' '.' '.' '.' 'v']\n",
      " ['>' '>' 'v' '>' '>' '.' '>' '.' 'v' '.']\n",
      " ['v' '>' 'v' '.' 'v' 'v' '.' 'v' '.' '.']\n",
      " ['>' '.' '>' '>' '.' '.' 'v' '.' '.' '.']\n",
      " ['.' 'v' 'v' '.' '.' '>' '.' '>' 'v' '.']\n",
      " ['v' '.' 'v' '.' '.' '>' '>' 'v' '.' 'v']\n",
      " ['.' '.' '.' '.' 'v' '.' '.' 'v' '.' '>']]\n",
      "{(4, 3), (4, 9), (3, 7), (5, 4), (4, 6), (5, 1), (5, 7), (8, 0), (0, 2), (8, 3), (8, 6), (2, 2), (1, 0), (1, 9), (2, 8), (7, 4), (7, 1), (3, 9), (4, 8), (5, 9), (8, 2), (8, 5), (0, 1), (8, 8), (2, 7), (1, 5), (1, 8), (6, 4), (7, 3), (3, 5), (5, 5), (5, 8), (8, 1), (0, 3), (0, 6), (2, 6), (6, 0), (6, 6), (6, 3), (6, 9), (7, 8)}\n",
      "{(3, 4), (3, 1), (8, 9), (0, 5), (2, 5), (1, 3), (6, 5), (3, 0), (3, 3), (5, 0), (3, 6), (5, 3), (0, 4), (2, 1), (6, 7), (7, 6), (4, 1), (5, 2), (0, 9), (2, 0), (1, 4), (2, 3), (7, 5)}\n",
      "{(4, 0), (1, 6), (0, 8), (6, 2), (7, 7), (6, 8), (4, 2), (4, 5), (5, 6), (0, 7), (2, 4), (1, 2), (6, 1), (7, 0), (7, 9), (3, 2), (4, 7), (4, 4), (3, 8), (8, 4), (0, 0), (8, 7), (1, 1), (2, 9), (1, 7), (7, 2)}\n"
     ]
    }
   ],
   "source": [
    "import numpy as np\n",
    "\n",
    "with open(\"ex1.txt\") as f:\n",
    "    lines = [list(line.strip()) for line in f.readlines()]\n",
    "    \n",
    "print(lines)\n",
    "\n",
    "field = np.array(lines)\n",
    "print(field)\n",
    "\n",
    "empty = set()\n",
    "right = set()\n",
    "down = set()\n",
    "\n",
    "for coord, value in np.ndenumerate(field):  # coordinates are (y, x)\n",
    "    if value == \".\":\n",
    "        empty.add((coord))\n",
    "    elif value == \"v\":\n",
    "        down.add((coord))\n",
    "    else:\n",
    "        right.add((coord))\n",
    "            \n",
    "print(empty)\n",
    "print(right)\n",
    "print(down)"
   ]
  },
  {
   "cell_type": "code",
   "execution_count": 29,
   "id": "ee2d9737-76e9-4799-9b59-b0ff16bd4b86",
   "metadata": {},
   "outputs": [],
   "source": [
    "def step(right, down, empty, field):\n",
    "    limits = field.shape\n",
    "    add_right = set()\n",
    "    remove_right = set()\n",
    "    add_down = set()\n",
    "    remove_down = set()\n",
    "    \n",
    "    # first check rights then move them, then check downs and move them\n",
    "    for cucumber in right:\n",
    "        # adjacent square\n",
    "        if cucumber[1] == field.shape[1] - 1:  # on edge of field\n",
    "            target = (cucumber[0], 0)\n",
    "        else:\n",
    "            target = (cucumber[0], cucumber[1] + 1)\n",
    "        if target in empty:  # can move\n",
    "            add_right.add(target)\n",
    "            remove_right.add(cucumber)\n",
    "            \n",
    "    for cucumber in remove_right:\n",
    "        right.remove(cucumber)\n",
    "        empty.add(cucumber)\n",
    "    for cucumber in add_right:\n",
    "        right.add(cucumber)\n",
    "        empty.remove(cucumber)\n",
    "        \n",
    "    for cucumber in down:\n",
    "        # adjacent square\n",
    "        if cucumber[0] == field.shape[0] - 1:  # on edge of field\n",
    "            target = (0, cucumber[1])\n",
    "        else:\n",
    "            target = (cucumber[0] + 1, cucumber[1])\n",
    "        if target in empty:  # can move\n",
    "            add_down.add(target)\n",
    "            remove_down.add(cucumber)\n",
    "            \n",
    "    for cucumber in remove_down:\n",
    "        down.remove(cucumber)\n",
    "        empty.add(cucumber)\n",
    "    for cucumber in add_down:\n",
    "        down.add(cucumber)\n",
    "        empty.remove(cucumber)\n",
    "            \n",
    "    for coord in empty:\n",
    "        field[coord] = \".\"\n",
    "    \n",
    "    for coord in right:\n",
    "        field[coord] = \">\"\n",
    "        \n",
    "    for coord in down:\n",
    "        field[coord] = \"v\"            \n",
    "            \n",
    "    return right, down, empty, field"
   ]
  },
  {
   "cell_type": "code",
   "execution_count": 31,
   "id": "a9e1f0f6-8b31-44ab-9d01-baf1a07b4bc4",
   "metadata": {},
   "outputs": [
    {
     "name": "stdout",
     "output_type": "stream",
     "text": [
      "[['v' '.' '.' '.' '>' '>' '.' 'v' 'v' '>']\n",
      " ['.' 'v' 'v' '>' '>' '.' 'v' 'v' '.' '.']\n",
      " ['>' '>' '.' '>' 'v' '>' '.' '.' '.' 'v']\n",
      " ['>' '>' 'v' '>' '>' '.' '>' '.' 'v' '.']\n",
      " ['v' '>' 'v' '.' 'v' 'v' '.' 'v' '.' '.']\n",
      " ['>' '.' '>' '>' '.' '.' 'v' '.' '.' '.']\n",
      " ['.' 'v' 'v' '.' '.' '>' '.' '>' 'v' '.']\n",
      " ['v' '.' 'v' '.' '.' '>' '>' 'v' '.' 'v']\n",
      " ['.' '.' '.' '.' 'v' '.' '.' 'v' '.' '>']]\n"
     ]
    }
   ],
   "source": [
    "print(field)\n",
    "\n",
    "new_right, new_down, new_empty, new_field = step(right, down, empty, field)"
   ]
  },
  {
   "cell_type": "code",
   "execution_count": 32,
   "id": "a95b222d-8774-4dcc-9082-734c45a4b14f",
   "metadata": {},
   "outputs": [
    {
     "name": "stdout",
     "output_type": "stream",
     "text": [
      "[['.' '.' '.' '.' '>' '.' '>' 'v' '.' '>']\n",
      " ['v' '.' 'v' '>' '.' '>' 'v' '.' 'v' '.']\n",
      " ['>' 'v' '>' '>' '.' '.' '>' 'v' '.' '.']\n",
      " ['>' '>' 'v' '>' 'v' '>' '.' '>' '.' 'v']\n",
      " ['.' '>' 'v' '.' 'v' '.' '.' '.' 'v' '.']\n",
      " ['v' '>' '>' '.' '>' 'v' 'v' 'v' '.' '.']\n",
      " ['.' '.' 'v' '.' '.' '.' '>' '>' '.' '.']\n",
      " ['v' 'v' '.' '.' '.' '>' '>' 'v' 'v' '.']\n",
      " ['>' '.' 'v' '.' 'v' '.' '.' 'v' '.' 'v']]\n"
     ]
    }
   ],
   "source": [
    "print(field)"
   ]
  },
  {
   "cell_type": "code",
   "execution_count": 35,
   "id": "7e919901-cebe-45bb-b997-da0be44873d9",
   "metadata": {},
   "outputs": [
    {
     "name": "stdout",
     "output_type": "stream",
     "text": [
      "[['.' '.' '.' '.' '>' '.' '>' 'v' '.' '>']\n",
      " ['v' '.' 'v' '>' '.' '>' 'v' '.' 'v' '.']\n",
      " ['>' 'v' '>' '>' '.' '.' '>' 'v' '.' '.']\n",
      " ['>' '>' 'v' '>' 'v' '>' '.' '>' '.' 'v']\n",
      " ['.' '>' 'v' '.' 'v' '.' '.' '.' 'v' '.']\n",
      " ['v' '>' '>' '.' '>' 'v' 'v' 'v' '.' '.']\n",
      " ['.' '.' 'v' '.' '.' '.' '>' '>' '.' '.']\n",
      " ['v' 'v' '.' '.' '.' '>' '>' 'v' 'v' '.']\n",
      " ['>' '.' 'v' '.' 'v' '.' '.' 'v' '.' 'v']]\n",
      "\n",
      "[['.' '.' '.' '.' '>' '.' '>' 'v' '.' '>']\n",
      " ['v' '.' 'v' '>' '.' '>' 'v' '.' 'v' '.']\n",
      " ['>' 'v' '>' '>' '.' '.' '>' 'v' '.' '.']\n",
      " ['>' '>' 'v' '>' 'v' '>' '.' '>' '.' 'v']\n",
      " ['.' '>' 'v' '.' 'v' '.' '.' '.' 'v' '.']\n",
      " ['v' '>' '>' '.' '>' 'v' 'v' 'v' '.' '.']\n",
      " ['.' '.' 'v' '.' '.' '.' '>' '>' '.' '.']\n",
      " ['v' 'v' '.' '.' '.' '>' '>' 'v' 'v' '.']\n",
      " ['>' '.' 'v' '.' 'v' '.' '.' 'v' '.' 'v']]\n",
      "True\n"
     ]
    }
   ],
   "source": [
    "step_1_ex = np.array([list(\"....>.>v.>\"), \n",
    "                      list(\"v.v>.>v.v.\"), \n",
    "                      list(\">v>>..>v..\"),\n",
    "                      list(\">>v>v>.>.v\"), \n",
    "                      list(\".>v.v...v.\"), \n",
    "                      list(\"v>>.>vvv..\"), \n",
    "                      list(\"..v...>>..\"), \n",
    "                      list(\"vv...>>vv.\"), \n",
    "                      list(\">.v.v..v.v\"),])\n",
    "\n",
    "print(step_1_ex)\n",
    "print()\n",
    "print(field)\n",
    "print(np.array_equal(step_1_ex, field))  # works the same as example :D"
   ]
  },
  {
   "cell_type": "code",
   "execution_count": 118,
   "id": "c776e16b-45d1-4e35-9d15-ac143f4c948e",
   "metadata": {},
   "outputs": [],
   "source": [
    "with open(\"sea_cucumbers.txt\") as f:\n",
    "    lines = [list(line.strip()) for line in f.readlines()]\n",
    "\n",
    "field = np.array(lines)\n",
    "\n",
    "empty = set()\n",
    "right = set()\n",
    "down = set()\n",
    "for coord, value in np.ndenumerate(field):  # coordinates are (y, x)\n",
    "    if value == \".\":\n",
    "        empty.add((coord))\n",
    "    elif value == \"v\":\n",
    "        down.add((coord))\n",
    "    else:\n",
    "        right.add((coord))"
   ]
  },
  {
   "cell_type": "code",
   "execution_count": 119,
   "id": "64818c39-a007-48d6-86ce-0ce685733041",
   "metadata": {},
   "outputs": [
    {
     "name": "stdout",
     "output_type": "stream",
     "text": [
      "417\n"
     ]
    }
   ],
   "source": [
    "image_stack = []\n",
    "\n",
    "old_field = np.zeros(field.shape)\n",
    "\n",
    "step_count = 0\n",
    "while not np.array_equal(old_field, field):\n",
    "    old_field = field.copy()\n",
    "    image_stack.append(old_field)\n",
    "    right, down, empty, field = step(right, down, empty, field)\n",
    "    step_count += 1\n",
    "    \n",
    "print(step_count)"
   ]
  },
  {
   "cell_type": "markdown",
   "id": "0f76b9c6-3e3b-4b20-bf0b-2e0d652e45f1",
   "metadata": {},
   "source": [
    "## Making an animation of the sea cucumbers"
   ]
  },
  {
   "cell_type": "code",
   "execution_count": 120,
   "id": "4f55b6a7-a7f4-469f-8baf-98f0417c9722",
   "metadata": {},
   "outputs": [],
   "source": [
    "import matplotlib\n",
    "import matplotlib.pyplot as plt\n",
    "from matplotlib.animation import FuncAnimation"
   ]
  },
  {
   "cell_type": "code",
   "execution_count": 121,
   "id": "a235c700-8826-48ee-b791-f0a8e9311497",
   "metadata": {},
   "outputs": [
    {
     "name": "stdout",
     "output_type": "stream",
     "text": [
      "[['.' 'v' 'v' ... 'v' 'v' 'v']\n",
      " ['.' 'v' 'v' ... '>' 'v' 'v']\n",
      " ['>' 'v' 'v' ... '.' '>' 'v']\n",
      " ...\n",
      " ['v' '>' 'v' ... 'v' 'v' 'v']\n",
      " ['v' '>' 'v' ... 'v' 'v' 'v']\n",
      " ['>' 'v' 'v' ... 'v' 'v' 'v']]\n"
     ]
    }
   ],
   "source": [
    "print(field)\n",
    "\n",
    "new_image_stack = []\n",
    "\n",
    "for field in image_stack:\n",
    "    field[field == \".\"] = \"0\"\n",
    "    field[field == \">\"] = \"1\"\n",
    "    field[field == \"v\"] = \"2\"\n",
    "    \n",
    "    hold = field.astype(np.float64)\n",
    "    hold[hold == 1] = 0.5\n",
    "    hold[hold == 2] = 1\n",
    "\n",
    "    new_image_stack.append(hold)"
   ]
  },
  {
   "cell_type": "code",
   "execution_count": 122,
   "id": "661137b8-a2ee-468c-a7ef-df87e6f21823",
   "metadata": {},
   "outputs": [
    {
     "data": {
      "image/png": "[encoded data removed]",
      "text/plain": [
       "<Figure size 792x792 with 1 Axes>"
      ]
     },
     "metadata": {
      "needs_background": "light"
     },
     "output_type": "display_data"
    }
   ],
   "source": [
    "size = (11, 11)\n",
    "\n",
    "fig = plt.figure(frameon=False)\n",
    "fig.set_size_inches(size)\n",
    "ax = plt.Axes(fig, [0., 0., 1., 1.])\n",
    "ax.set_axis_off()\n",
    "fig.add_axes(ax)\n",
    "\n",
    "ax.imshow(new_image_stack[0])\n",
    "plt.show()\n",
    "\n",
    "# Create an image out of it - black and white first"
   ]
  },
  {
   "cell_type": "code",
   "execution_count": 124,
   "id": "c82abfca-3f29-40aa-8fc5-4025a982544e",
   "metadata": {},
   "outputs": [
    {
     "name": "stdout",
     "output_type": "stream",
     "text": [
      "Starting to animate!\n"
     ]
    },
    {
     "data": {
      "image/png": "[encoded data removed]",
      "text/plain": [
       "<Figure size 792x792 with 1 Axes>"
      ]
     },
     "metadata": {
      "needs_background": "light"
     },
     "output_type": "display_data"
    }
   ],
   "source": [
    "size = (11, 11)\n",
    "\n",
    "fig = plt.figure()\n",
    "fig.set_size_inches(size)\n",
    "ax = plt.Axes(fig, [0., 0., 1., 1.])\n",
    "ax.set_axis_off()\n",
    "fig.add_axes(ax)\n",
    "\n",
    "movie_image = ax.imshow(new_image_stack[0], aspect=\"auto\")\n",
    "\n",
    "def animate(i): \n",
    "    # appending new points to x, y axes points list \n",
    "    movie_image.set_array(new_image_stack[i])\n",
    "    return movie_image,\n",
    "\n",
    "print(\"Starting to animate!\")\n",
    "# call the animator\n",
    "anim = matplotlib.animation.FuncAnimation(fig, animate, frames=len(new_image_stack), interval=1, blit=True) \n",
    "\n",
    "# save the animation as mp4 video file \n",
    "anim.save(\"sea_cucumbers.mp4\", fps=20)"
   ]
  }
 ],
 "metadata": {
  "kernelspec": {
   "display_name": "Python 3 (ipykernel)",
   "language": "python",
   "name": "python3"
  },
  "language_info": {
   "codemirror_mode": {
    "name": "ipython",
    "version": 3
   },
   "file_extension": ".py",
   "mimetype": "text/x-python",
   "name": "python",
   "nbconvert_exporter": "python",
   "pygments_lexer": "ipython3",
   "version": "3.9.7"
  }
 },
 "nbformat": 4,
 "nbformat_minor": 5
}
