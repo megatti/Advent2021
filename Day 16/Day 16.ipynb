{
 "cells": [
  {
   "cell_type": "markdown",
   "id": "5eec567e-7d5f-4356-9612-ed8c63eccf88",
   "metadata": {},
   "source": [
    "# Day 16\n",
    "\n",
    "## Part 1"
   ]
  },
  {
   "cell_type": "code",
   "execution_count": 69,
   "id": "9a83b512-c124-407b-8f79-eff62393ec5d",
   "metadata": {},
   "outputs": [
    {
     "name": "stdout",
     "output_type": "stream",
     "text": [
      "38006F45291200\n"
     ]
    }
   ],
   "source": [
    "with open(\"ex2.txt\") as f:\n",
    "    message = f.read().strip()\n",
    "    \n",
    "print(message)"
   ]
  },
  {
   "cell_type": "code",
   "execution_count": 70,
   "id": "cf95ebea-a413-44e7-a00e-3aeca472ab46",
   "metadata": {},
   "outputs": [
    {
     "name": "stdout",
     "output_type": "stream",
     "text": [
      "00111000000000000110111101000101001010010001001000000000\n"
     ]
    }
   ],
   "source": [
    "hex_to_bin = {\"0\": \"0000\", \"1\": \"0001\", \"2\": \"0010\", \"3\": \"0011\", \"4\": \"0100\", \n",
    "             \"5\": \"0101\", \"6\": \"0110\", \"7\": \"0111\", \"8\": \"1000\", \"9\": \"1001\", \n",
    "             \"A\": \"1010\", \"B\": \"1011\", \"C\": \"1100\", \"D\": \"1101\", \"E\": \"1110\", \"F\": \"1111\"}\n",
    "\n",
    "new_message = \"\".join([hex_to_bin[char] for char in message])\n",
    "\n",
    "print(new_message)"
   ]
  },
  {
   "cell_type": "code",
   "execution_count": 161,
   "id": "4391ca95-a892-45ca-b47f-c929f3069aef",
   "metadata": {},
   "outputs": [],
   "source": [
    "def parse_message(message):\n",
    "    \"Parses the whole of the message.\"\n",
    "    print(\"starting!\")\n",
    "    \n",
    "    # give this the original message\n",
    "    rest_of_message, version_total, value = parse_packet(message, 0)\n",
    "    # first gives in the whole message, then gets the same out but with the first packet taken off I think\n",
    "    while \"1\" in rest_of_message:  # if there's only 0s left, then it's just padding\n",
    "        rest_of_message, version_total, value2 = parse_packet(rest_of_message, version_total)\n",
    "        value += value2\n",
    "        \n",
    "    return version_total, value"
   ]
  },
  {
   "cell_type": "code",
   "execution_count": 162,
   "id": "b32d456e-274a-4821-bcf5-9ea3b29f9ac6",
   "metadata": {},
   "outputs": [],
   "source": [
    "def parse_packet(message, version_total):\n",
    "    \"\"\"Parses the first packet from the message. Returns the rest of the message after the first packet.\n",
    "    This includes parsing subpackets.\"\"\"\n",
    "    \n",
    "    # All packets start with 6 bits (version number, type_ID).\n",
    "    # Just handle these for now?\n",
    "    version = message[:3]\n",
    "    type_id = message[3:6]\n",
    "    \n",
    "    version_total += int(version, 2)    \n",
    "    rest_of_message = \"\"\n",
    "    \n",
    "    if int(type_id, 2) == 4:\n",
    "        # The first packet of message is a literal\n",
    "        # parse this in the function which returns the number the literal represents\n",
    "        # and then the remainder of the message that it didn't parse\n",
    "        values = []\n",
    "        value, rest_of_message = parse_literal(message[6:])\n",
    "        values.append(value)\n",
    "        # print(\"literal\", number)\n",
    "    else:\n",
    "        # The first packet of message is an operator\n",
    "        # This operator will contain some subpackets before it ends\n",
    "        # After the operator, there may be more packets? Not sure if allowed\n",
    "        # I need to get the subpackets out from each operator\n",
    "        data = parse_operator(message[6:])\n",
    "        # data could be a few things depending on length_type_id\n",
    "        length_type_id = data[0]\n",
    "        \n",
    "        if length_type_id == \"0\":\n",
    "            # Easiest case - data[1] is the bits for some number of subpackets of the operator\n",
    "            subpackets = data[1]\n",
    "            rest_of_message = data[2]  # this is the rest of the message after the subpackets\n",
    "            \n",
    "            # I need to parse the subpackets\n",
    "            values = []\n",
    "            sub_rest_of_message, version_total, value = parse_packet(subpackets, version_total)\n",
    "            values.append(value)\n",
    "            while sub_rest_of_message:\n",
    "                sub_rest_of_message, version_total, value = parse_packet(sub_rest_of_message, version_total)  # there might be some padding left over I suppose?\n",
    "                values.append(value)\n",
    "                if \"1\" not in sub_rest_of_message:  # just 0s left over\n",
    "                    break\n",
    "        else:\n",
    "            # Harder case - data[1] is how many subpackets there are\n",
    "            # I need to parse the rest of the message until I've done n_subpackets worth\n",
    "            # What do I do with the rest? Return it\n",
    "            n_subpackets = data[1]\n",
    "            rest_of_message = data[2]\n",
    "            values = []\n",
    "\n",
    "            for i in range(n_subpackets):\n",
    "                # this should deal with returning the rest of the message each time\n",
    "                rest_of_message, version_total, value = parse_packet(rest_of_message, version_total)\n",
    "                values.append(value)\n",
    "    \n",
    "    # I now have a list of values\n",
    "    # I need to return a true value, which depends on the type of packet this is\n",
    "    packet_type = int(type_id, 2)\n",
    "    \n",
    "    if packet_type == 4:\n",
    "        value = values[0]  # just a single number\n",
    "    elif packet_type == 0:\n",
    "        value = sum(values)  # sum packet\n",
    "    elif packet_type == 1:\n",
    "        value = 1  # product packet\n",
    "        for i in values:\n",
    "            value *= i\n",
    "    elif packet_type == 2:\n",
    "        value = min(values)\n",
    "    elif packet_type == 3:\n",
    "        value = max(values)\n",
    "    elif packet_type == 5:\n",
    "        value = int(values[0] > values[1])\n",
    "    elif packet_type == 6:\n",
    "        value = int(values[0] < values[1])\n",
    "    elif packet_type == 7:\n",
    "        value = int(values[0] == values[1])\n",
    "        \n",
    "    return rest_of_message, version_total, value"
   ]
  },
  {
   "cell_type": "code",
   "execution_count": 136,
   "id": "d0747cad-b311-4e1e-b0c9-2af56a10e701",
   "metadata": {},
   "outputs": [],
   "source": [
    "def parse_literal(message):\n",
    "    # Starts from AFTER the version and type_id\n",
    "    i = 0\n",
    "    while True:\n",
    "        if message[i*5] == \"0\":\n",
    "            literal = message[:(i*5) + 5]  # the part of the message that's actually the number\n",
    "            # suffix = message[(i*5) + 5:]  # the rest of the message\n",
    "            break\n",
    "        else:\n",
    "            i += 1\n",
    "            \n",
    "    total_length = len(literal)\n",
    "        \n",
    "    this_packet = message[:total_length]\n",
    "    rest_of_message = message[total_length:]\n",
    "    \n",
    "    # Go through literal, get binary sections\n",
    "    number = []\n",
    "    for j in range(i + 1):  # uses i from before for number of sections\n",
    "        section = message[j*5:(j*5) + 5]\n",
    "        number.append(section[1:])\n",
    "\n",
    "    # print(int(\"\".join(number), 2))\n",
    "    \n",
    "    return int(\"\".join(number), 2), rest_of_message"
   ]
  },
  {
   "cell_type": "code",
   "execution_count": 138,
   "id": "7bc18314-6535-4d0f-be40-b4b3817773d0",
   "metadata": {},
   "outputs": [],
   "source": [
    "def parse_operator(message):\n",
    "    # first bit of this is length_type_id\n",
    "    # do I need to deal with any padding with this stuff? IDK\n",
    "    length_type_id = message[0]\n",
    "    \n",
    "    if length_type_id == \"0\":\n",
    "        # 15 bits showing length of subpackets\n",
    "        subpacket_length = int(message[1:16], 2)\n",
    "        # get the subpackets\n",
    "        subpackets = message[16: 16 + subpacket_length]\n",
    "        rest_of_message = message[16 + subpacket_length:]\n",
    "        return length_type_id, subpackets, rest_of_message  # return the subpacket strings to the original parse function?\n",
    "    \n",
    "    else:\n",
    "        n_subpackets = int(message[1:12], 2)\n",
    "        # this packet contains n_subpackets subpackets\n",
    "        # But I don't know where they end, only that the next x packets count as being inside this packet\n",
    "        # Return the rest of the message and the number of subpackets, and use them to deal with stuff I think\n",
    "        rest_of_message = message[12:]  # I know that the rest of the message contains n_subpackets? hmm\n",
    "        return length_type_id, n_subpackets, rest_of_message\n",
    "        "
   ]
  },
  {
   "cell_type": "code",
   "execution_count": 163,
   "id": "81ba94cd-f941-4135-8cfd-6ff6319c2ed6",
   "metadata": {},
   "outputs": [
    {
     "name": "stdout",
     "output_type": "stream",
     "text": [
      "D2FE28\n",
      "starting!\n",
      "(6, 2021)\n",
      "\n",
      "38006F45291200\n",
      "starting!\n",
      "(9, 1)\n",
      "\n",
      "EE00D40C823060\n",
      "starting!\n",
      "(14, 3)\n",
      "\n",
      "8A004A801A8002F478\n",
      "starting!\n",
      "(16, 15)\n",
      "\n",
      "620080001611562C8802118E34\n",
      "starting!\n",
      "(12, 46)\n",
      "\n",
      "C0015000016115A2E0802F182340\n",
      "starting!\n",
      "(23, 46)\n",
      "\n",
      "A0016C880162017C3686B18A3D4780\n",
      "starting!\n",
      "(31, 54)\n",
      "\n"
     ]
    }
   ],
   "source": [
    "for filename in (\"ex1.txt\", \"ex2.txt\", \"ex3.txt\", \"ex4.txt\", \"ex5.txt\", \"ex6.txt\", \"ex7.txt\"):\n",
    "\n",
    "    with open(filename) as f:\n",
    "        message = f.read().strip()\n",
    "\n",
    "    print(message)\n",
    "\n",
    "    hex_to_bin = {\"0\": \"0000\", \"1\": \"0001\", \"2\": \"0010\", \"3\": \"0011\", \"4\": \"0100\", \n",
    "                 \"5\": \"0101\", \"6\": \"0110\", \"7\": \"0111\", \"8\": \"1000\", \"9\": \"1001\", \n",
    "                 \"A\": \"1010\", \"B\": \"1011\", \"C\": \"1100\", \"D\": \"1101\", \"E\": \"1110\", \"F\": \"1111\"}\n",
    "\n",
    "    new_message = \"\".join([hex_to_bin[char] for char in message])\n",
    "    print(parse_message(new_message))\n",
    "    print()"
   ]
  },
  {
   "cell_type": "code",
   "execution_count": 164,
   "id": "722caf42-0330-4232-8704-13788b8cb4e0",
   "metadata": {},
   "outputs": [
    {
     "name": "stdout",
     "output_type": "stream",
     "text": [
      "220D700071F39F9C6BC92D4A6713C737B3E98783004AC0169B4B99F93CFC31AC4D8A4BB89E9D654D216B80131DC0050B20043E27C1F83240086C468A311CC0188DB0BA12B00719221D3F7AF776DC5DE635094A7D2370082795A52911791ECB7EDA9CFD634BDED14030047C01498EE203931BF7256189A593005E116802D34673999A3A805126EB2B5BEEBB823CB561E9F2165492CE00E6918C011926CA005465B0BB2D85D700B675DA72DD7E9DBE377D62B27698F0D4BAD100735276B4B93C0FF002FF359F3BCFF0DC802ACC002CE3546B92FCB7590C380210523E180233FD21D0040001098ED076108002110960D45F988EB14D9D9802F232A32E802F2FDBEBA7D3B3B7FB06320132B0037700043224C5D8F2000844558C704A6FEAA800D2CFE27B921CA872003A90C6214D62DA8AA9009CF600B8803B10E144741006A1C47F85D29DCF7C9C40132680213037284B3D488640A1008A314BC3D86D9AB6492637D331003E79300012F9BDE8560F1009B32B09EC7FC0151006A0EC6082A0008744287511CC0269810987789132AC600BD802C00087C1D88D05C001088BF1BE284D298005FB1366B353798689D8A84D5194C017D005647181A931895D588E7736C6A5008200F0B802909F97B35897CFCBD9AC4A26DD880259A0037E49861F4E4349A6005CFAD180333E95281338A930EA400824981CC8A2804523AA6F5B3691CF5425B05B3D9AF8DD400F9EDA1100789800D2CBD30E32F4C3ACF52F9FF64326009D802733197392438BF22C52D5AD2D8524034E800C8B202F604008602A6CC00940256C008A9601FF8400D100240062F50038400970034003CE600C70C00F600760C00B98C563FB37CE4BD1BFA769839802F400F8C9CA79429B96E0A93FAE4A5F32201428401A8F508A1B0002131723B43400043618C2089E40143CBA748B3CE01C893C8904F4E1B2D300527AB63DA0091253929E42A53929E420\n",
      "starting!\n",
      "(1014, 1922490999789)\n",
      "\n"
     ]
    }
   ],
   "source": [
    "with open(\"message.txt\") as f:\n",
    "    message = f.read().strip()\n",
    "\n",
    "print(message)\n",
    "\n",
    "hex_to_bin = {\"0\": \"0000\", \"1\": \"0001\", \"2\": \"0010\", \"3\": \"0011\", \"4\": \"0100\", \n",
    "             \"5\": \"0101\", \"6\": \"0110\", \"7\": \"0111\", \"8\": \"1000\", \"9\": \"1001\", \n",
    "             \"A\": \"1010\", \"B\": \"1011\", \"C\": \"1100\", \"D\": \"1101\", \"E\": \"1110\", \"F\": \"1111\"}\n",
    "\n",
    "new_message = \"\".join([hex_to_bin[char] for char in message])\n",
    "print(parse_message(new_message))\n",
    "print()"
   ]
  },
  {
   "cell_type": "markdown",
   "id": "ce82d4dc-0ff7-41ff-8057-21e419dd2333",
   "metadata": {},
   "source": [
    "## Part 2"
   ]
  },
  {
   "cell_type": "code",
   "execution_count": 169,
   "id": "55d58479-7379-408f-818f-7914422e12ed",
   "metadata": {},
   "outputs": [
    {
     "name": "stdout",
     "output_type": "stream",
     "text": [
      "C200B40A82\n",
      "starting!\n",
      "(14, 3)\n",
      "04005AC33890\n",
      "starting!\n",
      "(8, 54)\n",
      "880086C3E88112\n",
      "starting!\n",
      "(15, 7)\n",
      "CE00C43D881120\n",
      "starting!\n",
      "(11, 9)\n",
      "D8005AC2A8F0\n",
      "starting!\n",
      "(13, 1)\n",
      "F600BC2D8F\n",
      "starting!\n",
      "(19, 0)\n",
      "9C005AC2F8F0\n",
      "starting!\n",
      "(16, 0)\n",
      "9C0141080250320F1802104A08\n",
      "starting!\n",
      "(20, 1)\n"
     ]
    }
   ],
   "source": [
    "# examples\n",
    "\n",
    "for i in range(8, 16):\n",
    "    with open(f\"ex{i}.txt\") as f:\n",
    "        message = f.read().strip()\n",
    "\n",
    "    print(message)\n",
    "\n",
    "    hex_to_bin = {\"0\": \"0000\", \"1\": \"0001\", \"2\": \"0010\", \"3\": \"0011\", \"4\": \"0100\", \n",
    "                 \"5\": \"0101\", \"6\": \"0110\", \"7\": \"0111\", \"8\": \"1000\", \"9\": \"1001\", \n",
    "                 \"A\": \"1010\", \"B\": \"1011\", \"C\": \"1100\", \"D\": \"1101\", \"E\": \"1110\", \"F\": \"1111\"}\n",
    "\n",
    "    new_message = \"\".join([hex_to_bin[char] for char in message])\n",
    "    print(parse_message(new_message))"
   ]
  },
  {
   "cell_type": "code",
   "execution_count": 170,
   "id": "f90d1bbb-d7e2-436b-bb04-d5b5325afc49",
   "metadata": {},
   "outputs": [
    {
     "name": "stdout",
     "output_type": "stream",
     "text": [
      "220D700071F39F9C6BC92D4A6713C737B3E98783004AC0169B4B99F93CFC31AC4D8A4BB89E9D654D216B80131DC0050B20043E27C1F83240086C468A311CC0188DB0BA12B00719221D3F7AF776DC5DE635094A7D2370082795A52911791ECB7EDA9CFD634BDED14030047C01498EE203931BF7256189A593005E116802D34673999A3A805126EB2B5BEEBB823CB561E9F2165492CE00E6918C011926CA005465B0BB2D85D700B675DA72DD7E9DBE377D62B27698F0D4BAD100735276B4B93C0FF002FF359F3BCFF0DC802ACC002CE3546B92FCB7590C380210523E180233FD21D0040001098ED076108002110960D45F988EB14D9D9802F232A32E802F2FDBEBA7D3B3B7FB06320132B0037700043224C5D8F2000844558C704A6FEAA800D2CFE27B921CA872003A90C6214D62DA8AA9009CF600B8803B10E144741006A1C47F85D29DCF7C9C40132680213037284B3D488640A1008A314BC3D86D9AB6492637D331003E79300012F9BDE8560F1009B32B09EC7FC0151006A0EC6082A0008744287511CC0269810987789132AC600BD802C00087C1D88D05C001088BF1BE284D298005FB1366B353798689D8A84D5194C017D005647181A931895D588E7736C6A5008200F0B802909F97B35897CFCBD9AC4A26DD880259A0037E49861F4E4349A6005CFAD180333E95281338A930EA400824981CC8A2804523AA6F5B3691CF5425B05B3D9AF8DD400F9EDA1100789800D2CBD30E32F4C3ACF52F9FF64326009D802733197392438BF22C52D5AD2D8524034E800C8B202F604008602A6CC00940256C008A9601FF8400D100240062F50038400970034003CE600C70C00F600760C00B98C563FB37CE4BD1BFA769839802F400F8C9CA79429B96E0A93FAE4A5F32201428401A8F508A1B0002131723B43400043618C2089E40143CBA748B3CE01C893C8904F4E1B2D300527AB63DA0091253929E42A53929E420\n",
      "starting!\n",
      "(1014, 1922490999789)\n"
     ]
    }
   ],
   "source": [
    "with open(\"message.txt\") as f:\n",
    "    message = f.read().strip()\n",
    "\n",
    "print(message)\n",
    "\n",
    "hex_to_bin = {\"0\": \"0000\", \"1\": \"0001\", \"2\": \"0010\", \"3\": \"0011\", \"4\": \"0100\", \n",
    "             \"5\": \"0101\", \"6\": \"0110\", \"7\": \"0111\", \"8\": \"1000\", \"9\": \"1001\", \n",
    "             \"A\": \"1010\", \"B\": \"1011\", \"C\": \"1100\", \"D\": \"1101\", \"E\": \"1110\", \"F\": \"1111\"}\n",
    "\n",
    "new_message = \"\".join([hex_to_bin[char] for char in message])\n",
    "print(parse_message(new_message))"
   ]
  }
 ],
 "metadata": {
  "kernelspec": {
   "display_name": "Python 3 (ipykernel)",
   "language": "python",
   "name": "python3"
  },
  "language_info": {
   "codemirror_mode": {
    "name": "ipython",
    "version": 3
   },
   "file_extension": ".py",
   "mimetype": "text/x-python",
   "name": "python",
   "nbconvert_exporter": "python",
   "pygments_lexer": "ipython3",
   "version": "3.9.7"
  }
 },
 "nbformat": 4,
 "nbformat_minor": 5
}
