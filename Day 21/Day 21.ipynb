{
 "cells": [
  {
   "cell_type": "markdown",
   "id": "516a64c7-51f5-4656-8324-c5050abf99a0",
   "metadata": {},
   "source": [
    "# Day 21\n",
    "## Part 1"
   ]
  },
  {
   "cell_type": "code",
   "execution_count": 2,
   "id": "5f24ba85-d829-4f5a-9ae5-a0eca7a678a9",
   "metadata": {},
   "outputs": [],
   "source": [
    "import numpy as np"
   ]
  },
  {
   "cell_type": "code",
   "execution_count": 3,
   "id": "cff0c377-8a5e-45b1-b8c0-5a14b0dc5ec4",
   "metadata": {},
   "outputs": [
    {
     "name": "stdout",
     "output_type": "stream",
     "text": [
      "[4, 8]\n"
     ]
    }
   ],
   "source": [
    "with open(\"ex1.txt\") as f:\n",
    "# with open(\"starts.txt\") as f:\n",
    "    starts = [int(line.strip().split(\": \")[1]) for line in f.readlines()]\n",
    "\n",
    "print(starts)"
   ]
  },
  {
   "cell_type": "code",
   "execution_count": 29,
   "id": "79c7ccb1-eb64-42e2-91e7-a91e527ebbc9",
   "metadata": {},
   "outputs": [
    {
     "name": "stdout",
     "output_type": "stream",
     "text": [
      "1000 688\n",
      "513936\n"
     ]
    }
   ],
   "source": [
    "p1_space = starts[0]\n",
    "p2_space = starts[1]\n",
    "p1_score = 0\n",
    "p2_score = 0\n",
    "die = 1\n",
    "roll_count = 0\n",
    "\n",
    "# simulate game\n",
    "while True:\n",
    "    p1_space += (die*3 + 3)\n",
    "    roll_count += 3\n",
    "    if p1_space > 10:\n",
    "        p1_space = ((p1_space - 1) % 10) + 1\n",
    "    p1_score += p1_space\n",
    "    if p1_score >= 1000:\n",
    "        break\n",
    "    die += 3\n",
    "    \n",
    "    p2_space += (die*3 + 3)\n",
    "    roll_count += 3\n",
    "    if p2_space > 10:\n",
    "        p2_space = ((p2_space - 1) % 10) + 1\n",
    "    p2_score += p2_space\n",
    "    if p2_score >= 1000:\n",
    "        break\n",
    "    die += 3\n",
    "    # break\n",
    "    \n",
    "print(p1_score, p2_score)\n",
    "# print(roll_count)\n",
    "print(roll_count * min(p1_score, p2_score))"
   ]
  },
  {
   "cell_type": "markdown",
   "id": "352e3674-bb94-4494-82e4-befbc2a65b0f",
   "metadata": {},
   "source": [
    "## Part 2"
   ]
  },
  {
   "cell_type": "code",
   "execution_count": 35,
   "id": "310c3057-d62b-4422-a75e-7d21a77a1ffe",
   "metadata": {},
   "outputs": [
    {
     "name": "stdout",
     "output_type": "stream",
     "text": [
      "24\n"
     ]
    }
   ],
   "source": [
    "# what if a player rolled 1 every time? how many turns would that take?\n",
    "# maybe I should just deal with recursion now :/\n",
    "\n",
    "def simulate_turn(player_space, player_score, roll, n_rolls):  # constant roll\n",
    "    player_space += roll*3\n",
    "    n_rolls += 3\n",
    "    if player_space > 10:\n",
    "        player_space = ((player_space - 1) % 10) + 1\n",
    "    player_score += player_space\n",
    "    return player_space, player_score, n_rolls\n",
    "    \n",
    "p1_score = 0\n",
    "p1_space = starts[0]\n",
    "p2_score = 0\n",
    "p2_space = starts[1]\n",
    "roll = 1\n",
    "n_rolls = 0\n",
    "\n",
    "while p1_score <= 21:\n",
    "    p1_space, p1_score, n_rolls = simulate_turn(p1_space, p1_score, 1, n_rolls)\n",
    "    p2_space, p2_score, n_rolls = simulate_turn(p2_space, p2_score, 1, n_rolls)\n",
    "    \n",
    "print(n_rolls)"
   ]
  },
  {
   "cell_type": "markdown",
   "id": "56caeb55-d4c8-4f0c-8a5e-19d03d6bc084",
   "metadata": {},
   "source": [
    "Even in the worst case, there are only 24 rolls. Hmmm...\n",
    "\n",
    "If there are only 24 rolls max, then I could just generate a list 24 long of numbers 1, 2, or 3. Then, simulate the game for each of these lists, making note of who won. Wait no, that wouldn't work :(\n",
    "\n",
    "Maybe I should just do some sort of recursion thing that splits universes."
   ]
  },
  {
   "cell_type": "code",
   "execution_count": 53,
   "id": "1fc71578-83e9-4610-90bf-0d7df9f7359f",
   "metadata": {},
   "outputs": [],
   "source": [
    "def split_universe(roll_history, n_p1_wins, n_games, p1_space, p1_score, p2_space, p2_score):\n",
    "    # Pass in current rolls. If roll_history is a multiple of 3, then simulate a turn?\n",
    "    # Since that means 3 rolls will have happened.\n",
    "    if roll_history and len(roll_history) % 3 == 0:\n",
    "        # A multiple of 3 rolls have been rolled\n",
    "        if len(roll_history) % 6 == 0:\n",
    "            # player 2 has just rolled - simulate turn using the last three rolls\n",
    "            p2_space += sum(roll_history[-3:])\n",
    "            if p2_space > 10:\n",
    "                p2_space = ((p2_space - 1) % 10) + 1\n",
    "            p2_score += p2_space\n",
    "        else:\n",
    "            # player 1 has just rolled - simulate turn using the last three rolls\n",
    "            p1_space += sum(roll_history[-3:])\n",
    "            if p1_space > 10:\n",
    "                p1_space = ((p1_space - 1) % 10) + 1\n",
    "            p1_score += p1_space\n",
    "    \n",
    "        if max(p1_score, p2_score) >= 21:\n",
    "            # someone has win the game, so deal with that - return True or False maybe? 1 or 2? idk\n",
    "            # return 1 if player 1 wins, then track the number of games played too.\n",
    "            # can use difference to find games where player 2 wins.\n",
    "            n_p1_wins += 1 if p1_score > p2_score else 0\n",
    "            n_games += 1\n",
    "            return n_p1_wins, n_games\n",
    "        \n",
    "    # no one has won, so roll another die\n",
    "    # split the universe into 3\n",
    "    n_p1_wins, n_games = split_universe(roll_history + [1], n_p1_wins, n_games, p1_space, p1_score, p2_space, p2_score)\n",
    "    n_p1_wins, n_games = split_universe(roll_history + [2], n_p1_wins, n_games, p1_space, p1_score, p2_space, p2_score)\n",
    "    n_p1_wins, n_games = split_universe(roll_history + [3], n_p1_wins, n_games, p1_space, p1_score, p2_space, p2_score)\n",
    "        \n",
    "    return n_p1_wins, n_games"
   ]
  },
  {
   "cell_type": "code",
   "execution_count": 65,
   "id": "c6b3393e-f680-4be7-82b4-9dd90baada5a",
   "metadata": {},
   "outputs": [],
   "source": [
    "roll_history = []\n",
    "n_p1_wins = 0\n",
    "n_games = 0\n",
    "p1_space = starts[0]\n",
    "p1_score = 0\n",
    "p2_space = starts[1]\n",
    "p2_score = 0\n",
    "\n",
    "# n_p1_wins, n_games = split_universe(roll_history, n_p1_wins, n_games, p1_space, p1_score, p2_space, p2_score)\n",
    "# print(n_p1_wins, n_games)\n",
    "# print(n_games - n_p1_wins)"
   ]
  },
  {
   "cell_type": "markdown",
   "id": "e303b493-dfc0-4176-bcf7-5c5c31c981ae",
   "metadata": {},
   "source": [
    "This is silly and will take forever.\n",
    "\n",
    "Looking at how a turn works, all that really matters is the *sum* of the dice rolls, and not all sums are unique. If I only deal with the sums, that can cut down on the amount of work needed to be done."
   ]
  },
  {
   "cell_type": "code",
   "execution_count": 1,
   "id": "072e314c-1fa8-4a7e-a186-c0e86d4a5015",
   "metadata": {},
   "outputs": [
    {
     "name": "stdout",
     "output_type": "stream",
     "text": [
      "3 1\n",
      "4 3\n",
      "5 6\n",
      "6 7\n",
      "7 6\n",
      "8 3\n",
      "9 1\n",
      "27\n"
     ]
    }
   ],
   "source": [
    "import collections\n",
    "\n",
    "unique_sums = collections.defaultdict(int)\n",
    "for i in (1, 2, 3):\n",
    "    for j in (1, 2, 3):\n",
    "        for k in (1, 2, 3):\n",
    "            unique_sums[i+j+k] += 1\n",
    "            \n",
    "for k, v in unique_sums.items():\n",
    "    print(k, v)\n",
    "    \n",
    "\n",
    "print(sum(unique_sums.values()))"
   ]
  },
  {
   "cell_type": "code",
   "execution_count": 36,
   "id": "d8bc3363-1577-4c17-b00d-0f51381eea0b",
   "metadata": {
    "tags": []
   },
   "outputs": [],
   "source": [
    "def split_universe(sum_history, n_p1_wins, n_games, p1_space, p1_score, p2_space, p2_score, unique_sums=unique_sums):\n",
    "    # Pass in current sums of rolls. If odd number of sums, player 1s turn, else player 2s turn.\n",
    "    history_length = len(sum_history)\n",
    "    if history_length:\n",
    "        if history_length % 2 == 0:\n",
    "            # player 2 has just rolled - simulate turn using the last three rolls\n",
    "            p2_space += sum_history[-1]\n",
    "            if p2_space > 10:\n",
    "                p2_space = ((p2_space - 1) % 10) + 1\n",
    "            p2_score += p2_space\n",
    "        elif history_length:\n",
    "            # player 1 has just rolled - simulate turn using the last three rolls\n",
    "            p1_space += sum_history[-1]\n",
    "            if p1_space > 10:\n",
    "                p1_space = ((p1_space - 1) % 10) + 1\n",
    "            p1_score += p1_space\n",
    "\n",
    "        if max(p1_score, p2_score) >= 21:\n",
    "            # someone has won the game, so deal with that - return True or False maybe? 1 or 2? idk\n",
    "            # return 1 if player 1 wins, then track the number of games played too.\n",
    "            # can use difference to find games where player 2 wins.\n",
    "            game_p1_wins = 1 if p1_score > p2_score else 0\n",
    "            game_count = 1\n",
    "            return n_p1_wins + (game_p1_wins * unique_sums[sum_history[-1]]), n_games + (game_count * unique_sums[sum_history[-1]])\n",
    "        \n",
    "    # no one has won, so add another sum.\n",
    "    # there are only 7 unique sums.\n",
    "    # maybe just write this one at a time tbh - \"for loops are slow\"\n",
    "    for unique_sum, n_sum in unique_sums.items():\n",
    "        # base_n_p1_wins, base_n_games = split_universe(sum_history + [unique_sum], n_p1_wins, n_games, p1_space, p1_score, p2_space, p2_score)\n",
    "        # n_p1_wins += n_sum * base_n_p1_wins\n",
    "        # n_games += n_sum * base_n_games\n",
    "        n_p1_wins, n_games = split_universe(sum_history + [unique_sum], n_p1_wins, n_games, p1_space, p1_score, p2_space, p2_score)\n",
    "        \n",
    "    return n_p1_wins, n_games"
   ]
  },
  {
   "cell_type": "code",
   "execution_count": 51,
   "id": "fbd19904-fd82-4340-b0be-d9cc967b1de1",
   "metadata": {},
   "outputs": [
    {
     "name": "stdout",
     "output_type": "stream",
     "text": [
      "27 27\n",
      "0\n"
     ]
    }
   ],
   "source": [
    "sum_history = []\n",
    "n_p1_wins = 0\n",
    "n_games = 0\n",
    "p1_space = starts[0]\n",
    "p1_score = 21\n",
    "p2_space = starts[1]\n",
    "p2_score = 21\n",
    "\n",
    "n_p1_wins, n_games = split_universe(sum_history, n_p1_wins, n_games, p1_space, p1_score, p2_space, p2_score)\n",
    "print(n_p1_wins, n_games)\n",
    "print(n_games - n_p1_wins)\n",
    "\n",
    "# got the wrong answer :/\n",
    "# don't know why :(\n",
    "# I think my logic is sound, I just haven't written it right\n",
    "# Maybe I should try doing this but just with n_games, until I get n_games right? hmm\n",
    "# Maybe calculate from each space where it moves to next with each specific sum, just so I can get rid of the modulus stuff\n",
    "# I don't know if that would speed it up but it might :O\n",
    "# Maybe use numpy array with their positions too, idk"
   ]
  },
  {
   "cell_type": "code",
   "execution_count": 2,
   "id": "df187c42-1dbf-4055-a923-fc751880a487",
   "metadata": {},
   "outputs": [
    {
     "name": "stdout",
     "output_type": "stream",
     "text": [
      "1 {3: 4, 4: 5, 5: 6, 6: 7, 7: 8, 8: 9, 9: 10}\n",
      "2 {3: 5, 4: 6, 5: 7, 6: 8, 7: 9, 8: 10, 9: 1}\n",
      "3 {3: 6, 4: 7, 5: 8, 6: 9, 7: 10, 8: 1, 9: 2}\n",
      "4 {3: 7, 4: 8, 5: 9, 6: 10, 7: 1, 8: 2, 9: 3}\n",
      "5 {3: 8, 4: 9, 5: 10, 6: 1, 7: 2, 8: 3, 9: 4}\n",
      "6 {3: 9, 4: 10, 5: 1, 6: 2, 7: 3, 8: 4, 9: 5}\n",
      "7 {3: 10, 4: 1, 5: 2, 6: 3, 7: 4, 8: 5, 9: 6}\n",
      "8 {3: 1, 4: 2, 5: 3, 6: 4, 7: 5, 8: 6, 9: 7}\n",
      "9 {3: 2, 4: 3, 5: 4, 6: 5, 7: 6, 8: 7, 9: 8}\n",
      "10 {3: 3, 4: 4, 5: 5, 6: 6, 7: 7, 8: 8, 9: 9}\n"
     ]
    }
   ],
   "source": [
    "move_from = {}\n",
    "\n",
    "for i in range(1, 11):\n",
    "    # each space they move from\n",
    "    move_to = {}\n",
    "    for move, count in unique_sums.items():\n",
    "        # how many spaces they will move\n",
    "        move_to[move] = (((i + move) - 1) % 10) + 1\n",
    "    move_from[i] = move_to\n",
    "\n",
    "for k, v in move_from.items():\n",
    "    print(k, v)"
   ]
  },
  {
   "cell_type": "code",
   "execution_count": 3,
   "id": "a3e80790-6a6f-4a95-8e6f-e083c2824e5c",
   "metadata": {},
   "outputs": [],
   "source": [
    "import functools\n",
    "\n",
    "@functools.cache\n",
    "def split_universe(roll_sum, isplayer1, p1_space, p1_score, p2_space, p2_score, n_p1_won=0, n_games=0):\n",
    "    \"Returns number of games ended and number of games in which player 1 won.\"\n",
    "    if isplayer1:\n",
    "        p1_space = move_from[p1_space][roll_sum]\n",
    "        p1_score += p1_space\n",
    "        if p1_score >= 21:\n",
    "            # game end\n",
    "            return 1, 1  # player1 won, game complete\n",
    "    else:\n",
    "        p2_space = move_from[p2_space][roll_sum]\n",
    "        p2_score += p2_space\n",
    "        if p2_score >= 21:\n",
    "            return 0, 1\n",
    "            # game end\n",
    "    # no game end, so roll sum again\n",
    "    for dice_sum, n_sum in unique_sums.items():\n",
    "        result = split_universe(dice_sum, not isplayer1, p1_space, p1_score, p2_space, p2_score)\n",
    "        n_p1_won += result[0] * n_sum\n",
    "        n_games += result[1] * n_sum\n",
    "    return n_p1_won, n_games"
   ]
  },
  {
   "cell_type": "code",
   "execution_count": 108,
   "id": "ebdfb775-e9cc-4a9a-8889-aa8c6e00197f",
   "metadata": {},
   "outputs": [
    {
     "name": "stdout",
     "output_type": "stream",
     "text": [
      "P1 won 444356092776315 times out of 786316482957123 games\n",
      "444356092776315\n"
     ]
    }
   ],
   "source": [
    "n_p1_won = 0\n",
    "n_games = 0\n",
    "isplayer1 = True\n",
    "p1_space = starts[0]\n",
    "p1_score = 0\n",
    "p2_space = starts[1]\n",
    "p2_score = 0\n",
    "\n",
    "for dice_sum, n_sum in unique_sums.items():\n",
    "    result = split_universe(dice_sum, isplayer1, p1_space, p1_score, p2_space, p2_score)\n",
    "    n_p1_won += result[0] * n_sum\n",
    "    n_games += result[1] * n_sum\n",
    "    \n",
    "print(f\"P1 won {n_p1_won} times out of {n_games} games\")\n",
    "print(max(n_p1_won, n_games - n_p1_won))"
   ]
  },
  {
   "cell_type": "code",
   "execution_count": 4,
   "id": "81cb4361-6937-4328-b7fd-0f33448bee7a",
   "metadata": {},
   "outputs": [
    {
     "name": "stdout",
     "output_type": "stream",
     "text": [
      "[8, 2]\n",
      "P1 won 105619718613031 times out of 199672040245315 games\n",
      "105619718613031\n"
     ]
    }
   ],
   "source": [
    "# with open(\"ex1.txt\") as f:\n",
    "with open(\"starts.txt\") as f:\n",
    "    starts = [int(line.strip().split(\": \")[1]) for line in f.readlines()]\n",
    "\n",
    "print(starts)\n",
    "\n",
    "n_p1_won = 0\n",
    "n_games = 0\n",
    "isplayer1 = True\n",
    "p1_space = starts[0]\n",
    "p1_score = 0\n",
    "p2_space = starts[1]\n",
    "p2_score = 0\n",
    "\n",
    "for dice_sum, n_sum in unique_sums.items():\n",
    "    result = split_universe(dice_sum, isplayer1, p1_space, p1_score, p2_space, p2_score)\n",
    "    n_p1_won += result[0] * n_sum\n",
    "    n_games += result[1] * n_sum\n",
    "    \n",
    "print(f\"P1 won {n_p1_won} times out of {n_games} games\")\n",
    "print(max(n_p1_won, n_games - n_p1_won))"
   ]
  },
  {
   "cell_type": "code",
   "execution_count": 13,
   "id": "db54d1df-8db4-4e32-a349-918de3e82901",
   "metadata": {},
   "outputs": [],
   "source": [
    "# making my own cache function because I want to\n",
    "SPLIT_UNIVERSE_CACHE = {}\n",
    "\n",
    "def split_universe_my_cache(roll_sum, isplayer1, p1_space, p1_score, p2_space, p2_score, n_p1_won=0, n_games=0):\n",
    "    \"Returns number of games ended and number of games in which player 1 won.\"\n",
    "    global SPLIT_UNIVERSE_CACHE\n",
    "    check = hash(tuple([roll_sum, isplayer1, p1_space, p1_score, p2_space, p2_score]))\n",
    "    \n",
    "    if check in SPLIT_UNIVERSE_CACHE:\n",
    "        return SPLIT_UNIVERSE_CACHE[check]\n",
    "    \n",
    "    if isplayer1:\n",
    "        p1_space = move_from[p1_space][roll_sum]\n",
    "        p1_score += p1_space\n",
    "        if p1_score >= 21:\n",
    "            # game end\n",
    "            return 1, 1  # player1 won, game complete\n",
    "    else:\n",
    "        p2_space = move_from[p2_space][roll_sum]\n",
    "        p2_score += p2_space\n",
    "        if p2_score >= 21:\n",
    "            return 0, 1\n",
    "            # game end\n",
    "    # no game end, so roll sum again\n",
    "    for dice_sum, n_sum in unique_sums.items():\n",
    "        result = split_universe_my_cache(dice_sum, not isplayer1, p1_space, p1_score, p2_space, p2_score)\n",
    "        n_p1_won += result[0] * n_sum\n",
    "        n_games += result[1] * n_sum\n",
    "        \n",
    "    SPLIT_UNIVERSE_CACHE[check] = [n_p1_won, n_games]\n",
    "\n",
    "    return n_p1_won, n_games"
   ]
  },
  {
   "cell_type": "code",
   "execution_count": 15,
   "id": "7fce2756-4172-4625-9253-b814dc26d361",
   "metadata": {},
   "outputs": [
    {
     "name": "stdout",
     "output_type": "stream",
     "text": [
      "[8, 2]\n",
      "P1 won 105619718613031 times out of 199672040245315 games\n",
      "105619718613031\n"
     ]
    }
   ],
   "source": [
    "with open(\"starts.txt\") as f:\n",
    "    starts = [int(line.strip().split(\": \")[1]) for line in f.readlines()]\n",
    "\n",
    "print(starts)\n",
    "\n",
    "n_p1_won = 0\n",
    "n_games = 0\n",
    "isplayer1 = True\n",
    "p1_space = starts[0]\n",
    "p1_score = 0\n",
    "p2_space = starts[1]\n",
    "p2_score = 0\n",
    "\n",
    "for dice_sum, n_sum in unique_sums.items():\n",
    "    result = split_universe_my_cache(dice_sum, isplayer1, p1_space, p1_score, p2_space, p2_score)\n",
    "    n_p1_won += result[0] * n_sum\n",
    "    n_games += result[1] * n_sum\n",
    "    \n",
    "print(f\"P1 won {n_p1_won} times out of {n_games} games\")\n",
    "print(max(n_p1_won, n_games - n_p1_won))"
   ]
  }
 ],
 "metadata": {
  "kernelspec": {
   "display_name": "Python 3 (ipykernel)",
   "language": "python",
   "name": "python3"
  },
  "language_info": {
   "codemirror_mode": {
    "name": "ipython",
    "version": 3
   },
   "file_extension": ".py",
   "mimetype": "text/x-python",
   "name": "python",
   "nbconvert_exporter": "python",
   "pygments_lexer": "ipython3",
   "version": "3.9.7"
  }
 },
 "nbformat": 4,
 "nbformat_minor": 5
}
