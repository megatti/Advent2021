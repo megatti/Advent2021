{
 "cells": [
  {
   "cell_type": "markdown",
   "id": "2f1086b4-a5e4-46d1-ad2a-23cc9fcd9b5a",
   "metadata": {},
   "source": [
    "## Day 11\n",
    "\n",
    "# Part 1"
   ]
  },
  {
   "cell_type": "code",
   "execution_count": 94,
   "id": "3f4589c5-b304-42f5-8f91-45bee032cde5",
   "metadata": {},
   "outputs": [
    {
     "name": "stdout",
     "output_type": "stream",
     "text": [
      "[[1 2 5 4 1 1 7 2 2 8]\n",
      " [4 4 1 6 8 7 3 2 2 4]\n",
      " [8 3 5 4 3 8 1 5 5 3]\n",
      " [1 3 7 2 6 3 7 6 1 4]\n",
      " [5 5 8 6 5 3 8 5 5 3]\n",
      " [7 2 1 3 3 3 3 4 2 7]\n",
      " [3 5 7 1 3 6 2 8 2 5]\n",
      " [1 6 8 1 1 2 6 2 4 3]\n",
      " [8 7 1 8 3 1 2 1 3 8]\n",
      " [5 2 5 4 2 6 6 3 4 7]]\n"
     ]
    }
   ],
   "source": [
    "import numpy as np\n",
    "\n",
    "with open(\"octopuses.txt\") as f:\n",
    "    lines = [[int(char) for char in list(line.strip())] for line in f.readlines()]\n",
    "    \n",
    "field = np.array(lines)\n",
    "print(field)"
   ]
  },
  {
   "cell_type": "code",
   "execution_count": 95,
   "id": "fbb0790c-d3de-41b8-98a9-07de2cc69566",
   "metadata": {},
   "outputs": [],
   "source": [
    "def step_through(field):\n",
    "    # Go through one step\n",
    "    # 1: Increase all energies by 1\n",
    "    field = field + 1\n",
    "\n",
    "    # 2: Octopuses with energy > 9 flash, and loop until no more 9s\n",
    "    flashes = set()\n",
    "    while np.any(field > 9):\n",
    "        # print(field)\n",
    "        for i, j in zip(*np.where(field > 9)):\n",
    "            if ((i, j)) in flashes:\n",
    "                # each octopus only flashes at most once\n",
    "                continue\n",
    "            adjacents = set()\n",
    "            field[i, j] = 0\n",
    "            flashes.add((i, j))\n",
    "\n",
    "            # get all adjacents coordinates\n",
    "            for x in np.arange(max(0, i-1), min(9, i+1)+1):\n",
    "                for y in np.arange(max(0, j-1), min(9, j+1)+1):\n",
    "                    adjacents.add((x, y))\n",
    "\n",
    "            adjacents.remove((i, j))\n",
    "\n",
    "            for coord in adjacents:\n",
    "                field[coord] += 1\n",
    "\n",
    "    # 3: reset any flashed to 0\n",
    "    for coord in flashes:\n",
    "        field[coord] = 0\n",
    "\n",
    "    return field, flashes"
   ]
  },
  {
   "cell_type": "code",
   "execution_count": 96,
   "id": "6f1f3a71-0261-408b-a201-9bb70940a69e",
   "metadata": {},
   "outputs": [
    {
     "name": "stdout",
     "output_type": "stream",
     "text": [
      "1773\n"
     ]
    }
   ],
   "source": [
    "old_field = field.copy()\n",
    "\n",
    "flash_count = 0\n",
    "\n",
    "for i in range(100):\n",
    "    field, flashes = step_through(field)\n",
    "    flash_count += len(flashes)\n",
    "    \n",
    "print(flash_count)\n",
    "\n",
    "field = old_field.copy()"
   ]
  },
  {
   "cell_type": "markdown",
   "id": "be6081fa-5b0f-41b6-825c-5c1c202c9725",
   "metadata": {},
   "source": [
    "## Part 2"
   ]
  },
  {
   "cell_type": "code",
   "execution_count": 98,
   "id": "879c4dec-80a2-48c7-8c9c-0808bfe7ca8f",
   "metadata": {},
   "outputs": [
    {
     "name": "stdout",
     "output_type": "stream",
     "text": [
      "494\n"
     ]
    }
   ],
   "source": [
    "old_field = field.copy()\n",
    "step = 0\n",
    "flashes = set()\n",
    "\n",
    "while len(flashes) != 100:\n",
    "    step += 1\n",
    "    field, flashes = step_through(field)\n",
    "\n",
    "print(step)\n",
    "field = old_field.copy()"
   ]
  }
 ],
 "metadata": {
  "kernelspec": {
   "display_name": "Python 3 (ipykernel)",
   "language": "python",
   "name": "python3"
  },
  "language_info": {
   "codemirror_mode": {
    "name": "ipython",
    "version": 3
   },
   "file_extension": ".py",
   "mimetype": "text/x-python",
   "name": "python",
   "nbconvert_exporter": "python",
   "pygments_lexer": "ipython3",
   "version": "3.9.7"
  }
 },
 "nbformat": 4,
 "nbformat_minor": 5
}
