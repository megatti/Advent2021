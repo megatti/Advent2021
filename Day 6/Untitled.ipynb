{
 "cells": [
  {
   "cell_type": "markdown",
   "id": "f53369c7-5757-4749-9175-184ffefb02f2",
   "metadata": {},
   "source": [
    "# Day 6\n",
    "\n",
    "## Part 1"
   ]
  },
  {
   "cell_type": "code",
   "execution_count": 35,
   "id": "7fe00cc2-0c25-4c8b-9d70-073b3fc751ee",
   "metadata": {},
   "outputs": [],
   "source": [
    "lanternfish = {0: 0, 1: 0, 2: 0, 3: 0, 4: 0, 5: 0, 6: 0, 7: 0, 8: 0}\n",
    "with open(\"lanternfish.txt\", \"r\") as f:\n",
    "    for fish in f.readlines()[0].split(\",\"):\n",
    "        lanternfish[int(fish)] += 1"
   ]
  },
  {
   "cell_type": "code",
   "execution_count": 30,
   "id": "e1a1694c-6ccb-457d-bf1c-660cc1910a25",
   "metadata": {},
   "outputs": [],
   "source": [
    "def step_fish(lanternfish):\n",
    "    \"Step through a day.\"\n",
    "    new_fish = dict(lanternfish)\n",
    "    for i in range(8):\n",
    "        new_fish[i] = lanternfish[i+1]\n",
    "    new_fish[8] = lanternfish[0]  # new fish are born\n",
    "    new_fish[6] += lanternfish[0]  # fish reset to 6 days\n",
    "    return new_fish"
   ]
  },
  {
   "cell_type": "code",
   "execution_count": 31,
   "id": "cc5770a6-e2f9-4d70-a27d-07bc0daad48f",
   "metadata": {},
   "outputs": [
    {
     "name": "stdout",
     "output_type": "stream",
     "text": [
      "388739\n"
     ]
    }
   ],
   "source": [
    "days = 80\n",
    "new_fish = lanternfish\n",
    "for i in range(days):\n",
    "    new_fish = step_fish(new_fish)\n",
    "    \n",
    "print(sum(new_fish.values()))"
   ]
  },
  {
   "cell_type": "code",
   "execution_count": 36,
   "id": "ef6c8942-8c3b-48a2-900e-055e7f64ae05",
   "metadata": {},
   "outputs": [
    {
     "name": "stdout",
     "output_type": "stream",
     "text": [
      "1741362314973\n"
     ]
    }
   ],
   "source": [
    "days = 256\n",
    "new_fish = lanternfish\n",
    "for i in range(days):\n",
    "    new_fish = step_fish(new_fish)\n",
    "    \n",
    "print(sum(new_fish.values()))"
   ]
  }
 ],
 "metadata": {
  "kernelspec": {
   "display_name": "Python 3 (ipykernel)",
   "language": "python",
   "name": "python3"
  },
  "language_info": {
   "codemirror_mode": {
    "name": "ipython",
    "version": 3
   },
   "file_extension": ".py",
   "mimetype": "text/x-python",
   "name": "python",
   "nbconvert_exporter": "python",
   "pygments_lexer": "ipython3",
   "version": "3.9.7"
  }
 },
 "nbformat": 4,
 "nbformat_minor": 5
}
