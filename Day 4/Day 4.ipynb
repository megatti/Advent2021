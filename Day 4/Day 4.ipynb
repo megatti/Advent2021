{
 "cells": [
  {
   "cell_type": "markdown",
   "id": "6f54de7d-c5b3-4b87-b1c2-c1a113ea6da2",
   "metadata": {},
   "source": [
    "## Day 4\n",
    "\n",
    "# Part 1"
   ]
  },
  {
   "cell_type": "code",
   "execution_count": 78,
   "id": "c13cb5c1-406f-429d-860f-acc9cc38d6ea",
   "metadata": {},
   "outputs": [],
   "source": [
    "import numpy as np"
   ]
  },
  {
   "cell_type": "code",
   "execution_count": 135,
   "id": "454252e9-54fe-4495-912b-e944ebb2b2b1",
   "metadata": {},
   "outputs": [],
   "source": [
    "commands = []\n",
    "with open(\"bingo.txt\", \"r\") as f:\n",
    "    file_input = [line.strip() for line in f.readlines()]\n",
    "\n",
    "# First line is numbers\n",
    "bingo_numbers = [int(i) for i in file_input.pop(0).split(\",\")]\n",
    "file_input.pop(0)\n",
    "# print(bingo_numbers)\n",
    "# print(file_input)\n",
    "\n",
    "bingo_cards = []\n",
    "original_cards = []\n",
    "\n",
    "card = []\n",
    "\n",
    "for line in file_input:\n",
    "    if line == \"\":\n",
    "        # deal with ending card\n",
    "        bingo_cards.append(np.array(card))\n",
    "        original_cards.append(np.array(card))\n",
    "        card = []\n",
    "    else:\n",
    "        numbers = line.split(\" \")\n",
    "        # single digits have an extra space in them, annoyingly\n",
    "        while \"\" in numbers:\n",
    "            numbers.remove(\"\")\n",
    "            \n",
    "        card.append([int(i) for i in numbers])\n",
    "else:\n",
    "    bingo_cards.append(np.array(card))\n",
    "    original_cards.append(np.array(card))"
   ]
  },
  {
   "cell_type": "markdown",
   "id": "2481119f-e489-43d6-aed1-26edd8b41932",
   "metadata": {},
   "source": [
    "Now I have all of the bingo cards in a list.\n",
    "\n",
    "Time to go through each using the bingo numbers and see where gets a match first.\n",
    "\n",
    "My plan is to replace matched numbers with -1, and then sum using np.sum each row and then column until I get one that sums to -5.\n",
    "Then, take the sum of the remaining numbers in the array plus the number of matched numbers, and multiply by the current number being considered."
   ]
  },
  {
   "cell_type": "code",
   "execution_count": 136,
   "id": "1949b52d-a0e2-445c-a052-26dd8ee6f2ed",
   "metadata": {},
   "outputs": [],
   "source": [
    "# First, check there is no -1 since that'll break everything\n",
    "for card in bingo_cards:\n",
    "    if -1 in card:\n",
    "        print(\"uh oh!!!!\")\n",
    "        \n",
    "if -1 in bingo_numbers:\n",
    "    print(\"uh oh!!!\")"
   ]
  },
  {
   "cell_type": "code",
   "execution_count": 143,
   "id": "19bd9366-9bc1-42cb-9dc1-96f37ef7e44e",
   "metadata": {},
   "outputs": [
    {
     "name": "stdout",
     "output_type": "stream",
     "text": [
      "[[63  5 10 69 57]\n",
      " [64 88 27 40 76]\n",
      " [59 20 58 90  6]\n",
      " [74 32 72 16 26]\n",
      " [50 17  7 93 94]]\n",
      "[310 162 174 308 259]\n",
      "[204 295 233 220 261]\n"
     ]
    }
   ],
   "source": [
    "print(bingo_cards[0])\n",
    "print(np.sum(bingo_cards[0], 0))  # does a sum by vertical lines\n",
    "print(np.sum(bingo_cards[0], 1))  # does a sum by horizontal lines"
   ]
  },
  {
   "cell_type": "code",
   "execution_count": 142,
   "id": "d836f49d-5048-45ff-a521-7d7367463d4d",
   "metadata": {},
   "outputs": [
    {
     "name": "stdout",
     "output_type": "stream",
     "text": [
      "[[54 41 -1 33 60]\n",
      " [85 -1 -1 77 51]\n",
      " [81 12 -1 20 27]\n",
      " [36 24 -1 -1 80]\n",
      " [14 83 -1 50 91]]\n",
      "numbers remaining 919\n",
      "number 49\n",
      "A board won!\n",
      "answer is 45031\n"
     ]
    }
   ],
   "source": [
    "board_won = False\n",
    "for number in bingo_numbers:\n",
    "    for card in bingo_cards:\n",
    "        card[card == number] = -1\n",
    "        # Check if line is complete\n",
    "        if -5 in np.sum(card, 0) or -5 in np.sum(card, 1):\n",
    "            numbers_remaining = np.sum(card) - np.sum(card[card == -1])  # plus 5 due to the marked numbers being -1\n",
    "            board_won = True\n",
    "            \n",
    "            print(card)\n",
    "            print(\"numbers remaining\", numbers_remaining)\n",
    "            print(\"number\", number)\n",
    "            \n",
    "            print(\"A board won!\")\n",
    "            print(f\"answer is {numbers_remaining * number}\")\n",
    "            break\n",
    "            \n",
    "    if board_won:\n",
    "        break\n",
    "        \n",
    "bingo_cards = [np.copy(array) for array in original_cards]"
   ]
  },
  {
   "cell_type": "markdown",
   "id": "b96b7e69-d188-46fb-b4e1-adc85358f736",
   "metadata": {},
   "source": [
    "# Part 2"
   ]
  },
  {
   "cell_type": "code",
   "execution_count": 134,
   "id": "98724909-8216-4eb5-ab34-8b57e899853d",
   "metadata": {},
   "outputs": [],
   "source": [
    "commands = []\n",
    "with open(\"ex1.txt\", \"r\") as f:\n",
    "    file_input = [line.strip() for line in f.readlines()]\n",
    "\n",
    "# First line is numbers\n",
    "bingo_numbers = [int(i) for i in file_input.pop(0).split(\",\")]\n",
    "file_input.pop(0)\n",
    "# print(bingo_numbers)\n",
    "# print(file_input)\n",
    "\n",
    "bingo_cards = []\n",
    "original_cards = []\n",
    "\n",
    "card = []\n",
    "\n",
    "for line in file_input:\n",
    "    if line == \"\":\n",
    "        # deal with ending card\n",
    "        bingo_cards.append(np.array(card))\n",
    "        original_cards.append(np.array(card))\n",
    "        card = []\n",
    "    else:\n",
    "        numbers = line.split(\" \")\n",
    "        # single digits have an extra space in them, annoyingly\n",
    "        while \"\" in numbers:\n",
    "            numbers.remove(\"\")\n",
    "            \n",
    "        card.append([int(i) for i in numbers])\n",
    "else:\n",
    "    bingo_cards.append(np.array(card))\n",
    "    original_cards.append(np.array(card))"
   ]
  },
  {
   "cell_type": "code",
   "execution_count": 133,
   "id": "b608ebc9-3ca2-4876-9280-3e838b4d2b91",
   "metadata": {},
   "outputs": [
    {
     "name": "stdout",
     "output_type": "stream",
     "text": [
      "[[ 3 15 -1 -1 22]\n",
      " [-1 18 -1 -1 -1]\n",
      " [19  8 -1 25 -1]\n",
      " [20 -1 -1 -1 -1]\n",
      " [-1 -1 -1 12  6]]\n",
      "numbers remaining 148\n",
      "number 13\n",
      "The last board won.\n",
      "answer is 1924\n",
      "[array([[22, 13, 17, 11,  0],\n",
      "       [ 8,  2, 23,  4, 24],\n",
      "       [21,  9, 14, 16,  7],\n",
      "       [ 6, 10,  3, 18,  5],\n",
      "       [ 1, 12, 20, 15, 19]]), array([[ 3, 15,  0,  2, 22],\n",
      "       [ 9, 18, 13, 17,  5],\n",
      "       [19,  8,  7, 25, 23],\n",
      "       [20, 11, 10, 24,  4],\n",
      "       [14, 21, 16, 12,  6]]), array([[14, 21, 17, 24,  4],\n",
      "       [10, 16, 15,  9, 19],\n",
      "       [18,  8, 23, 26, 20],\n",
      "       [22, 11, 13,  6,  5],\n",
      "       [ 2,  0, 12,  3,  7]])]\n"
     ]
    }
   ],
   "source": [
    "board_won = False\n",
    "remove_card = False\n",
    "for number in bingo_numbers:\n",
    "    cards_to_remove = []\n",
    "    for index, card in enumerate(bingo_cards):\n",
    "        card[card == number] = -1\n",
    "        # Check if line is complete\n",
    "        if -5 in np.sum(card, 0) or -5 in np.sum(card, 1):\n",
    "            if len(bingo_cards) > 1:\n",
    "                # print(len(bingo_cards))\n",
    "                remove_card = True\n",
    "                cards_to_remove.append(index)\n",
    "            else:\n",
    "                numbers_remaining = np.sum(card) - np.sum(card[card == -1])  # plus 5 due to the marked numbers being -1\n",
    "\n",
    "                board_won = True\n",
    "\n",
    "                print(card)\n",
    "                print(\"numbers remaining\", numbers_remaining)\n",
    "                print(\"number\", number)\n",
    "\n",
    "                print(\"The last board won.\")\n",
    "                print(f\"answer is {numbers_remaining * number}\")\n",
    "                break\n",
    "            \n",
    "    if remove_card:\n",
    "        for i in sorted(cards_to_remove, reverse=True):\n",
    "            bingo_cards.pop(i)\n",
    "        remove_card = False\n",
    "        \n",
    "    if board_won:\n",
    "        break\n",
    "        \n",
    "bingo_cards = [np.copy(array) for array in original_cards]"
   ]
  }
 ],
 "metadata": {
  "kernelspec": {
   "display_name": "Python 3 (ipykernel)",
   "language": "python",
   "name": "python3"
  },
  "language_info": {
   "codemirror_mode": {
    "name": "ipython",
    "version": 3
   },
   "file_extension": ".py",
   "mimetype": "text/x-python",
   "name": "python",
   "nbconvert_exporter": "python",
   "pygments_lexer": "ipython3",
   "version": "3.9.7"
  }
 },
 "nbformat": 4,
 "nbformat_minor": 5
}
